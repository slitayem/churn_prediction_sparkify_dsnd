{
 "cells": [
  {
   "cell_type": "markdown",
   "metadata": {},
   "source": [
    "# Sparkify: Customers Churn prediction\n",
    "\n",
    "![Customers Churn](https://thinkml.ai/content/images/2019/11/image-10.png)\n",
    "\n",
    "## Table of Contents\n",
    "\n",
    "1. [Overview](#overview)\n",
    "2. [Load and Clean Dataset](#load_clean)\n",
    "    1. [Checking for missing values](#check)\n",
    "    2. [Cleaning the data](#clean)\n",
    "3. [Exploratory Data Analysis](#eda)\n",
    "    1. [Descriptive statistics](#stat)\n",
    "    2. [Defining churn indicator](#churn)\n",
    "    2. [Data Exploration](#explore)\n",
    "4. [Feature Engineering](#feature_eng)\n",
    "5. [Modeling](#modeling)\n",
    "6. [Conclusion](#conclusion)"
   ]
  },
  {
   "cell_type": "markdown",
   "metadata": {},
   "source": [
    "## 1. Overview<a id='overview'></a>\n",
    "This notebooks is done in the context of the Capstone project for `Data Science Nanodegree` Program by Udacity.\n",
    "\n",
    "Sparkify is a music streaming service like Spotify and Pandora. The users can use the service either the `Premium`  or the `Free Tier`. The premium plan with the monthly fees payment enables the use of service without any advertisements between songs.\n",
    "\n",
    "The used data contains the user activity logs happening in the service. Those contain visited pages, service upgrade or downgrade events, events timestamps, demographic info, ..."
   ]
  },
  {
   "cell_type": "code",
   "execution_count": 1,
   "metadata": {},
   "outputs": [
    {
     "name": "stdout",
     "output_type": "stream",
     "text": [
      "Requirement already satisfied: pyspark==3.0.0 in /home/wajih/miniconda3/envs/spark/lib/python3.7/site-packages (from -r requirements.txt (line 1)) (3.0.0)\n",
      "Requirement already satisfied: numpy==1.19.1 in /home/wajih/miniconda3/envs/spark/lib/python3.7/site-packages (from -r requirements.txt (line 2)) (1.19.1)\n",
      "Requirement already satisfied: pandas==1.1.0 in /home/wajih/miniconda3/envs/spark/lib/python3.7/site-packages (from -r requirements.txt (line 3)) (1.1.0)\n",
      "Requirement already satisfied: matplotlib==3.3.0 in /home/wajih/miniconda3/envs/spark/lib/python3.7/site-packages (from -r requirements.txt (line 4)) (3.3.0)\n",
      "Requirement already satisfied: seaborn==0.10.1 in /home/wajih/miniconda3/envs/spark/lib/python3.7/site-packages (from -r requirements.txt (line 5)) (0.10.1)\n",
      "Requirement already satisfied: py4j==0.10.9 in /home/wajih/miniconda3/envs/spark/lib/python3.7/site-packages (from pyspark==3.0.0->-r requirements.txt (line 1)) (0.10.9)\n",
      "Requirement already satisfied: pytz>=2017.2 in /home/wajih/miniconda3/envs/spark/lib/python3.7/site-packages (from pandas==1.1.0->-r requirements.txt (line 3)) (2020.1)\n",
      "Requirement already satisfied: python-dateutil>=2.7.3 in /home/wajih/miniconda3/envs/spark/lib/python3.7/site-packages (from pandas==1.1.0->-r requirements.txt (line 3)) (2.8.1)\n",
      "Requirement already satisfied: kiwisolver>=1.0.1 in /home/wajih/miniconda3/envs/spark/lib/python3.7/site-packages (from matplotlib==3.3.0->-r requirements.txt (line 4)) (1.2.0)\n",
      "Requirement already satisfied: pillow>=6.2.0 in /home/wajih/miniconda3/envs/spark/lib/python3.7/site-packages (from matplotlib==3.3.0->-r requirements.txt (line 4)) (7.2.0)\n",
      "Requirement already satisfied: pyparsing!=2.0.4,!=2.1.2,!=2.1.6,>=2.0.3 in /home/wajih/miniconda3/envs/spark/lib/python3.7/site-packages (from matplotlib==3.3.0->-r requirements.txt (line 4)) (2.4.7)\n",
      "Requirement already satisfied: cycler>=0.10 in /home/wajih/miniconda3/envs/spark/lib/python3.7/site-packages (from matplotlib==3.3.0->-r requirements.txt (line 4)) (0.10.0)\n",
      "Requirement already satisfied: scipy>=1.0.1 in /home/wajih/miniconda3/envs/spark/lib/python3.7/site-packages (from seaborn==0.10.1->-r requirements.txt (line 5)) (1.5.2)\n",
      "Requirement already satisfied: six>=1.5 in /home/wajih/miniconda3/envs/spark/lib/python3.7/site-packages (from python-dateutil>=2.7.3->pandas==1.1.0->-r requirements.txt (line 3)) (1.15.0)\n"
     ]
    }
   ],
   "source": [
    "! pip install -r requirements.txt"
   ]
  },
  {
   "cell_type": "code",
   "execution_count": 190,
   "metadata": {},
   "outputs": [],
   "source": [
    "import datetime\n",
    "from time import time\n",
    "import pprint\n",
    "\n",
    "from pyspark.sql import SparkSession\n",
    "from pyspark.sql.functions import isnan, when, count, col, udf\n",
    "# from pyspark.sql.functions import lit, min as Fmin, max as Fmax\n",
    "from pyspark.sql import functions as F\n",
    "from pyspark.sql.types import StringType, DoubleType, LongType, IntegerType, DateType, TimestampType\n",
    "from pyspark.ml.classification import LogisticRegression, DecisionTreeClassifier\n",
    "from pyspark.ml.classification import GBTClassifier, RandomForestClassifier\n",
    "from pyspark.ml.evaluation import MulticlassClassificationEvaluator\n",
    "from pyspark.ml.tuning import CrossValidator, ParamGridBuilder\n",
    "\n",
    "import pandas as pd\n",
    "import matplotlib.pyplot as plt\n",
    "import seaborn as sns\n",
    "import numpy as np\n",
    "\n",
    "spark = SparkSession \\\n",
    "    .builder \\\n",
    "    .appName(\"Sparkify\") \\\n",
    "    .getOrCreate()\n",
    "\n",
    "events_data_path = \"data/mini_sparkify_event_data.json\""
   ]
  },
  {
   "cell_type": "code",
   "execution_count": 3,
   "metadata": {},
   "outputs": [],
   "source": [
    "import warnings\n",
    "warnings.filterwarnings('ignore')\n",
    "%matplotlib inline"
   ]
  },
  {
   "cell_type": "code",
   "execution_count": 192,
   "metadata": {},
   "outputs": [],
   "source": [
    "pp = pprint.PrettyPrinter(indent=4)"
   ]
  },
  {
   "cell_type": "code",
   "execution_count": 4,
   "metadata": {},
   "outputs": [
    {
     "data": {
      "text/plain": [
       "[('spark.driver.host', '192.168.1.176'),\n",
       " ('spark.driver.port', '46853'),\n",
       " ('spark.rdd.compress', 'True'),\n",
       " ('spark.app.id', 'local-1596730654744'),\n",
       " ('spark.app.name', 'Sparkify'),\n",
       " ('spark.serializer.objectStreamReset', '100'),\n",
       " ('spark.master', 'local[*]'),\n",
       " ('spark.submit.pyFiles', ''),\n",
       " ('spark.executor.id', 'driver'),\n",
       " ('spark.submit.deployMode', 'client'),\n",
       " ('spark.ui.showConsoleProgress', 'true')]"
      ]
     },
     "execution_count": 4,
     "metadata": {},
     "output_type": "execute_result"
    }
   ],
   "source": [
    "# Make the output more like pandas and less like command-line SQL\n",
    "spark.sparkContext.getConf().getAll()"
   ]
  },
  {
   "cell_type": "code",
   "execution_count": 5,
   "metadata": {},
   "outputs": [],
   "source": [
    "spark.conf.set('spark.sql.repl.eagerEval.enabled', True)"
   ]
  },
  {
   "cell_type": "code",
   "execution_count": 6,
   "metadata": {},
   "outputs": [
    {
     "data": {
      "text/html": [
       "\n",
       "            <div>\n",
       "                <p><b>SparkSession - in-memory</b></p>\n",
       "                \n",
       "        <div>\n",
       "            <p><b>SparkContext</b></p>\n",
       "\n",
       "            <p><a href=\"http://192.168.1.176:4040\">Spark UI</a></p>\n",
       "\n",
       "            <dl>\n",
       "              <dt>Version</dt>\n",
       "                <dd><code>v3.0.0</code></dd>\n",
       "              <dt>Master</dt>\n",
       "                <dd><code>local[*]</code></dd>\n",
       "              <dt>AppName</dt>\n",
       "                <dd><code>Sparkify</code></dd>\n",
       "            </dl>\n",
       "        </div>\n",
       "        \n",
       "            </div>\n",
       "        "
      ],
      "text/plain": [
       "<pyspark.sql.session.SparkSession at 0x7fc514a6b210>"
      ]
     },
     "execution_count": 6,
     "metadata": {},
     "output_type": "execute_result"
    }
   ],
   "source": [
    "spark"
   ]
  },
  {
   "cell_type": "markdown",
   "metadata": {},
   "source": [
    "# <center> 2. Load and Clean Dataset <a id='load_clean'></a> </center>\n",
    "\n",
    "1. Load the data.\n",
    "2. Check for invalid or missing values e.g. records without userids or sessionids. \n",
    "3. Clean the data"
   ]
  },
  {
   "cell_type": "code",
   "execution_count": 7,
   "metadata": {},
   "outputs": [
    {
     "name": "stdout",
     "output_type": "stream",
     "text": [
      "root\n",
      " |-- artist: string (nullable = true)\n",
      " |-- auth: string (nullable = true)\n",
      " |-- firstName: string (nullable = true)\n",
      " |-- gender: string (nullable = true)\n",
      " |-- itemInSession: long (nullable = true)\n",
      " |-- lastName: string (nullable = true)\n",
      " |-- length: double (nullable = true)\n",
      " |-- level: string (nullable = true)\n",
      " |-- location: string (nullable = true)\n",
      " |-- method: string (nullable = true)\n",
      " |-- page: string (nullable = true)\n",
      " |-- registration: long (nullable = true)\n",
      " |-- sessionId: long (nullable = true)\n",
      " |-- song: string (nullable = true)\n",
      " |-- status: long (nullable = true)\n",
      " |-- ts: long (nullable = true)\n",
      " |-- userAgent: string (nullable = true)\n",
      " |-- userId: string (nullable = true)\n",
      "\n"
     ]
    }
   ],
   "source": [
    "# Load the Sparkify Events data from a JSON file into a Spark DataFrame\n",
    "events_df = spark.read.json(events_data_path)\n",
    "events_df.printSchema()"
   ]
  },
  {
   "cell_type": "code",
   "execution_count": 8,
   "metadata": {},
   "outputs": [
    {
     "name": "stdout",
     "output_type": "stream",
     "text": [
      "Number of rows:  286500\n",
      "Number of columns:  18\n"
     ]
    }
   ],
   "source": [
    "nb_rows = events_df.count()\n",
    "print(\"Number of rows: \", nb_rows)\n",
    "print(\"Number of columns: \", len(events_df.columns))"
   ]
  },
  {
   "cell_type": "markdown",
   "metadata": {},
   "source": [
    "# Checking for missing data<a id='check'></a>"
   ]
  },
  {
   "cell_type": "code",
   "execution_count": 9,
   "metadata": {},
   "outputs": [
    {
     "data": {
      "text/html": [
       "<div>\n",
       "<style scoped>\n",
       "    .dataframe tbody tr th:only-of-type {\n",
       "        vertical-align: middle;\n",
       "    }\n",
       "\n",
       "    .dataframe tbody tr th {\n",
       "        vertical-align: top;\n",
       "    }\n",
       "\n",
       "    .dataframe thead th {\n",
       "        text-align: right;\n",
       "    }\n",
       "</style>\n",
       "<table border=\"1\" class=\"dataframe\">\n",
       "  <thead>\n",
       "    <tr style=\"text-align: right;\">\n",
       "      <th></th>\n",
       "      <th>0</th>\n",
       "    </tr>\n",
       "  </thead>\n",
       "  <tbody>\n",
       "    <tr>\n",
       "      <th>artist</th>\n",
       "      <td>0</td>\n",
       "    </tr>\n",
       "    <tr>\n",
       "      <th>auth</th>\n",
       "      <td>0</td>\n",
       "    </tr>\n",
       "    <tr>\n",
       "      <th>firstName</th>\n",
       "      <td>0</td>\n",
       "    </tr>\n",
       "    <tr>\n",
       "      <th>gender</th>\n",
       "      <td>0</td>\n",
       "    </tr>\n",
       "    <tr>\n",
       "      <th>itemInSession</th>\n",
       "      <td>0</td>\n",
       "    </tr>\n",
       "    <tr>\n",
       "      <th>lastName</th>\n",
       "      <td>0</td>\n",
       "    </tr>\n",
       "    <tr>\n",
       "      <th>length</th>\n",
       "      <td>0</td>\n",
       "    </tr>\n",
       "    <tr>\n",
       "      <th>level</th>\n",
       "      <td>0</td>\n",
       "    </tr>\n",
       "    <tr>\n",
       "      <th>location</th>\n",
       "      <td>0</td>\n",
       "    </tr>\n",
       "    <tr>\n",
       "      <th>method</th>\n",
       "      <td>0</td>\n",
       "    </tr>\n",
       "    <tr>\n",
       "      <th>page</th>\n",
       "      <td>0</td>\n",
       "    </tr>\n",
       "    <tr>\n",
       "      <th>registration</th>\n",
       "      <td>0</td>\n",
       "    </tr>\n",
       "    <tr>\n",
       "      <th>sessionId</th>\n",
       "      <td>0</td>\n",
       "    </tr>\n",
       "    <tr>\n",
       "      <th>song</th>\n",
       "      <td>0</td>\n",
       "    </tr>\n",
       "    <tr>\n",
       "      <th>status</th>\n",
       "      <td>0</td>\n",
       "    </tr>\n",
       "    <tr>\n",
       "      <th>ts</th>\n",
       "      <td>0</td>\n",
       "    </tr>\n",
       "    <tr>\n",
       "      <th>userAgent</th>\n",
       "      <td>0</td>\n",
       "    </tr>\n",
       "    <tr>\n",
       "      <th>userId</th>\n",
       "      <td>0</td>\n",
       "    </tr>\n",
       "  </tbody>\n",
       "</table>\n",
       "</div>"
      ],
      "text/plain": [
       "               0\n",
       "artist         0\n",
       "auth           0\n",
       "firstName      0\n",
       "gender         0\n",
       "itemInSession  0\n",
       "lastName       0\n",
       "length         0\n",
       "level          0\n",
       "location       0\n",
       "method         0\n",
       "page           0\n",
       "registration   0\n",
       "sessionId      0\n",
       "song           0\n",
       "status         0\n",
       "ts             0\n",
       "userAgent      0\n",
       "userId         0"
      ]
     },
     "execution_count": 9,
     "metadata": {},
     "output_type": "execute_result"
    }
   ],
   "source": [
    "events_df.select([count(when(isnan(c), c)).alias(c) for c in events_df.columns]).toPandas().T"
   ]
  },
  {
   "cell_type": "markdown",
   "metadata": {},
   "source": [
    "The data set has no NaNs. In PySpark NaN is not the same as Null. Both of these are also different than an empty string \"\". So we check also Null values."
   ]
  },
  {
   "cell_type": "code",
   "execution_count": 10,
   "metadata": {},
   "outputs": [
    {
     "data": {
      "text/html": [
       "<div>\n",
       "<style scoped>\n",
       "    .dataframe tbody tr th:only-of-type {\n",
       "        vertical-align: middle;\n",
       "    }\n",
       "\n",
       "    .dataframe tbody tr th {\n",
       "        vertical-align: top;\n",
       "    }\n",
       "\n",
       "    .dataframe thead th {\n",
       "        text-align: right;\n",
       "    }\n",
       "</style>\n",
       "<table border=\"1\" class=\"dataframe\">\n",
       "  <thead>\n",
       "    <tr style=\"text-align: right;\">\n",
       "      <th></th>\n",
       "      <th>0</th>\n",
       "    </tr>\n",
       "  </thead>\n",
       "  <tbody>\n",
       "    <tr>\n",
       "      <th>artist</th>\n",
       "      <td>58392</td>\n",
       "    </tr>\n",
       "    <tr>\n",
       "      <th>auth</th>\n",
       "      <td>0</td>\n",
       "    </tr>\n",
       "    <tr>\n",
       "      <th>firstName</th>\n",
       "      <td>8346</td>\n",
       "    </tr>\n",
       "    <tr>\n",
       "      <th>gender</th>\n",
       "      <td>8346</td>\n",
       "    </tr>\n",
       "    <tr>\n",
       "      <th>itemInSession</th>\n",
       "      <td>0</td>\n",
       "    </tr>\n",
       "    <tr>\n",
       "      <th>lastName</th>\n",
       "      <td>8346</td>\n",
       "    </tr>\n",
       "    <tr>\n",
       "      <th>length</th>\n",
       "      <td>58392</td>\n",
       "    </tr>\n",
       "    <tr>\n",
       "      <th>level</th>\n",
       "      <td>0</td>\n",
       "    </tr>\n",
       "    <tr>\n",
       "      <th>location</th>\n",
       "      <td>8346</td>\n",
       "    </tr>\n",
       "    <tr>\n",
       "      <th>method</th>\n",
       "      <td>0</td>\n",
       "    </tr>\n",
       "    <tr>\n",
       "      <th>page</th>\n",
       "      <td>0</td>\n",
       "    </tr>\n",
       "    <tr>\n",
       "      <th>registration</th>\n",
       "      <td>8346</td>\n",
       "    </tr>\n",
       "    <tr>\n",
       "      <th>sessionId</th>\n",
       "      <td>0</td>\n",
       "    </tr>\n",
       "    <tr>\n",
       "      <th>song</th>\n",
       "      <td>58392</td>\n",
       "    </tr>\n",
       "    <tr>\n",
       "      <th>status</th>\n",
       "      <td>0</td>\n",
       "    </tr>\n",
       "    <tr>\n",
       "      <th>ts</th>\n",
       "      <td>0</td>\n",
       "    </tr>\n",
       "    <tr>\n",
       "      <th>userAgent</th>\n",
       "      <td>8346</td>\n",
       "    </tr>\n",
       "    <tr>\n",
       "      <th>userId</th>\n",
       "      <td>0</td>\n",
       "    </tr>\n",
       "  </tbody>\n",
       "</table>\n",
       "</div>"
      ],
      "text/plain": [
       "                   0\n",
       "artist         58392\n",
       "auth               0\n",
       "firstName       8346\n",
       "gender          8346\n",
       "itemInSession      0\n",
       "lastName        8346\n",
       "length         58392\n",
       "level              0\n",
       "location        8346\n",
       "method             0\n",
       "page               0\n",
       "registration    8346\n",
       "sessionId          0\n",
       "song           58392\n",
       "status             0\n",
       "ts                 0\n",
       "userAgent       8346\n",
       "userId             0"
      ]
     },
     "execution_count": 10,
     "metadata": {},
     "output_type": "execute_result"
    }
   ],
   "source": [
    "null_counts = events_df.select([\n",
    "    count(when(col(column_name).isNull(), column_name)).alias(column_name)\n",
    "        for column_name in events_df.columns\n",
    "    ]).toPandas().T\n",
    "null_counts"
   ]
  },
  {
   "cell_type": "markdown",
   "metadata": {},
   "source": [
    "It appears that there are some users with misssing registration field, firstName and lastName. This might be related to non registered users."
   ]
  },
  {
   "cell_type": "markdown",
   "metadata": {},
   "source": [
    "### Checking rows with Null value in all columns"
   ]
  },
  {
   "cell_type": "code",
   "execution_count": 11,
   "metadata": {},
   "outputs": [
    {
     "data": {
      "text/plain": [
       "286500"
      ]
     },
     "execution_count": 11,
     "metadata": {},
     "output_type": "execute_result"
    }
   ],
   "source": [
    "events_df.na.drop(how=\"all\").count()"
   ]
  },
  {
   "cell_type": "markdown",
   "metadata": {},
   "source": [
    "It appears that there is no row with Null value in all columns "
   ]
  },
  {
   "cell_type": "markdown",
   "metadata": {},
   "source": [
    "### Check empty user IDs and sessionID\n",
    "\n",
    "Regardless of the reason (logged out, unregistered...), empty userIds and sessionIds are useless for the purpose of detecting potentially churning users, so we can drop the corresponding records."
   ]
  },
  {
   "cell_type": "code",
   "execution_count": 12,
   "metadata": {},
   "outputs": [
    {
     "data": {
      "text/plain": [
       "8346"
      ]
     },
     "execution_count": 12,
     "metadata": {},
     "output_type": "execute_result"
    }
   ],
   "source": [
    "events_df.filter((\n",
    "    events_df[\"userId\"] == \"\") | events_df[\"userId\"].isNull() | isnan(events_df[\"userId\"])).count()"
   ]
  },
  {
   "cell_type": "code",
   "execution_count": 13,
   "metadata": {},
   "outputs": [
    {
     "data": {
      "text/plain": [
       "286500"
      ]
     },
     "execution_count": 13,
     "metadata": {},
     "output_type": "execute_result"
    }
   ],
   "source": [
    "events_df.filter((\n",
    "    events_df[\"sessionId\"] == \"\") | events_df[\"sessionId\"].isNull() | isnan(events_df[\"sessionId\"])).count()\n",
    "events_df.dropna(how = 'any', subset = ['userId', 'sessionId'])\n",
    "events_df.count()"
   ]
  },
  {
   "cell_type": "markdown",
   "metadata": {},
   "source": [
    "Checking for empty sessionId values shows that there are no missing values for sessionId column"
   ]
  },
  {
   "cell_type": "markdown",
   "metadata": {},
   "source": [
    "### Number of distinct users"
   ]
  },
  {
   "cell_type": "code",
   "execution_count": 14,
   "metadata": {},
   "outputs": [
    {
     "data": {
      "text/plain": [
       "225"
      ]
     },
     "execution_count": 14,
     "metadata": {},
     "output_type": "execute_result"
    }
   ],
   "source": [
    "events_df = events_df.filter(events_df.userId != '')\n",
    "events_df.select('userId').distinct().count()"
   ]
  },
  {
   "cell_type": "markdown",
   "metadata": {},
   "source": [
    "### Check for Duplicated events logs\n",
    "Comparing events_df.count() to events_df.distinct().count() shows that there are no duplicates"
   ]
  },
  {
   "cell_type": "code",
   "execution_count": 15,
   "metadata": {},
   "outputs": [
    {
     "data": {
      "text/plain": [
       "278154"
      ]
     },
     "execution_count": 15,
     "metadata": {},
     "output_type": "execute_result"
    }
   ],
   "source": [
    "events_df.distinct().count()"
   ]
  },
  {
   "cell_type": "markdown",
   "metadata": {},
   "source": [
    "## Cleaning the data <a id='clean'></a>"
   ]
  },
  {
   "cell_type": "code",
   "execution_count": 16,
   "metadata": {},
   "outputs": [],
   "source": [
    "def load_and_clean_data(events_data_path):\n",
    "    \"\"\"\n",
    "    Args:\n",
    "        df: Spark DataFrame\n",
    "    Return:\n",
    "        preprocessed Spark DataFrame\n",
    "    \"\"\"\n",
    "    df = spark.read.json(events_data_path)\n",
    "\n",
    "    df = df.withColumn('event_time', F.from_unixtime(col('ts')\\\n",
    "                        .cast(LongType()) / 1000).cast(TimestampType()))\n",
    "    df = df.withColumn('month', F.month(col('event_time')))\n",
    "    df = df.withColumn('weekofyear', F.weekofyear(col('event_time')))\n",
    "    df = df.withColumn('year', F.year(col('event_time')))\n",
    "    df = df.withColumn('date', F.from_unixtime(col('ts') / 1000).cast(DateType()))\n",
    "\n",
    "    df = df.filter(df.userId != '')\n",
    "    return df"
   ]
  },
  {
   "cell_type": "code",
   "execution_count": 17,
   "metadata": {},
   "outputs": [
    {
     "data": {
      "text/plain": [
       "278154"
      ]
     },
     "execution_count": 17,
     "metadata": {},
     "output_type": "execute_result"
    }
   ],
   "source": [
    "events_df = load_and_clean_data(events_data_path)\n",
    "events_df.count()"
   ]
  },
  {
   "cell_type": "code",
   "execution_count": 18,
   "metadata": {},
   "outputs": [
    {
     "data": {
      "text/html": [
       "<div>\n",
       "<style scoped>\n",
       "    .dataframe tbody tr th:only-of-type {\n",
       "        vertical-align: middle;\n",
       "    }\n",
       "\n",
       "    .dataframe tbody tr th {\n",
       "        vertical-align: top;\n",
       "    }\n",
       "\n",
       "    .dataframe thead th {\n",
       "        text-align: right;\n",
       "    }\n",
       "</style>\n",
       "<table border=\"1\" class=\"dataframe\">\n",
       "  <thead>\n",
       "    <tr style=\"text-align: right;\">\n",
       "      <th></th>\n",
       "      <th>artist</th>\n",
       "      <th>auth</th>\n",
       "      <th>firstName</th>\n",
       "      <th>gender</th>\n",
       "      <th>itemInSession</th>\n",
       "      <th>lastName</th>\n",
       "      <th>length</th>\n",
       "      <th>level</th>\n",
       "      <th>location</th>\n",
       "      <th>method</th>\n",
       "      <th>...</th>\n",
       "      <th>song</th>\n",
       "      <th>status</th>\n",
       "      <th>ts</th>\n",
       "      <th>userAgent</th>\n",
       "      <th>userId</th>\n",
       "      <th>event_time</th>\n",
       "      <th>month</th>\n",
       "      <th>weekofyear</th>\n",
       "      <th>year</th>\n",
       "      <th>date</th>\n",
       "    </tr>\n",
       "  </thead>\n",
       "  <tbody>\n",
       "    <tr>\n",
       "      <th>0</th>\n",
       "      <td>Martha Tilston</td>\n",
       "      <td>Logged In</td>\n",
       "      <td>Colin</td>\n",
       "      <td>M</td>\n",
       "      <td>50</td>\n",
       "      <td>Freeman</td>\n",
       "      <td>277.89016</td>\n",
       "      <td>paid</td>\n",
       "      <td>Bakersfield, CA</td>\n",
       "      <td>PUT</td>\n",
       "      <td>...</td>\n",
       "      <td>Rockpools</td>\n",
       "      <td>200</td>\n",
       "      <td>1538352117000</td>\n",
       "      <td>Mozilla/5.0 (Windows NT 6.1; WOW64; rv:31.0) G...</td>\n",
       "      <td>30</td>\n",
       "      <td>2018-10-01 02:01:57</td>\n",
       "      <td>10</td>\n",
       "      <td>40</td>\n",
       "      <td>2018</td>\n",
       "      <td>2018-10-01</td>\n",
       "    </tr>\n",
       "    <tr>\n",
       "      <th>1</th>\n",
       "      <td>Five Iron Frenzy</td>\n",
       "      <td>Logged In</td>\n",
       "      <td>Micah</td>\n",
       "      <td>M</td>\n",
       "      <td>79</td>\n",
       "      <td>Long</td>\n",
       "      <td>236.09424</td>\n",
       "      <td>free</td>\n",
       "      <td>Boston-Cambridge-Newton, MA-NH</td>\n",
       "      <td>PUT</td>\n",
       "      <td>...</td>\n",
       "      <td>Canada</td>\n",
       "      <td>200</td>\n",
       "      <td>1538352180000</td>\n",
       "      <td>\"Mozilla/5.0 (Windows NT 6.1; WOW64) AppleWebK...</td>\n",
       "      <td>9</td>\n",
       "      <td>2018-10-01 02:03:00</td>\n",
       "      <td>10</td>\n",
       "      <td>40</td>\n",
       "      <td>2018</td>\n",
       "      <td>2018-10-01</td>\n",
       "    </tr>\n",
       "    <tr>\n",
       "      <th>2</th>\n",
       "      <td>Adam Lambert</td>\n",
       "      <td>Logged In</td>\n",
       "      <td>Colin</td>\n",
       "      <td>M</td>\n",
       "      <td>51</td>\n",
       "      <td>Freeman</td>\n",
       "      <td>282.82730</td>\n",
       "      <td>paid</td>\n",
       "      <td>Bakersfield, CA</td>\n",
       "      <td>PUT</td>\n",
       "      <td>...</td>\n",
       "      <td>Time For Miracles</td>\n",
       "      <td>200</td>\n",
       "      <td>1538352394000</td>\n",
       "      <td>Mozilla/5.0 (Windows NT 6.1; WOW64; rv:31.0) G...</td>\n",
       "      <td>30</td>\n",
       "      <td>2018-10-01 02:06:34</td>\n",
       "      <td>10</td>\n",
       "      <td>40</td>\n",
       "      <td>2018</td>\n",
       "      <td>2018-10-01</td>\n",
       "    </tr>\n",
       "    <tr>\n",
       "      <th>3</th>\n",
       "      <td>Enigma</td>\n",
       "      <td>Logged In</td>\n",
       "      <td>Micah</td>\n",
       "      <td>M</td>\n",
       "      <td>80</td>\n",
       "      <td>Long</td>\n",
       "      <td>262.71302</td>\n",
       "      <td>free</td>\n",
       "      <td>Boston-Cambridge-Newton, MA-NH</td>\n",
       "      <td>PUT</td>\n",
       "      <td>...</td>\n",
       "      <td>Knocking On Forbidden Doors</td>\n",
       "      <td>200</td>\n",
       "      <td>1538352416000</td>\n",
       "      <td>\"Mozilla/5.0 (Windows NT 6.1; WOW64) AppleWebK...</td>\n",
       "      <td>9</td>\n",
       "      <td>2018-10-01 02:06:56</td>\n",
       "      <td>10</td>\n",
       "      <td>40</td>\n",
       "      <td>2018</td>\n",
       "      <td>2018-10-01</td>\n",
       "    </tr>\n",
       "    <tr>\n",
       "      <th>4</th>\n",
       "      <td>Daft Punk</td>\n",
       "      <td>Logged In</td>\n",
       "      <td>Colin</td>\n",
       "      <td>M</td>\n",
       "      <td>52</td>\n",
       "      <td>Freeman</td>\n",
       "      <td>223.60771</td>\n",
       "      <td>paid</td>\n",
       "      <td>Bakersfield, CA</td>\n",
       "      <td>PUT</td>\n",
       "      <td>...</td>\n",
       "      <td>Harder Better Faster Stronger</td>\n",
       "      <td>200</td>\n",
       "      <td>1538352676000</td>\n",
       "      <td>Mozilla/5.0 (Windows NT 6.1; WOW64; rv:31.0) G...</td>\n",
       "      <td>30</td>\n",
       "      <td>2018-10-01 02:11:16</td>\n",
       "      <td>10</td>\n",
       "      <td>40</td>\n",
       "      <td>2018</td>\n",
       "      <td>2018-10-01</td>\n",
       "    </tr>\n",
       "  </tbody>\n",
       "</table>\n",
       "<p>5 rows × 23 columns</p>\n",
       "</div>"
      ],
      "text/plain": [
       "             artist       auth firstName gender  itemInSession lastName  \\\n",
       "0    Martha Tilston  Logged In     Colin      M             50  Freeman   \n",
       "1  Five Iron Frenzy  Logged In     Micah      M             79     Long   \n",
       "2      Adam Lambert  Logged In     Colin      M             51  Freeman   \n",
       "3            Enigma  Logged In     Micah      M             80     Long   \n",
       "4         Daft Punk  Logged In     Colin      M             52  Freeman   \n",
       "\n",
       "      length level                        location method  ...  \\\n",
       "0  277.89016  paid                 Bakersfield, CA    PUT  ...   \n",
       "1  236.09424  free  Boston-Cambridge-Newton, MA-NH    PUT  ...   \n",
       "2  282.82730  paid                 Bakersfield, CA    PUT  ...   \n",
       "3  262.71302  free  Boston-Cambridge-Newton, MA-NH    PUT  ...   \n",
       "4  223.60771  paid                 Bakersfield, CA    PUT  ...   \n",
       "\n",
       "                            song  status             ts  \\\n",
       "0                      Rockpools     200  1538352117000   \n",
       "1                         Canada     200  1538352180000   \n",
       "2              Time For Miracles     200  1538352394000   \n",
       "3    Knocking On Forbidden Doors     200  1538352416000   \n",
       "4  Harder Better Faster Stronger     200  1538352676000   \n",
       "\n",
       "                                           userAgent  userId  \\\n",
       "0  Mozilla/5.0 (Windows NT 6.1; WOW64; rv:31.0) G...      30   \n",
       "1  \"Mozilla/5.0 (Windows NT 6.1; WOW64) AppleWebK...       9   \n",
       "2  Mozilla/5.0 (Windows NT 6.1; WOW64; rv:31.0) G...      30   \n",
       "3  \"Mozilla/5.0 (Windows NT 6.1; WOW64) AppleWebK...       9   \n",
       "4  Mozilla/5.0 (Windows NT 6.1; WOW64; rv:31.0) G...      30   \n",
       "\n",
       "           event_time month weekofyear  year        date  \n",
       "0 2018-10-01 02:01:57    10         40  2018  2018-10-01  \n",
       "1 2018-10-01 02:03:00    10         40  2018  2018-10-01  \n",
       "2 2018-10-01 02:06:34    10         40  2018  2018-10-01  \n",
       "3 2018-10-01 02:06:56    10         40  2018  2018-10-01  \n",
       "4 2018-10-01 02:11:16    10         40  2018  2018-10-01  \n",
       "\n",
       "[5 rows x 23 columns]"
      ]
     },
     "execution_count": 18,
     "metadata": {},
     "output_type": "execute_result"
    }
   ],
   "source": [
    "pd.DataFrame(events_df.take(5), columns=events_df.columns).head()"
   ]
  },
  {
   "cell_type": "code",
   "execution_count": 19,
   "metadata": {},
   "outputs": [
    {
     "data": {
      "text/plain": [
       "278154"
      ]
     },
     "execution_count": 19,
     "metadata": {},
     "output_type": "execute_result"
    }
   ],
   "source": [
    "events_df.count()"
   ]
  },
  {
   "cell_type": "markdown",
   "metadata": {},
   "source": [
    "### Let's check some of the empty fields e.g. registration, gender, ..."
   ]
  },
  {
   "cell_type": "code",
   "execution_count": 20,
   "metadata": {},
   "outputs": [
    {
     "data": {
      "text/html": [
       "<div>\n",
       "<style scoped>\n",
       "    .dataframe tbody tr th:only-of-type {\n",
       "        vertical-align: middle;\n",
       "    }\n",
       "\n",
       "    .dataframe tbody tr th {\n",
       "        vertical-align: top;\n",
       "    }\n",
       "\n",
       "    .dataframe thead th {\n",
       "        text-align: right;\n",
       "    }\n",
       "</style>\n",
       "<table border=\"1\" class=\"dataframe\">\n",
       "  <thead>\n",
       "    <tr style=\"text-align: right;\">\n",
       "      <th></th>\n",
       "      <th>0</th>\n",
       "    </tr>\n",
       "  </thead>\n",
       "  <tbody>\n",
       "    <tr>\n",
       "      <th>artist</th>\n",
       "      <td>50046</td>\n",
       "    </tr>\n",
       "    <tr>\n",
       "      <th>auth</th>\n",
       "      <td>0</td>\n",
       "    </tr>\n",
       "    <tr>\n",
       "      <th>firstName</th>\n",
       "      <td>0</td>\n",
       "    </tr>\n",
       "    <tr>\n",
       "      <th>gender</th>\n",
       "      <td>0</td>\n",
       "    </tr>\n",
       "    <tr>\n",
       "      <th>itemInSession</th>\n",
       "      <td>0</td>\n",
       "    </tr>\n",
       "    <tr>\n",
       "      <th>lastName</th>\n",
       "      <td>0</td>\n",
       "    </tr>\n",
       "    <tr>\n",
       "      <th>length</th>\n",
       "      <td>50046</td>\n",
       "    </tr>\n",
       "    <tr>\n",
       "      <th>level</th>\n",
       "      <td>0</td>\n",
       "    </tr>\n",
       "    <tr>\n",
       "      <th>location</th>\n",
       "      <td>0</td>\n",
       "    </tr>\n",
       "    <tr>\n",
       "      <th>method</th>\n",
       "      <td>0</td>\n",
       "    </tr>\n",
       "    <tr>\n",
       "      <th>page</th>\n",
       "      <td>0</td>\n",
       "    </tr>\n",
       "    <tr>\n",
       "      <th>registration</th>\n",
       "      <td>0</td>\n",
       "    </tr>\n",
       "    <tr>\n",
       "      <th>sessionId</th>\n",
       "      <td>0</td>\n",
       "    </tr>\n",
       "    <tr>\n",
       "      <th>song</th>\n",
       "      <td>50046</td>\n",
       "    </tr>\n",
       "    <tr>\n",
       "      <th>status</th>\n",
       "      <td>0</td>\n",
       "    </tr>\n",
       "    <tr>\n",
       "      <th>ts</th>\n",
       "      <td>0</td>\n",
       "    </tr>\n",
       "    <tr>\n",
       "      <th>userAgent</th>\n",
       "      <td>0</td>\n",
       "    </tr>\n",
       "    <tr>\n",
       "      <th>userId</th>\n",
       "      <td>0</td>\n",
       "    </tr>\n",
       "    <tr>\n",
       "      <th>event_time</th>\n",
       "      <td>0</td>\n",
       "    </tr>\n",
       "    <tr>\n",
       "      <th>month</th>\n",
       "      <td>0</td>\n",
       "    </tr>\n",
       "    <tr>\n",
       "      <th>weekofyear</th>\n",
       "      <td>0</td>\n",
       "    </tr>\n",
       "    <tr>\n",
       "      <th>year</th>\n",
       "      <td>0</td>\n",
       "    </tr>\n",
       "    <tr>\n",
       "      <th>date</th>\n",
       "      <td>0</td>\n",
       "    </tr>\n",
       "  </tbody>\n",
       "</table>\n",
       "</div>"
      ],
      "text/plain": [
       "                   0\n",
       "artist         50046\n",
       "auth               0\n",
       "firstName          0\n",
       "gender             0\n",
       "itemInSession      0\n",
       "lastName           0\n",
       "length         50046\n",
       "level              0\n",
       "location           0\n",
       "method             0\n",
       "page               0\n",
       "registration       0\n",
       "sessionId          0\n",
       "song           50046\n",
       "status             0\n",
       "ts                 0\n",
       "userAgent          0\n",
       "userId             0\n",
       "event_time         0\n",
       "month              0\n",
       "weekofyear         0\n",
       "year               0\n",
       "date               0"
      ]
     },
     "execution_count": 20,
     "metadata": {},
     "output_type": "execute_result"
    }
   ],
   "source": [
    "null_counts = events_df.select([count(when(col(column_name).isNull(), column_name)).alias(column_name) for column_name in \n",
    "           events_df.columns]).toPandas().T\n",
    "null_counts"
   ]
  },
  {
   "cell_type": "markdown",
   "metadata": {},
   "source": [
    "<div class=\"alert alert-block alert-warning\">\n",
    "It appears that the rows with missing values where related to the log events with no userId\n",
    "</div>"
   ]
  },
  {
   "cell_type": "code",
   "execution_count": 21,
   "metadata": {},
   "outputs": [
    {
     "data": {
      "text/html": [
       "<div>\n",
       "<style scoped>\n",
       "    .dataframe tbody tr th:only-of-type {\n",
       "        vertical-align: middle;\n",
       "    }\n",
       "\n",
       "    .dataframe tbody tr th {\n",
       "        vertical-align: top;\n",
       "    }\n",
       "\n",
       "    .dataframe thead th {\n",
       "        text-align: right;\n",
       "    }\n",
       "</style>\n",
       "<table border=\"1\" class=\"dataframe\">\n",
       "  <thead>\n",
       "    <tr style=\"text-align: right;\">\n",
       "      <th></th>\n",
       "      <th>artist</th>\n",
       "      <th>auth</th>\n",
       "      <th>firstName</th>\n",
       "      <th>gender</th>\n",
       "      <th>itemInSession</th>\n",
       "      <th>lastName</th>\n",
       "      <th>length</th>\n",
       "      <th>level</th>\n",
       "      <th>location</th>\n",
       "      <th>method</th>\n",
       "      <th>...</th>\n",
       "      <th>song</th>\n",
       "      <th>status</th>\n",
       "      <th>ts</th>\n",
       "      <th>userAgent</th>\n",
       "      <th>userId</th>\n",
       "      <th>event_time</th>\n",
       "      <th>month</th>\n",
       "      <th>weekofyear</th>\n",
       "      <th>year</th>\n",
       "      <th>date</th>\n",
       "    </tr>\n",
       "  </thead>\n",
       "  <tbody>\n",
       "    <tr>\n",
       "      <th>0</th>\n",
       "      <td>Martha Tilston</td>\n",
       "      <td>Logged In</td>\n",
       "      <td>Colin</td>\n",
       "      <td>M</td>\n",
       "      <td>50</td>\n",
       "      <td>Freeman</td>\n",
       "      <td>277.89016</td>\n",
       "      <td>paid</td>\n",
       "      <td>Bakersfield, CA</td>\n",
       "      <td>PUT</td>\n",
       "      <td>...</td>\n",
       "      <td>Rockpools</td>\n",
       "      <td>200</td>\n",
       "      <td>1538352117000</td>\n",
       "      <td>Mozilla/5.0 (Windows NT 6.1; WOW64; rv:31.0) G...</td>\n",
       "      <td>30</td>\n",
       "      <td>2018-10-01 02:01:57</td>\n",
       "      <td>10</td>\n",
       "      <td>40</td>\n",
       "      <td>2018</td>\n",
       "      <td>2018-10-01</td>\n",
       "    </tr>\n",
       "    <tr>\n",
       "      <th>1</th>\n",
       "      <td>Five Iron Frenzy</td>\n",
       "      <td>Logged In</td>\n",
       "      <td>Micah</td>\n",
       "      <td>M</td>\n",
       "      <td>79</td>\n",
       "      <td>Long</td>\n",
       "      <td>236.09424</td>\n",
       "      <td>free</td>\n",
       "      <td>Boston-Cambridge-Newton, MA-NH</td>\n",
       "      <td>PUT</td>\n",
       "      <td>...</td>\n",
       "      <td>Canada</td>\n",
       "      <td>200</td>\n",
       "      <td>1538352180000</td>\n",
       "      <td>\"Mozilla/5.0 (Windows NT 6.1; WOW64) AppleWebK...</td>\n",
       "      <td>9</td>\n",
       "      <td>2018-10-01 02:03:00</td>\n",
       "      <td>10</td>\n",
       "      <td>40</td>\n",
       "      <td>2018</td>\n",
       "      <td>2018-10-01</td>\n",
       "    </tr>\n",
       "    <tr>\n",
       "      <th>2</th>\n",
       "      <td>Adam Lambert</td>\n",
       "      <td>Logged In</td>\n",
       "      <td>Colin</td>\n",
       "      <td>M</td>\n",
       "      <td>51</td>\n",
       "      <td>Freeman</td>\n",
       "      <td>282.82730</td>\n",
       "      <td>paid</td>\n",
       "      <td>Bakersfield, CA</td>\n",
       "      <td>PUT</td>\n",
       "      <td>...</td>\n",
       "      <td>Time For Miracles</td>\n",
       "      <td>200</td>\n",
       "      <td>1538352394000</td>\n",
       "      <td>Mozilla/5.0 (Windows NT 6.1; WOW64; rv:31.0) G...</td>\n",
       "      <td>30</td>\n",
       "      <td>2018-10-01 02:06:34</td>\n",
       "      <td>10</td>\n",
       "      <td>40</td>\n",
       "      <td>2018</td>\n",
       "      <td>2018-10-01</td>\n",
       "    </tr>\n",
       "    <tr>\n",
       "      <th>3</th>\n",
       "      <td>Enigma</td>\n",
       "      <td>Logged In</td>\n",
       "      <td>Micah</td>\n",
       "      <td>M</td>\n",
       "      <td>80</td>\n",
       "      <td>Long</td>\n",
       "      <td>262.71302</td>\n",
       "      <td>free</td>\n",
       "      <td>Boston-Cambridge-Newton, MA-NH</td>\n",
       "      <td>PUT</td>\n",
       "      <td>...</td>\n",
       "      <td>Knocking On Forbidden Doors</td>\n",
       "      <td>200</td>\n",
       "      <td>1538352416000</td>\n",
       "      <td>\"Mozilla/5.0 (Windows NT 6.1; WOW64) AppleWebK...</td>\n",
       "      <td>9</td>\n",
       "      <td>2018-10-01 02:06:56</td>\n",
       "      <td>10</td>\n",
       "      <td>40</td>\n",
       "      <td>2018</td>\n",
       "      <td>2018-10-01</td>\n",
       "    </tr>\n",
       "    <tr>\n",
       "      <th>4</th>\n",
       "      <td>Daft Punk</td>\n",
       "      <td>Logged In</td>\n",
       "      <td>Colin</td>\n",
       "      <td>M</td>\n",
       "      <td>52</td>\n",
       "      <td>Freeman</td>\n",
       "      <td>223.60771</td>\n",
       "      <td>paid</td>\n",
       "      <td>Bakersfield, CA</td>\n",
       "      <td>PUT</td>\n",
       "      <td>...</td>\n",
       "      <td>Harder Better Faster Stronger</td>\n",
       "      <td>200</td>\n",
       "      <td>1538352676000</td>\n",
       "      <td>Mozilla/5.0 (Windows NT 6.1; WOW64; rv:31.0) G...</td>\n",
       "      <td>30</td>\n",
       "      <td>2018-10-01 02:11:16</td>\n",
       "      <td>10</td>\n",
       "      <td>40</td>\n",
       "      <td>2018</td>\n",
       "      <td>2018-10-01</td>\n",
       "    </tr>\n",
       "  </tbody>\n",
       "</table>\n",
       "<p>5 rows × 23 columns</p>\n",
       "</div>"
      ],
      "text/plain": [
       "             artist       auth firstName gender  itemInSession lastName  \\\n",
       "0    Martha Tilston  Logged In     Colin      M             50  Freeman   \n",
       "1  Five Iron Frenzy  Logged In     Micah      M             79     Long   \n",
       "2      Adam Lambert  Logged In     Colin      M             51  Freeman   \n",
       "3            Enigma  Logged In     Micah      M             80     Long   \n",
       "4         Daft Punk  Logged In     Colin      M             52  Freeman   \n",
       "\n",
       "      length level                        location method  ...  \\\n",
       "0  277.89016  paid                 Bakersfield, CA    PUT  ...   \n",
       "1  236.09424  free  Boston-Cambridge-Newton, MA-NH    PUT  ...   \n",
       "2  282.82730  paid                 Bakersfield, CA    PUT  ...   \n",
       "3  262.71302  free  Boston-Cambridge-Newton, MA-NH    PUT  ...   \n",
       "4  223.60771  paid                 Bakersfield, CA    PUT  ...   \n",
       "\n",
       "                            song  status             ts  \\\n",
       "0                      Rockpools     200  1538352117000   \n",
       "1                         Canada     200  1538352180000   \n",
       "2              Time For Miracles     200  1538352394000   \n",
       "3    Knocking On Forbidden Doors     200  1538352416000   \n",
       "4  Harder Better Faster Stronger     200  1538352676000   \n",
       "\n",
       "                                           userAgent  userId  \\\n",
       "0  Mozilla/5.0 (Windows NT 6.1; WOW64; rv:31.0) G...      30   \n",
       "1  \"Mozilla/5.0 (Windows NT 6.1; WOW64) AppleWebK...       9   \n",
       "2  Mozilla/5.0 (Windows NT 6.1; WOW64; rv:31.0) G...      30   \n",
       "3  \"Mozilla/5.0 (Windows NT 6.1; WOW64) AppleWebK...       9   \n",
       "4  Mozilla/5.0 (Windows NT 6.1; WOW64; rv:31.0) G...      30   \n",
       "\n",
       "           event_time month weekofyear  year        date  \n",
       "0 2018-10-01 02:01:57    10         40  2018  2018-10-01  \n",
       "1 2018-10-01 02:03:00    10         40  2018  2018-10-01  \n",
       "2 2018-10-01 02:06:34    10         40  2018  2018-10-01  \n",
       "3 2018-10-01 02:06:56    10         40  2018  2018-10-01  \n",
       "4 2018-10-01 02:11:16    10         40  2018  2018-10-01  \n",
       "\n",
       "[5 rows x 23 columns]"
      ]
     },
     "execution_count": 21,
     "metadata": {},
     "output_type": "execute_result"
    }
   ],
   "source": [
    "pd.DataFrame(events_df.take(5), columns=events_df.columns).head()"
   ]
  },
  {
   "cell_type": "markdown",
   "metadata": {},
   "source": [
    "#  <center> 3. Exploratory Data Analysis<a id='eda'></a> </center>\n",
    "Here EDA is performed using subset of the data."
   ]
  },
  {
   "cell_type": "markdown",
   "metadata": {},
   "source": [
    "# Dataset Timespan"
   ]
  },
  {
   "cell_type": "code",
   "execution_count": 22,
   "metadata": {},
   "outputs": [
    {
     "name": "stdout",
     "output_type": "stream",
     "text": [
      "Dataset timespan: 63 days.\n"
     ]
    }
   ],
   "source": [
    "min_ts = events_df.agg({'ts': 'min'}).collect()[0][0]\n",
    "max_ts = events_df.agg({'ts': 'max'}).collect()[0][0]\n",
    "print('Dataset timespan: {:.0f} days.'.format((max_ts - min_ts) / (1000*60*60*24)))"
   ]
  },
  {
   "cell_type": "code",
   "execution_count": 23,
   "metadata": {},
   "outputs": [
    {
     "data": {
      "text/plain": [
       "(datetime.date(2018, 10, 1), datetime.date(2018, 12, 3))"
      ]
     },
     "execution_count": 23,
     "metadata": {},
     "output_type": "execute_result"
    }
   ],
   "source": [
    "min_date, max_date = events_df.select(F.min(\"date\"), F.max(\"date\")).first()\n",
    "min_date, max_date"
   ]
  },
  {
   "cell_type": "markdown",
   "metadata": {},
   "source": [
    "### Removing not needed columns for data exploration and feature engineering"
   ]
  },
  {
   "cell_type": "code",
   "execution_count": 24,
   "metadata": {},
   "outputs": [],
   "source": [
    "not_needed_columns = ['firstName', 'lastName', 'method', 'userAgent', 'location']\n",
    "events_df = events_df.drop(*not_needed_columns)"
   ]
  },
  {
   "cell_type": "markdown",
   "metadata": {},
   "source": [
    "## Descriptive statistics for the length field<a id='load_clean'></a>\n",
    "Getting some sense of what the data looks like"
   ]
  },
  {
   "cell_type": "code",
   "execution_count": 25,
   "metadata": {
    "scrolled": true
   },
   "outputs": [
    {
     "data": {
      "text/html": [
       "<div>\n",
       "<style scoped>\n",
       "    .dataframe tbody tr th:only-of-type {\n",
       "        vertical-align: middle;\n",
       "    }\n",
       "\n",
       "    .dataframe tbody tr th {\n",
       "        vertical-align: top;\n",
       "    }\n",
       "\n",
       "    .dataframe thead th {\n",
       "        text-align: right;\n",
       "    }\n",
       "</style>\n",
       "<table border=\"1\" class=\"dataframe\">\n",
       "  <thead>\n",
       "    <tr style=\"text-align: right;\">\n",
       "      <th></th>\n",
       "      <th>length</th>\n",
       "    </tr>\n",
       "  </thead>\n",
       "  <tbody>\n",
       "    <tr>\n",
       "      <th>count</th>\n",
       "      <td>228108.000000</td>\n",
       "    </tr>\n",
       "    <tr>\n",
       "      <th>mean</th>\n",
       "      <td>249.117182</td>\n",
       "    </tr>\n",
       "    <tr>\n",
       "      <th>std</th>\n",
       "      <td>99.235179</td>\n",
       "    </tr>\n",
       "    <tr>\n",
       "      <th>min</th>\n",
       "      <td>0.783220</td>\n",
       "    </tr>\n",
       "    <tr>\n",
       "      <th>25%</th>\n",
       "      <td>199.888530</td>\n",
       "    </tr>\n",
       "    <tr>\n",
       "      <th>50%</th>\n",
       "      <td>234.500770</td>\n",
       "    </tr>\n",
       "    <tr>\n",
       "      <th>75%</th>\n",
       "      <td>277.158730</td>\n",
       "    </tr>\n",
       "    <tr>\n",
       "      <th>max</th>\n",
       "      <td>3024.665670</td>\n",
       "    </tr>\n",
       "  </tbody>\n",
       "</table>\n",
       "</div>"
      ],
      "text/plain": [
       "              length\n",
       "count  228108.000000\n",
       "mean      249.117182\n",
       "std        99.235179\n",
       "min         0.783220\n",
       "25%       199.888530\n",
       "50%       234.500770\n",
       "75%       277.158730\n",
       "max      3024.665670"
      ]
     },
     "execution_count": 25,
     "metadata": {},
     "output_type": "execute_result"
    }
   ],
   "source": [
    "events_df[[\"length\"]].toPandas().describe()"
   ]
  },
  {
   "cell_type": "markdown",
   "metadata": {},
   "source": [
    "### Get columns unique values"
   ]
  },
  {
   "cell_type": "code",
   "execution_count": 28,
   "metadata": {},
   "outputs": [
    {
     "name": "stdout",
     "output_type": "stream",
     "text": [
      "+---------+\n",
      "|     auth|\n",
      "+---------+\n",
      "|Cancelled|\n",
      "|Logged In|\n",
      "+---------+\n",
      "\n",
      "+--------------------+\n",
      "|                page|\n",
      "+--------------------+\n",
      "|              Cancel|\n",
      "|    Submit Downgrade|\n",
      "|         Thumbs Down|\n",
      "|                Home|\n",
      "|           Downgrade|\n",
      "|         Roll Advert|\n",
      "|              Logout|\n",
      "|       Save Settings|\n",
      "|Cancellation Conf...|\n",
      "|               About|\n",
      "|            Settings|\n",
      "|     Add to Playlist|\n",
      "|          Add Friend|\n",
      "|            NextSong|\n",
      "|           Thumbs Up|\n",
      "|                Help|\n",
      "|             Upgrade|\n",
      "|               Error|\n",
      "|      Submit Upgrade|\n",
      "+--------------------+\n",
      "\n",
      "+-----+\n",
      "|level|\n",
      "+-----+\n",
      "| free|\n",
      "| paid|\n",
      "+-----+\n",
      "\n",
      "+------+\n",
      "|status|\n",
      "+------+\n",
      "|   307|\n",
      "|   404|\n",
      "|   200|\n",
      "+------+\n",
      "\n",
      "+------+\n",
      "|gender|\n",
      "+------+\n",
      "|     F|\n",
      "|     M|\n",
      "+------+\n",
      "\n"
     ]
    }
   ],
   "source": [
    "def show_columns_unique_vals(columns):\n",
    "    for column in columns:\n",
    "        print (events_df.select(column).distinct())\n",
    "show_columns_unique_vals(['auth', 'page', 'level', 'status', 'gender'])"
   ]
  },
  {
   "cell_type": "markdown",
   "metadata": {},
   "source": [
    "### Fields types"
   ]
  },
  {
   "cell_type": "code",
   "execution_count": 29,
   "metadata": {},
   "outputs": [
    {
     "data": {
      "text/plain": [
       "['itemInSession',\n",
       " 'length',\n",
       " 'registration',\n",
       " 'sessionId',\n",
       " 'status',\n",
       " 'ts',\n",
       " 'month',\n",
       " 'weekofyear',\n",
       " 'year']"
      ]
     },
     "execution_count": 29,
     "metadata": {},
     "output_type": "execute_result"
    }
   ],
   "source": [
    "numeric_cols = [f.name for f in events_df.schema.fields if \n",
    "            isinstance(f.dataType, DoubleType) or isinstance(f.dataType, LongType)\n",
    "                or isinstance(f.dataType, IntegerType)]\n",
    "# numeric_cols.remove('ts')\n",
    "# numeric_cols.remove('registration')\n",
    "numeric_cols"
   ]
  },
  {
   "cell_type": "code",
   "execution_count": 30,
   "metadata": {},
   "outputs": [
    {
     "data": {
      "text/plain": [
       "['artist', 'auth', 'gender', 'level', 'page', 'song', 'userId']"
      ]
     },
     "execution_count": 30,
     "metadata": {},
     "output_type": "execute_result"
    }
   ],
   "source": [
    "string_cols = [f.name for f in events_df.schema.fields if \n",
    "            isinstance(f.dataType, StringType)]\n",
    "string_cols"
   ]
  },
  {
   "cell_type": "markdown",
   "metadata": {},
   "source": [
    "# <font color=\"blue\"> Churn indicator <a id='churn'></a> </font>"
   ]
  },
  {
   "cell_type": "markdown",
   "metadata": {},
   "source": [
    "### Authentication"
   ]
  },
  {
   "cell_type": "code",
   "execution_count": 31,
   "metadata": {},
   "outputs": [
    {
     "data": {
      "text/html": [
       "<div>\n",
       "<style scoped>\n",
       "    .dataframe tbody tr th:only-of-type {\n",
       "        vertical-align: middle;\n",
       "    }\n",
       "\n",
       "    .dataframe tbody tr th {\n",
       "        vertical-align: top;\n",
       "    }\n",
       "\n",
       "    .dataframe thead th {\n",
       "        text-align: right;\n",
       "    }\n",
       "</style>\n",
       "<table border=\"1\" class=\"dataframe\">\n",
       "  <thead>\n",
       "    <tr style=\"text-align: right;\">\n",
       "      <th></th>\n",
       "      <th>auth</th>\n",
       "      <th>unique_users_count</th>\n",
       "    </tr>\n",
       "  </thead>\n",
       "  <tbody>\n",
       "    <tr>\n",
       "      <th>0</th>\n",
       "      <td>Logged In</td>\n",
       "      <td>225</td>\n",
       "    </tr>\n",
       "    <tr>\n",
       "      <th>1</th>\n",
       "      <td>Cancelled</td>\n",
       "      <td>52</td>\n",
       "    </tr>\n",
       "  </tbody>\n",
       "</table>\n",
       "</div>"
      ],
      "text/plain": [
       "        auth  unique_users_count\n",
       "0  Logged In                 225\n",
       "1  Cancelled                  52"
      ]
     },
     "execution_count": 31,
     "metadata": {},
     "output_type": "execute_result"
    }
   ],
   "source": [
    "events_df.createOrReplaceTempView(\"sparkify_view\")\n",
    "auth_data = spark.sql(\"\"\"\n",
    "    SELECT auth, COUNT(DISTINCT userId) as unique_users_count\\\n",
    "    FROM sparkify_view\\\n",
    "    WHERE userId IS NOT NULL AND userID != '' \\\n",
    "    GROUP BY auth \\\n",
    "    ORDER BY unique_users_count DESC\n",
    "\"\"\")\n",
    "pd.DataFrame(auth_data.collect(), columns=auth_data.columns).head()"
   ]
  },
  {
   "cell_type": "markdown",
   "metadata": {},
   "source": [
    "`auth` field could represent a churn event."
   ]
  },
  {
   "cell_type": "markdown",
   "metadata": {},
   "source": [
    "### Visited Pages overview"
   ]
  },
  {
   "cell_type": "code",
   "execution_count": 32,
   "metadata": {},
   "outputs": [
    {
     "data": {
      "text/html": [
       "<div>\n",
       "<style scoped>\n",
       "    .dataframe tbody tr th:only-of-type {\n",
       "        vertical-align: middle;\n",
       "    }\n",
       "\n",
       "    .dataframe tbody tr th {\n",
       "        vertical-align: top;\n",
       "    }\n",
       "\n",
       "    .dataframe thead th {\n",
       "        text-align: right;\n",
       "    }\n",
       "</style>\n",
       "<table border=\"1\" class=\"dataframe\">\n",
       "  <thead>\n",
       "    <tr style=\"text-align: right;\">\n",
       "      <th></th>\n",
       "      <th>page</th>\n",
       "      <th>count(page)</th>\n",
       "    </tr>\n",
       "  </thead>\n",
       "  <tbody>\n",
       "    <tr>\n",
       "      <th>0</th>\n",
       "      <td>Cancel</td>\n",
       "      <td>52</td>\n",
       "    </tr>\n",
       "    <tr>\n",
       "      <th>1</th>\n",
       "      <td>Submit Downgrade</td>\n",
       "      <td>63</td>\n",
       "    </tr>\n",
       "    <tr>\n",
       "      <th>2</th>\n",
       "      <td>Thumbs Down</td>\n",
       "      <td>2546</td>\n",
       "    </tr>\n",
       "    <tr>\n",
       "      <th>3</th>\n",
       "      <td>Home</td>\n",
       "      <td>10082</td>\n",
       "    </tr>\n",
       "    <tr>\n",
       "      <th>4</th>\n",
       "      <td>Downgrade</td>\n",
       "      <td>2055</td>\n",
       "    </tr>\n",
       "    <tr>\n",
       "      <th>5</th>\n",
       "      <td>Roll Advert</td>\n",
       "      <td>3933</td>\n",
       "    </tr>\n",
       "    <tr>\n",
       "      <th>6</th>\n",
       "      <td>Logout</td>\n",
       "      <td>3226</td>\n",
       "    </tr>\n",
       "    <tr>\n",
       "      <th>7</th>\n",
       "      <td>Save Settings</td>\n",
       "      <td>310</td>\n",
       "    </tr>\n",
       "    <tr>\n",
       "      <th>8</th>\n",
       "      <td>Cancellation Confirmation</td>\n",
       "      <td>52</td>\n",
       "    </tr>\n",
       "    <tr>\n",
       "      <th>9</th>\n",
       "      <td>About</td>\n",
       "      <td>495</td>\n",
       "    </tr>\n",
       "    <tr>\n",
       "      <th>10</th>\n",
       "      <td>Settings</td>\n",
       "      <td>1514</td>\n",
       "    </tr>\n",
       "    <tr>\n",
       "      <th>11</th>\n",
       "      <td>Add to Playlist</td>\n",
       "      <td>6526</td>\n",
       "    </tr>\n",
       "    <tr>\n",
       "      <th>12</th>\n",
       "      <td>Add Friend</td>\n",
       "      <td>4277</td>\n",
       "    </tr>\n",
       "    <tr>\n",
       "      <th>13</th>\n",
       "      <td>NextSong</td>\n",
       "      <td>228108</td>\n",
       "    </tr>\n",
       "    <tr>\n",
       "      <th>14</th>\n",
       "      <td>Thumbs Up</td>\n",
       "      <td>12551</td>\n",
       "    </tr>\n",
       "    <tr>\n",
       "      <th>15</th>\n",
       "      <td>Help</td>\n",
       "      <td>1454</td>\n",
       "    </tr>\n",
       "    <tr>\n",
       "      <th>16</th>\n",
       "      <td>Upgrade</td>\n",
       "      <td>499</td>\n",
       "    </tr>\n",
       "    <tr>\n",
       "      <th>17</th>\n",
       "      <td>Error</td>\n",
       "      <td>252</td>\n",
       "    </tr>\n",
       "    <tr>\n",
       "      <th>18</th>\n",
       "      <td>Submit Upgrade</td>\n",
       "      <td>159</td>\n",
       "    </tr>\n",
       "  </tbody>\n",
       "</table>\n",
       "</div>"
      ],
      "text/plain": [
       "                         page  count(page)\n",
       "0                      Cancel           52\n",
       "1            Submit Downgrade           63\n",
       "2                 Thumbs Down         2546\n",
       "3                        Home        10082\n",
       "4                   Downgrade         2055\n",
       "5                 Roll Advert         3933\n",
       "6                      Logout         3226\n",
       "7               Save Settings          310\n",
       "8   Cancellation Confirmation           52\n",
       "9                       About          495\n",
       "10                   Settings         1514\n",
       "11            Add to Playlist         6526\n",
       "12                 Add Friend         4277\n",
       "13                   NextSong       228108\n",
       "14                  Thumbs Up        12551\n",
       "15                       Help         1454\n",
       "16                    Upgrade          499\n",
       "17                      Error          252\n",
       "18             Submit Upgrade          159"
      ]
     },
     "execution_count": 32,
     "metadata": {},
     "output_type": "execute_result"
    }
   ],
   "source": [
    "pd.DataFrame(\n",
    "    events_df.select('page','UserId').groupby('page').agg({'page':'count'})\\\n",
    "    .select('page','count(page)').collect(), columns=['page','count(page)'])"
   ]
  },
  {
   "cell_type": "markdown",
   "metadata": {},
   "source": [
    "### Let's check if the users going to the page `Cancellation Confirmation` are the same as the ones performing the `Cancelled` authentication event. That because the users count for both field is the same"
   ]
  },
  {
   "cell_type": "code",
   "execution_count": 33,
   "metadata": {},
   "outputs": [
    {
     "name": "stdout",
     "output_type": "stream",
     "text": [
      "+------------------+\n",
      "|unique_users_count|\n",
      "+------------------+\n",
      "|                52|\n",
      "+------------------+\n",
      "\n"
     ]
    }
   ],
   "source": [
    "churning_users = spark.sql(\"\"\"\n",
    "    SELECT COUNT(DISTINCT userId) as unique_users_count\\\n",
    "    FROM sparkify_view\\\n",
    "    WHERE userId IS NOT NULL AND userID != '' \\\n",
    "     AND auth='Cancelled' AND page='Cancellation Confirmation' \n",
    "\"\"\")\n",
    "\n",
    "churning_users.show()"
   ]
  },
  {
   "cell_type": "markdown",
   "metadata": {},
   "source": [
    "<div class=\"alert alert-block alert-info\">\n",
    "We could define churned users as those users who have visited the `Cancelation Confirmation` page. The action happens for both the Free-tier `level=free` and the Premium Subscription model `level=paid`. We could also consider users performing a `Submit Downgrade` action as churned users.\n",
    "</div>\n"
   ]
  },
  {
   "cell_type": "code",
   "execution_count": 34,
   "metadata": {},
   "outputs": [
    {
     "name": "stdout",
     "output_type": "stream",
     "text": [
      "Number of registered users: 225\n",
      "Number of churned users: 92\n",
      "Churn Rate: 0.41\n"
     ]
    }
   ],
   "source": [
    "churn_users_ids = events_df.filter((events_df.page == 'Cancellation Confirmation') | \\\n",
    "                                   (events_df.page == 'Submit Downgrade'))\\\n",
    "                                            .select('userId')\\\n",
    "                                            .dropDuplicates()\\\n",
    "                                            .rdd.flatMap(lambda x : x)\\\n",
    "                                            .collect()\n",
    "registered_users_ids = events_df.filter(col('auth') == 'Logged In').select('userId')\n",
    "nb_registered_users = registered_users_ids.distinct().count()\n",
    "nb_left_users = len(churn_users_ids)\n",
    "print(\"Number of registered users: {}\".format(nb_registered_users))\n",
    "print(\"Number of churned users: {}\".format(nb_left_users))\n",
    "print(\"Churn Rate: {:.2f}\".format(nb_left_users / nb_registered_users))"
   ]
  },
  {
   "cell_type": "markdown",
   "metadata": {},
   "source": [
    "### Add new column `churn`\n",
    "Set to `Churner` if the user visits `Cancellation Confirmation` or `Submit Downgrade` pages"
   ]
  },
  {
   "cell_type": "code",
   "execution_count": 158,
   "metadata": {
    "scrolled": true
   },
   "outputs": [],
   "source": [
    "events_df = events_df.withColumn('churn', when(col(\"userId\").isin(list(churn_users_ids)),\n",
    "                                                  \"Churner\").otherwise(\"Engaged\"))\n",
    "# events_df.select('churn').distinct().show()"
   ]
  },
  {
   "cell_type": "code",
   "execution_count": 159,
   "metadata": {},
   "outputs": [
    {
     "name": "stdout",
     "output_type": "stream",
     "text": [
      "Columns ['artist', 'auth', 'gender', 'itemInSession', 'length', 'level', 'page', 'registration', 'sessionId', 'song', 'status', 'ts', 'userId', 'event_time', 'month', 'weekofyear', 'year', 'date', 'churn']\n",
      "Numeric columns are  ['itemInSession', 'length', 'registration', 'sessionId', 'status', 'ts', 'month', 'weekofyear', 'year', 'churn', 'churn']\n"
     ]
    }
   ],
   "source": [
    "print(\"Columns\", events_df.columns)\n",
    "numeric_cols.append(\"churn\")\n",
    "print(\"Numeric columns are \", numeric_cols)"
   ]
  },
  {
   "cell_type": "code",
   "execution_count": 37,
   "metadata": {},
   "outputs": [
    {
     "data": {
      "text/plain": [
       "['artist',\n",
       " 'auth',\n",
       " 'gender',\n",
       " 'itemInSession',\n",
       " 'length',\n",
       " 'level',\n",
       " 'page',\n",
       " 'registration',\n",
       " 'sessionId',\n",
       " 'song',\n",
       " 'status',\n",
       " 'ts',\n",
       " 'userId',\n",
       " 'event_time',\n",
       " 'month',\n",
       " 'weekofyear',\n",
       " 'year',\n",
       " 'date',\n",
       " 'churn']"
      ]
     },
     "execution_count": 37,
     "metadata": {},
     "output_type": "execute_result"
    }
   ],
   "source": [
    "events_df.columns"
   ]
  },
  {
   "cell_type": "markdown",
   "metadata": {},
   "source": [
    "# Data Exploration <a id='explore'></a>\n",
    "Observing the users behavior in regard of the churning event."
   ]
  },
  {
   "cell_type": "code",
   "execution_count": 38,
   "metadata": {},
   "outputs": [],
   "source": [
    "def get_dataframe(dataframe, columns=None, nb_elements=5):\n",
    "    \"\"\"Convert a subset of a Spark Dataframe to pandas DataFrame display it\n",
    "    Args:\n",
    "        dataframe: sark dataframe\n",
    "        nb_elements: number of rows to take from the dataframe\n",
    "    \"\"\"\n",
    "    if not columns:\n",
    "        columns = dataframe.columns\n",
    "    return pd.DataFrame(dataframe.take(5), columns=columns)"
   ]
  },
  {
   "cell_type": "code",
   "execution_count": 39,
   "metadata": {},
   "outputs": [
    {
     "name": "stdout",
     "output_type": "stream",
     "text": [
      "auth\n",
      "+---------+------+\n",
      "|     auth| count|\n",
      "+---------+------+\n",
      "|Logged In|278102|\n",
      "|Cancelled|    52|\n",
      "+---------+------+\n",
      "\n",
      "gender\n",
      "+------+------+\n",
      "|gender| count|\n",
      "+------+------+\n",
      "|     F|154578|\n",
      "|     M|123576|\n",
      "+------+------+\n",
      "\n",
      "level\n",
      "+-----+------+\n",
      "|level| count|\n",
      "+-----+------+\n",
      "| paid|222433|\n",
      "| free| 55721|\n",
      "+-----+------+\n",
      "\n",
      "page\n",
      "+--------------------+------+\n",
      "|                page| count|\n",
      "+--------------------+------+\n",
      "|            NextSong|228108|\n",
      "|           Thumbs Up| 12551|\n",
      "|                Home| 10082|\n",
      "|     Add to Playlist|  6526|\n",
      "|          Add Friend|  4277|\n",
      "|         Roll Advert|  3933|\n",
      "|              Logout|  3226|\n",
      "|         Thumbs Down|  2546|\n",
      "|           Downgrade|  2055|\n",
      "|            Settings|  1514|\n",
      "|                Help|  1454|\n",
      "|             Upgrade|   499|\n",
      "|               About|   495|\n",
      "|       Save Settings|   310|\n",
      "|               Error|   252|\n",
      "|      Submit Upgrade|   159|\n",
      "|    Submit Downgrade|    63|\n",
      "|              Cancel|    52|\n",
      "|Cancellation Conf...|    52|\n",
      "+--------------------+------+\n",
      "\n",
      "status\n",
      "+------+------+\n",
      "|status| count|\n",
      "+------+------+\n",
      "|   200|254718|\n",
      "|   307| 23184|\n",
      "|   404|   252|\n",
      "+------+------+\n",
      "\n"
     ]
    }
   ],
   "source": [
    "categorical_variables = [ 'auth' , 'gender', 'level', 'page', 'status' ]\n",
    "\n",
    "for cat in categorical_variables:\n",
    "    print(cat)\n",
    "    events_df.groupby(cat).count().sort('count', ascending=False).show()"
   ]
  },
  {
   "cell_type": "markdown",
   "metadata": {},
   "source": [
    "## Customer Churn by account type (Free/Premium)"
   ]
  },
  {
   "cell_type": "code",
   "execution_count": 40,
   "metadata": {},
   "outputs": [],
   "source": [
    "def change_bar_width(ax, width):\n",
    "    \"\"\"Change bar width in barplot\n",
    "    source: shorturl.at/cfJW6\n",
    "    Args:\n",
    "        ax: axis object\n",
    "        width: new width value\n",
    "    \"\"\"\n",
    "    for patch in ax.patches :\n",
    "        current_width = patch.get_width()\n",
    "        diff = current_width - width\n",
    "        patch.set_width(width)\n",
    "        # recenter the bar\n",
    "        patch.set_x(patch.get_x() + diff * .8)\n",
    "\n",
    "def plot_churners_groups_count(data, title, xlabel,\n",
    "                               column, groups_column, ylabel, palette=\"Reds_r\"):\n",
    "    \"\"\"Plot churning and loyal users grouped by column and group_column\n",
    "    Args:\n",
    "        data: dataframe\n",
    "        title: title string\n",
    "        xlabel: x axis label\n",
    "        column: column name\n",
    "        groups_column: group columns list\n",
    "        ylabel: y axis label\n",
    "        palette: colors palette\n",
    "    \"\"\"\n",
    "    groups_data = data.dropDuplicates([\"userId\", column])\\\n",
    "                .groupby([groups_column, column]).count()\\\n",
    "                .sort(groups_column).toPandas()\n",
    "\n",
    "    ax = sns.barplot(x=groups_column, y=\"count\",\n",
    "                     hue=column, data=groups_data,\n",
    "                     dodge=True,\n",
    "                     palette=palette, alpha=.7)\n",
    "    change_bar_width(ax, .25)\n",
    "    plt.xlabel(xlabel)\n",
    "    plt.ylabel(ylabel, fontsize=12)\n",
    "    plt.legend(loc=\"best\")\n",
    "    plt.title(title, fontsize=14)\n",
    "#     sns.despine(ax=ax);\n",
    "    return ax"
   ]
  },
  {
   "cell_type": "code",
   "execution_count": 41,
   "metadata": {},
   "outputs": [
    {
     "data": {
      "image/png": "[encoded data removed]",
      "text/plain": [
       "<Figure size 432x288 with 1 Axes>"
      ]
     },
     "metadata": {
      "needs_background": "light"
     },
     "output_type": "display_data"
    }
   ],
   "source": [
    "plot_churners_groups_count(events_df, xlabel=\"Account type\",\n",
    "                           ylabel=\"Users #\",\n",
    "                           title=\"Customers churn by account type\",\n",
    "                           column=\"level\", groups_column=\"churn\", palette=\"Blues_d\");"
   ]
  },
  {
   "cell_type": "markdown",
   "metadata": {},
   "source": [
    "Users with Free account are slight more likely to churn than users with paid account"
   ]
  },
  {
   "cell_type": "markdown",
   "metadata": {},
   "source": [
    "## Customer Churn by Gender"
   ]
  },
  {
   "cell_type": "code",
   "execution_count": 42,
   "metadata": {},
   "outputs": [
    {
     "data": {
      "text/html": [
       "<div>\n",
       "<style scoped>\n",
       "    .dataframe tbody tr th:only-of-type {\n",
       "        vertical-align: middle;\n",
       "    }\n",
       "\n",
       "    .dataframe tbody tr th {\n",
       "        vertical-align: top;\n",
       "    }\n",
       "\n",
       "    .dataframe thead th {\n",
       "        text-align: right;\n",
       "    }\n",
       "</style>\n",
       "<table border=\"1\" class=\"dataframe\">\n",
       "  <thead>\n",
       "    <tr style=\"text-align: right;\">\n",
       "      <th></th>\n",
       "      <th>churn</th>\n",
       "      <th>gender</th>\n",
       "      <th>count</th>\n",
       "    </tr>\n",
       "  </thead>\n",
       "  <tbody>\n",
       "    <tr>\n",
       "      <th>0</th>\n",
       "      <td>Churner</td>\n",
       "      <td>Male</td>\n",
       "      <td>49</td>\n",
       "    </tr>\n",
       "    <tr>\n",
       "      <th>1</th>\n",
       "      <td>Churner</td>\n",
       "      <td>Female</td>\n",
       "      <td>43</td>\n",
       "    </tr>\n",
       "    <tr>\n",
       "      <th>2</th>\n",
       "      <td>Engaged</td>\n",
       "      <td>Female</td>\n",
       "      <td>61</td>\n",
       "    </tr>\n",
       "    <tr>\n",
       "      <th>3</th>\n",
       "      <td>Engaged</td>\n",
       "      <td>Male</td>\n",
       "      <td>72</td>\n",
       "    </tr>\n",
       "  </tbody>\n",
       "</table>\n",
       "</div>"
      ],
      "text/plain": [
       "     churn  gender  count\n",
       "0  Churner    Male     49\n",
       "1  Churner  Female     43\n",
       "2  Engaged  Female     61\n",
       "3  Engaged    Male     72"
      ]
     },
     "execution_count": 42,
     "metadata": {},
     "output_type": "execute_result"
    }
   ],
   "source": [
    "events_df = events_df \\\n",
    "    .replace(['M', 'F'], ['Male', 'Female'], 'gender')\n",
    "gender_churn_data = events_df.dropDuplicates([\"userId\", \"gender\"]).groupby([\"churn\", \"gender\"]).\\\n",
    "        count().sort(\"churn\").toPandas()\n",
    "gender_churn_data"
   ]
  },
  {
   "cell_type": "code",
   "execution_count": 43,
   "metadata": {},
   "outputs": [
    {
     "data": {
      "image/png": "[encoded data removed]",
      "text/plain": [
       "<Figure size 432x288 with 1 Axes>"
      ]
     },
     "metadata": {
      "needs_background": "light"
     },
     "output_type": "display_data"
    }
   ],
   "source": [
    "plot_churners_groups_count(events_df, xlabel=\"Gender\", ylabel=\"Users #\",\n",
    "                           title=\"Customers churn by gender\",\n",
    "                           column=\"Gender\", groups_column=\"churn\", palette=\"Blues_d\");"
   ]
  },
  {
   "cell_type": "markdown",
   "metadata": {},
   "source": [
    "Male customers are slight more likely to churn than female customers"
   ]
  },
  {
   "cell_type": "markdown",
   "metadata": {},
   "source": [
    "## User account age in term of days"
   ]
  },
  {
   "cell_type": "code",
   "execution_count": 44,
   "metadata": {},
   "outputs": [
    {
     "data": {
      "text/html": [
       "<div>\n",
       "<style scoped>\n",
       "    .dataframe tbody tr th:only-of-type {\n",
       "        vertical-align: middle;\n",
       "    }\n",
       "\n",
       "    .dataframe tbody tr th {\n",
       "        vertical-align: top;\n",
       "    }\n",
       "\n",
       "    .dataframe thead th {\n",
       "        text-align: right;\n",
       "    }\n",
       "</style>\n",
       "<table border=\"1\" class=\"dataframe\">\n",
       "  <thead>\n",
       "    <tr style=\"text-align: right;\">\n",
       "      <th></th>\n",
       "      <th>userId</th>\n",
       "      <th>churn</th>\n",
       "      <th>account_age(days)</th>\n",
       "    </tr>\n",
       "  </thead>\n",
       "  <tbody>\n",
       "    <tr>\n",
       "      <th>0</th>\n",
       "      <td>73</td>\n",
       "      <td>Churner</td>\n",
       "      <td>49</td>\n",
       "    </tr>\n",
       "    <tr>\n",
       "      <th>1</th>\n",
       "      <td>100004</td>\n",
       "      <td>Churner</td>\n",
       "      <td>172</td>\n",
       "    </tr>\n",
       "    <tr>\n",
       "      <th>2</th>\n",
       "      <td>36</td>\n",
       "      <td>Engaged</td>\n",
       "      <td>108</td>\n",
       "    </tr>\n",
       "    <tr>\n",
       "      <th>3</th>\n",
       "      <td>94</td>\n",
       "      <td>Engaged</td>\n",
       "      <td>132</td>\n",
       "    </tr>\n",
       "    <tr>\n",
       "      <th>4</th>\n",
       "      <td>114</td>\n",
       "      <td>Engaged</td>\n",
       "      <td>71</td>\n",
       "    </tr>\n",
       "  </tbody>\n",
       "</table>\n",
       "</div>"
      ],
      "text/plain": [
       "   userId    churn  account_age(days)\n",
       "0      73  Churner                 49\n",
       "1  100004  Churner                172\n",
       "2      36  Engaged                108\n",
       "3      94  Engaged                132\n",
       "4     114  Engaged                 71"
      ]
     },
     "execution_count": 44,
     "metadata": {},
     "output_type": "execute_result"
    }
   ],
   "source": [
    "account_age_df = events_df \\\n",
    "    .select('userId', 'registration', 'ts', 'churn') \\\n",
    "    .withColumn('last_event', (events_df.ts - events_df.registration)) \\\n",
    "    .groupBy('userId', 'churn') \\\n",
    "    .agg({'last_event': 'max'}) \\\n",
    "    .withColumnRenamed('max(last_event)', 'account_age(days)') \\\n",
    "    .select('userId', 'churn',\n",
    "            (col('account_age(days)') / (1000 * 60 * 60 * 24)).\\\n",
    "                cast(IntegerType()).alias('account_age(days)')\n",
    "    ).toPandas()\n",
    "account_age_df.head()"
   ]
  },
  {
   "cell_type": "code",
   "execution_count": 45,
   "metadata": {},
   "outputs": [
    {
     "data": {
      "image/png": "[encoded data removed]",
      "text/plain": [
       "<Figure size 432x216 with 2 Axes>"
      ]
     },
     "metadata": {
      "needs_background": "light"
     },
     "output_type": "display_data"
    }
   ],
   "source": [
    "grp = sns.FacetGrid(account_age_df, col=\"churn\", sharey=True)\n",
    "grp.fig.subplots_adjust(wspace=.05, hspace=.05)\n",
    "grp = grp.map(plt.hist, \"account_age(days)\", alpha=.7, edgecolor='w')\n",
    "for ax in grp.axes.flat:\n",
    "    ax.set_title(ax.get_title().replace(\"churn = \", \"\"), fontsize=10)\n",
    "    ax.set_ylabel(\"users #\", fontsize=10)\n",
    "    ax.set_xlabel(\"account age(days)\", fontsize=10)"
   ]
  },
  {
   "cell_type": "markdown",
   "metadata": {},
   "source": [
    "Users registered for a longer period are more likely to not churn"
   ]
  },
  {
   "cell_type": "code",
   "execution_count": 46,
   "metadata": {},
   "outputs": [
    {
     "data": {
      "text/html": [
       "<div>\n",
       "<style scoped>\n",
       "    .dataframe tbody tr th:only-of-type {\n",
       "        vertical-align: middle;\n",
       "    }\n",
       "\n",
       "    .dataframe tbody tr th {\n",
       "        vertical-align: top;\n",
       "    }\n",
       "\n",
       "    .dataframe thead th {\n",
       "        text-align: right;\n",
       "    }\n",
       "</style>\n",
       "<table border=\"1\" class=\"dataframe\">\n",
       "  <thead>\n",
       "    <tr style=\"text-align: right;\">\n",
       "      <th></th>\n",
       "      <th>account_age(days)</th>\n",
       "    </tr>\n",
       "  </thead>\n",
       "  <tbody>\n",
       "    <tr>\n",
       "      <th>count</th>\n",
       "      <td>225.000000</td>\n",
       "    </tr>\n",
       "    <tr>\n",
       "      <th>mean</th>\n",
       "      <td>79.364444</td>\n",
       "    </tr>\n",
       "    <tr>\n",
       "      <th>std</th>\n",
       "      <td>37.646625</td>\n",
       "    </tr>\n",
       "    <tr>\n",
       "      <th>min</th>\n",
       "      <td>0.000000</td>\n",
       "    </tr>\n",
       "    <tr>\n",
       "      <th>25%</th>\n",
       "      <td>59.000000</td>\n",
       "    </tr>\n",
       "    <tr>\n",
       "      <th>50%</th>\n",
       "      <td>73.000000</td>\n",
       "    </tr>\n",
       "    <tr>\n",
       "      <th>75%</th>\n",
       "      <td>100.000000</td>\n",
       "    </tr>\n",
       "    <tr>\n",
       "      <th>85%</th>\n",
       "      <td>121.200000</td>\n",
       "    </tr>\n",
       "    <tr>\n",
       "      <th>90%</th>\n",
       "      <td>129.800000</td>\n",
       "    </tr>\n",
       "    <tr>\n",
       "      <th>max</th>\n",
       "      <td>256.000000</td>\n",
       "    </tr>\n",
       "  </tbody>\n",
       "</table>\n",
       "</div>"
      ],
      "text/plain": [
       "       account_age(days)\n",
       "count         225.000000\n",
       "mean           79.364444\n",
       "std            37.646625\n",
       "min             0.000000\n",
       "25%            59.000000\n",
       "50%            73.000000\n",
       "75%           100.000000\n",
       "85%           121.200000\n",
       "90%           129.800000\n",
       "max           256.000000"
      ]
     },
     "execution_count": 46,
     "metadata": {},
     "output_type": "execute_result"
    }
   ],
   "source": [
    "account_age_df[[\"account_age(days)\"]].describe(percentiles=[0.25, 0.50, 0.75, 0.85, 0.90])"
   ]
  },
  {
   "cell_type": "code",
   "execution_count": 47,
   "metadata": {},
   "outputs": [
    {
     "name": "stdout",
     "output_type": "stream",
     "text": [
      "Number of users for each account age range\n"
     ]
    },
    {
     "data": {
      "text/plain": [
       "(59, 73]      58\n",
       "(73, 100]     55\n",
       "(20, 59]      49\n",
       "(100, 120]    21\n",
       "(120, 130]    11\n",
       "(0, 20]        7\n",
       "Name: account_age(days), dtype: int64"
      ]
     },
     "execution_count": 47,
     "metadata": {},
     "output_type": "execute_result"
    }
   ],
   "source": [
    "bins=[0, 20, 59, 73, 100, 120, 130]\n",
    "buckets = range(len(bins) - 1)\n",
    "print(\"Number of users for each account age range\")\n",
    "pd.cut(account_age_df[\"account_age(days)\"], bins, buckets).value_counts()"
   ]
  },
  {
   "cell_type": "markdown",
   "metadata": {},
   "source": [
    "## Cumulative Number of users over the last N days of service usage time"
   ]
  },
  {
   "cell_type": "code",
   "execution_count": 48,
   "metadata": {},
   "outputs": [],
   "source": [
    "def age_filter(ages_df,  min_age):\n",
    "    \"\"\"Filter all events with age higher than min_age\n",
    "    Args:\n",
    "        ages_df: dataframe\n",
    "        min_age: minimum ag\n",
    "    \"\"\"\n",
    "    return np.sum(ages_df >= min_age)"
   ]
  },
  {
   "cell_type": "code",
   "execution_count": null,
   "metadata": {},
   "outputs": [
    {
     "data": {
      "image/png": "[encoded data removed]",
      "text/plain": [
       "<Figure size 432x288 with 1 Axes>"
      ]
     },
     "metadata": {
      "needs_background": "light"
     },
     "output_type": "display_data"
    }
   ],
   "source": [
    "range_ = range(0, 200, 5)\n",
    "plt.plot(range_, [100 * age_filter(account_age_df[\"account_age(days)\"], ma) / \n",
    "                  age_filter(account_age_df[\"account_age(days)\"], 0) for ma in range_])\n",
    "plt.axhline(96, color='red')\n",
    "plt.ylabel(\"Users %\")\n",
    "plt.xlabel(\"Account Subscription time (nb days)\")\n",
    "plt.xticks = range(0, 200, 5)\n",
    "plt.title(\"Percentage of users function of the usage period\\n(account age)\")\n",
    "plt.grid()"
   ]
  },
  {
   "cell_type": "markdown",
   "metadata": {},
   "source": [
    "<div class=\"alert alert-block alert-warning\">\n",
    "Keeping ~96% of the users (age greater than 20 days) should be sufficient to have a feature reflecting the service usage distribution over the time before churn event (here the last 20 days).\n",
    "</div>"
   ]
  },
  {
   "cell_type": "code",
   "execution_count": 50,
   "metadata": {},
   "outputs": [
    {
     "data": {
      "text/plain": [
       "216.0"
      ]
     },
     "execution_count": 50,
     "metadata": {},
     "output_type": "execute_result"
    }
   ],
   "source": [
    "len(account_age_df.userId.unique())*.96"
   ]
  },
  {
   "cell_type": "code",
   "execution_count": 51,
   "metadata": {},
   "outputs": [
    {
     "data": {
      "text/plain": [
       "userId               217\n",
       "churn                217\n",
       "account_age(days)    217\n",
       "dtype: int64"
      ]
     },
     "execution_count": 51,
     "metadata": {},
     "output_type": "execute_result"
    }
   ],
   "source": [
    "account_age_df[account_age_df[\"account_age(days)\"] >= 20].count()"
   ]
  },
  {
   "cell_type": "markdown",
   "metadata": {},
   "source": [
    "## User account age in term of weeks number"
   ]
  },
  {
   "cell_type": "code",
   "execution_count": 52,
   "metadata": {},
   "outputs": [
    {
     "data": {
      "text/html": [
       "<div>\n",
       "<style scoped>\n",
       "    .dataframe tbody tr th:only-of-type {\n",
       "        vertical-align: middle;\n",
       "    }\n",
       "\n",
       "    .dataframe tbody tr th {\n",
       "        vertical-align: top;\n",
       "    }\n",
       "\n",
       "    .dataframe thead th {\n",
       "        text-align: right;\n",
       "    }\n",
       "</style>\n",
       "<table border=\"1\" class=\"dataframe\">\n",
       "  <thead>\n",
       "    <tr style=\"text-align: right;\">\n",
       "      <th></th>\n",
       "      <th>userId</th>\n",
       "      <th>churn</th>\n",
       "      <th>min_weekofyear</th>\n",
       "      <th>max_weekofyear</th>\n",
       "      <th>account_age(weeks)</th>\n",
       "    </tr>\n",
       "  </thead>\n",
       "  <tbody>\n",
       "    <tr>\n",
       "      <th>0</th>\n",
       "      <td>73</td>\n",
       "      <td>Churner</td>\n",
       "      <td>40</td>\n",
       "      <td>43</td>\n",
       "      <td>3</td>\n",
       "    </tr>\n",
       "    <tr>\n",
       "      <th>1</th>\n",
       "      <td>100004</td>\n",
       "      <td>Churner</td>\n",
       "      <td>40</td>\n",
       "      <td>48</td>\n",
       "      <td>8</td>\n",
       "    </tr>\n",
       "    <tr>\n",
       "      <th>2</th>\n",
       "      <td>36</td>\n",
       "      <td>Engaged</td>\n",
       "      <td>40</td>\n",
       "      <td>48</td>\n",
       "      <td>8</td>\n",
       "    </tr>\n",
       "    <tr>\n",
       "      <th>3</th>\n",
       "      <td>94</td>\n",
       "      <td>Engaged</td>\n",
       "      <td>40</td>\n",
       "      <td>47</td>\n",
       "      <td>7</td>\n",
       "    </tr>\n",
       "    <tr>\n",
       "      <th>4</th>\n",
       "      <td>114</td>\n",
       "      <td>Engaged</td>\n",
       "      <td>40</td>\n",
       "      <td>47</td>\n",
       "      <td>7</td>\n",
       "    </tr>\n",
       "  </tbody>\n",
       "</table>\n",
       "</div>"
      ],
      "text/plain": [
       "   userId    churn  min_weekofyear  max_weekofyear  account_age(weeks)\n",
       "0      73  Churner              40              43                   3\n",
       "1  100004  Churner              40              48                   8\n",
       "2      36  Engaged              40              48                   8\n",
       "3      94  Engaged              40              47                   7\n",
       "4     114  Engaged              40              47                   7"
      ]
     },
     "execution_count": 52,
     "metadata": {},
     "output_type": "execute_result"
    }
   ],
   "source": [
    "account_agew_df = events_df \\\n",
    "    .select('userId', 'weekofyear', 'churn') \\\n",
    "    .groupBy('userId','churn') \\\n",
    "    .agg(F.min(events_df.weekofyear), F.max(events_df.weekofyear)) \\\n",
    "     .withColumnRenamed('max(weekofyear)', 'max_weekofyear') \\\n",
    "     .withColumnRenamed('min(weekofyear)', 'min_weekofyear') \\\n",
    "    .withColumn('account_age(weeks)', col(\"max_weekofyear\") - col(\"min_weekofyear\")) \\\n",
    "    .toPandas()\n",
    "account_agew_df.head()"
   ]
  },
  {
   "cell_type": "code",
   "execution_count": 53,
   "metadata": {},
   "outputs": [
    {
     "data": {
      "text/plain": [
       "count    225.000000\n",
       "mean       5.746667\n",
       "std        2.654646\n",
       "min        0.000000\n",
       "25%        4.000000\n",
       "50%        7.000000\n",
       "75%        8.000000\n",
       "max        8.000000\n",
       "Name: account_age(weeks), dtype: float64"
      ]
     },
     "execution_count": 53,
     "metadata": {},
     "output_type": "execute_result"
    }
   ],
   "source": [
    "account_agew_df[\"account_age(weeks)\"].describe()"
   ]
  },
  {
   "cell_type": "code",
   "execution_count": 169,
   "metadata": {},
   "outputs": [
    {
     "data": {
      "image/png": "[encoded data removed]",
      "text/plain": [
       "<Figure size 432x288 with 1 Axes>"
      ]
     },
     "metadata": {
      "needs_background": "light"
     },
     "output_type": "display_data"
    }
   ],
   "source": [
    "plt.grid()\n",
    "plt.xlabel(\"account age(nb weeks)\")\n",
    "plt.ylabel(\"Users #\")\n",
    "plt.plot(account_agew_df.groupby(\"account_age(weeks)\")[\"userId\"].count());"
   ]
  },
  {
   "cell_type": "code",
   "execution_count": 55,
   "metadata": {},
   "outputs": [],
   "source": [
    "# from pyspark.mllib.stat import Statidescribes\n",
    "# col_names = events_df.columns\n",
    "# features = events_df.rdd.map(lambda row: row[0:])\n",
    "# corr_mat=Statistics.corr(features, method=\"pearson\")\n",
    "# corr_df = pd.DataFrame(corr_mat)\n",
    "# corr_df.index, corr_df.columns = col_names, col_names"
   ]
  },
  {
   "cell_type": "markdown",
   "metadata": {},
   "source": [
    "## Visited Pages by users type Churner/Engaged"
   ]
  },
  {
   "cell_type": "code",
   "execution_count": 56,
   "metadata": {
    "scrolled": true
   },
   "outputs": [
    {
     "data": {
      "application/javascript": [
       "require(\"notebook/js/notebook\").Notebook.prototype.scroll_to_bottom = function () {};\n"
      ],
      "text/plain": [
       "<IPython.core.display.Javascript object>"
      ]
     },
     "metadata": {},
     "output_type": "display_data"
    }
   ],
   "source": [
    "%%javascript\n",
    "require(\"notebook/js/notebook\").Notebook.prototype.scroll_to_bottom = function () {};"
   ]
  },
  {
   "cell_type": "code",
   "execution_count": 57,
   "metadata": {},
   "outputs": [
    {
     "data": {
      "image/png": "[encoded data removed]",
      "text/plain": [
       "<Figure size 576x576 with 1 Axes>"
      ]
     },
     "metadata": {
      "needs_background": "light"
     },
     "output_type": "display_data"
    }
   ],
   "source": [
    "page_data = events_df.select([\"page\", \"churn\"])\\\n",
    "            .groupby([ \"page\",\"churn\"]).count()\\\n",
    "            .sort(\"page\").toPandas()\n",
    "fig, ax = plt.subplots(figsize=(8, 8))\n",
    "sns.barplot(x=\"count\", y=\"page\",\n",
    "            hue=\"churn\", data=page_data,\n",
    "            palette=\"Blues_d\", ax=ax);"
   ]
  },
  {
   "cell_type": "markdown",
   "metadata": {},
   "source": [
    "Churning users listen to more songs than the more Engaged users."
   ]
  },
  {
   "cell_type": "code",
   "execution_count": 58,
   "metadata": {},
   "outputs": [
    {
     "data": {
      "text/html": [
       "<div>\n",
       "<style scoped>\n",
       "    .dataframe tbody tr th:only-of-type {\n",
       "        vertical-align: middle;\n",
       "    }\n",
       "\n",
       "    .dataframe tbody tr th {\n",
       "        vertical-align: top;\n",
       "    }\n",
       "\n",
       "    .dataframe thead th {\n",
       "        text-align: right;\n",
       "    }\n",
       "</style>\n",
       "<table border=\"1\" class=\"dataframe\">\n",
       "  <thead>\n",
       "    <tr style=\"text-align: right;\">\n",
       "      <th></th>\n",
       "      <th>page</th>\n",
       "      <th>count</th>\n",
       "      <th>rate</th>\n",
       "    </tr>\n",
       "  </thead>\n",
       "  <tbody>\n",
       "    <tr>\n",
       "      <th>13</th>\n",
       "      <td>NextSong</td>\n",
       "      <td>228108</td>\n",
       "      <td>0.8201</td>\n",
       "    </tr>\n",
       "    <tr>\n",
       "      <th>14</th>\n",
       "      <td>Thumbs Up</td>\n",
       "      <td>12551</td>\n",
       "      <td>0.0451</td>\n",
       "    </tr>\n",
       "    <tr>\n",
       "      <th>3</th>\n",
       "      <td>Home</td>\n",
       "      <td>10082</td>\n",
       "      <td>0.0362</td>\n",
       "    </tr>\n",
       "    <tr>\n",
       "      <th>11</th>\n",
       "      <td>Add to Playlist</td>\n",
       "      <td>6526</td>\n",
       "      <td>0.0235</td>\n",
       "    </tr>\n",
       "    <tr>\n",
       "      <th>12</th>\n",
       "      <td>Add Friend</td>\n",
       "      <td>4277</td>\n",
       "      <td>0.0154</td>\n",
       "    </tr>\n",
       "    <tr>\n",
       "      <th>5</th>\n",
       "      <td>Roll Advert</td>\n",
       "      <td>3933</td>\n",
       "      <td>0.0141</td>\n",
       "    </tr>\n",
       "    <tr>\n",
       "      <th>6</th>\n",
       "      <td>Logout</td>\n",
       "      <td>3226</td>\n",
       "      <td>0.0116</td>\n",
       "    </tr>\n",
       "    <tr>\n",
       "      <th>2</th>\n",
       "      <td>Thumbs Down</td>\n",
       "      <td>2546</td>\n",
       "      <td>0.0092</td>\n",
       "    </tr>\n",
       "    <tr>\n",
       "      <th>4</th>\n",
       "      <td>Downgrade</td>\n",
       "      <td>2055</td>\n",
       "      <td>0.0074</td>\n",
       "    </tr>\n",
       "    <tr>\n",
       "      <th>10</th>\n",
       "      <td>Settings</td>\n",
       "      <td>1514</td>\n",
       "      <td>0.0054</td>\n",
       "    </tr>\n",
       "    <tr>\n",
       "      <th>15</th>\n",
       "      <td>Help</td>\n",
       "      <td>1454</td>\n",
       "      <td>0.0052</td>\n",
       "    </tr>\n",
       "    <tr>\n",
       "      <th>16</th>\n",
       "      <td>Upgrade</td>\n",
       "      <td>499</td>\n",
       "      <td>0.0018</td>\n",
       "    </tr>\n",
       "    <tr>\n",
       "      <th>9</th>\n",
       "      <td>About</td>\n",
       "      <td>495</td>\n",
       "      <td>0.0018</td>\n",
       "    </tr>\n",
       "    <tr>\n",
       "      <th>7</th>\n",
       "      <td>Save Settings</td>\n",
       "      <td>310</td>\n",
       "      <td>0.0011</td>\n",
       "    </tr>\n",
       "    <tr>\n",
       "      <th>17</th>\n",
       "      <td>Error</td>\n",
       "      <td>252</td>\n",
       "      <td>0.0009</td>\n",
       "    </tr>\n",
       "    <tr>\n",
       "      <th>18</th>\n",
       "      <td>Submit Upgrade</td>\n",
       "      <td>159</td>\n",
       "      <td>0.0006</td>\n",
       "    </tr>\n",
       "    <tr>\n",
       "      <th>1</th>\n",
       "      <td>Submit Downgrade</td>\n",
       "      <td>63</td>\n",
       "      <td>0.0002</td>\n",
       "    </tr>\n",
       "    <tr>\n",
       "      <th>8</th>\n",
       "      <td>Cancellation Confirmation</td>\n",
       "      <td>52</td>\n",
       "      <td>0.0002</td>\n",
       "    </tr>\n",
       "    <tr>\n",
       "      <th>0</th>\n",
       "      <td>Cancel</td>\n",
       "      <td>52</td>\n",
       "      <td>0.0002</td>\n",
       "    </tr>\n",
       "  </tbody>\n",
       "</table>\n",
       "</div>"
      ],
      "text/plain": [
       "                         page   count    rate\n",
       "13                   NextSong  228108  0.8201\n",
       "14                  Thumbs Up   12551  0.0451\n",
       "3                        Home   10082  0.0362\n",
       "11            Add to Playlist    6526  0.0235\n",
       "12                 Add Friend    4277  0.0154\n",
       "5                 Roll Advert    3933  0.0141\n",
       "6                      Logout    3226  0.0116\n",
       "2                 Thumbs Down    2546  0.0092\n",
       "4                   Downgrade    2055  0.0074\n",
       "10                   Settings    1514  0.0054\n",
       "15                       Help    1454  0.0052\n",
       "16                    Upgrade     499  0.0018\n",
       "9                       About     495  0.0018\n",
       "7               Save Settings     310  0.0011\n",
       "17                      Error     252  0.0009\n",
       "18             Submit Upgrade     159  0.0006\n",
       "1            Submit Downgrade      63  0.0002\n",
       "8   Cancellation Confirmation      52  0.0002\n",
       "0                      Cancel      52  0.0002"
      ]
     },
     "execution_count": 58,
     "metadata": {},
     "output_type": "execute_result"
    }
   ],
   "source": [
    "pages_count = events_df.groupby([\"page\"]).count().toPandas().sort_values(by=\"count\", ascending=False)\n",
    "pages_count[\"rate\"] = (pages_count[\"count\"] / pages_count[\"count\"].sum()).round(4)\n",
    "pages_count"
   ]
  },
  {
   "cell_type": "markdown",
   "metadata": {},
   "source": [
    "### Filtering out NextSong pages for a more clear visulalization of pages visits count. That because it has a very high number relatively to the other pages"
   ]
  },
  {
   "cell_type": "code",
   "execution_count": 59,
   "metadata": {},
   "outputs": [
    {
     "data": {
      "image/png": "[encoded data removed]",
      "text/plain": [
       "<Figure size 576x576 with 1 Axes>"
      ]
     },
     "metadata": {
      "needs_background": "light"
     },
     "output_type": "display_data"
    }
   ],
   "source": [
    "page_data = events_df.select([\"page\",\"churn\"]).filter(col('page') != 'NextSong').\\\n",
    "    groupby([ \"page\",\"churn\"]).count().sort(\"page\").toPandas()\n",
    "fig, ax = plt.subplots(figsize=(8,8))\n",
    "sns.barplot( x=\"count\", y=\"page\", hue=\"churn\", data=page_data, ax=ax, palette=\"Blues_d\");\n",
    "plt.title(\"Number of visits per page\")\n",
    "plt.legend(title=\"\");"
   ]
  },
  {
   "cell_type": "markdown",
   "metadata": {},
   "source": [
    "It appears that most of the page visit counts can have an effect on the user engagement e.g `Thumbs Down`, `Roll Advert`, `NextSong`\n",
    "\n",
    "Churning users have higher number of visits to the page `Roll Advert`"
   ]
  },
  {
   "cell_type": "markdown",
   "metadata": {},
   "source": [
    "##  Measure customer engagement\n",
    "<div class=\"alert alert-block alert-info\">\n",
    " In general, if a customer regularly uses the service, there is nothing to worry about. If, on the other hand, the customer’s usage level drops off, there is a need to find out why it dropped and what to do about it.\n",
    " \n",
    "So let's see how we can measure the service usage and engagement of the users.\n",
    "</div >"
   ]
  },
  {
   "cell_type": "markdown",
   "metadata": {},
   "source": [
    "### Average Number of played songs per day for each user"
   ]
  },
  {
   "cell_type": "code",
   "execution_count": 60,
   "metadata": {},
   "outputs": [],
   "source": [
    "ts_date_day = udf(lambda x: datetime.datetime.utcfromtimestamp(x / 1000), DateType() )"
   ]
  },
  {
   "cell_type": "code",
   "execution_count": 61,
   "metadata": {},
   "outputs": [
    {
     "data": {
      "text/html": [
       "<div>\n",
       "<style scoped>\n",
       "    .dataframe tbody tr th:only-of-type {\n",
       "        vertical-align: middle;\n",
       "    }\n",
       "\n",
       "    .dataframe tbody tr th {\n",
       "        vertical-align: top;\n",
       "    }\n",
       "\n",
       "    .dataframe thead th {\n",
       "        text-align: right;\n",
       "    }\n",
       "</style>\n",
       "<table border=\"1\" class=\"dataframe\">\n",
       "  <thead>\n",
       "    <tr style=\"text-align: right;\">\n",
       "      <th></th>\n",
       "      <th>level</th>\n",
       "      <th>avgSongsPerDay</th>\n",
       "    </tr>\n",
       "  </thead>\n",
       "  <tbody>\n",
       "    <tr>\n",
       "      <th>0</th>\n",
       "      <td>free</td>\n",
       "      <td>32.318292</td>\n",
       "    </tr>\n",
       "    <tr>\n",
       "      <th>1</th>\n",
       "      <td>paid</td>\n",
       "      <td>87.089962</td>\n",
       "    </tr>\n",
       "  </tbody>\n",
       "</table>\n",
       "</div>"
      ],
      "text/plain": [
       "  level  avgSongsPerDay\n",
       "0  free       32.318292\n",
       "1  paid       87.089962"
      ]
     },
     "execution_count": 61,
     "metadata": {},
     "output_type": "execute_result"
    }
   ],
   "source": [
    "user_avg_songs_per_day = events_df.withColumn(\"date\", ts_date_day(col(\"ts\"))) \\\n",
    "    .where(events_df.page == \"NextSong\") \\\n",
    "    .select([\"userId\", \"level\", \"date\"]) \\\n",
    "    .groupby([ \"level\", \"userId\", \"date\"]).count() \\\n",
    "    .withColumnRenamed(\"count\", \"numSongsPerDay\") \\\n",
    "    .groupby([ \"level\", \"userId\"]).mean(\"numSongsPerDay\") \\\n",
    "    .withColumnRenamed(\"avg(numSongsPerDay)\", \"avgSongsPerDay\") \\\n",
    "    .groupby(\"level\").mean() \\\n",
    "    .withColumnRenamed(\"avg(avgSongsPerDay)\", \"avgSongsPerDay\")\n",
    "pd.DataFrame(user_avg_songs_per_day.collect(),\n",
    "    columns=user_avg_songs_per_day.columns)"
   ]
  },
  {
   "cell_type": "markdown",
   "metadata": {},
   "source": [
    "## Service usage over the last 20 days in term of average number of songs number"
   ]
  },
  {
   "cell_type": "code",
   "execution_count": 62,
   "metadata": {},
   "outputs": [],
   "source": [
    "account_age_in_days = udf(lambda max_date, current_date: (max_date - current_date).days)\n",
    "\n",
    "usage_days_df1 = events_df \\\n",
    "    .select('userId', 'date', 'churn') \\\n",
    "    .groupBy('userId') \\\n",
    "    .agg(F.max(events_df.date), F.min(events_df.date)) \\\n",
    "    .withColumnRenamed('max(date)', 'last_day') \\\n",
    "    .withColumnRenamed('min(date)', 'first_day') \\\n",
    "    .withColumn(\"20_days_before\", F.date_add(col(\"last_day\"), - 20 + 1))\\\n",
    "    .filter(account_age_in_days(col(\"last_day\"), col(\"first_day\")) >= 20)\n",
    "\n",
    "last20days_usage_df1 = usage_days_df1 \\\n",
    "    .join(events_df, events_df.userId == usage_days_df1.userId) \\\n",
    "    .where(col('date').between(col('20_days_before'), col('last_day'))) \\\n",
    "    .groupby([events_df.userId, events_df.churn, events_df.userId, events_df.date, col('last_day')]).count() \\\n",
    "    .withColumnRenamed(\"count\", \"numSongsPerDay\") \\\n",
    "    .withColumn(\"date_index\", account_age_in_days(col(\"last_day\"), col(\"date\"))) \\\n",
    "    .groupby([events_df.churn, \"date_index\"]).mean(\"numSongsPerDay\") \\\n",
    "    .withColumnRenamed(\"avg(numSongsPerDay)\", \"avgSongsPerDay\") \\\n",
    "    .orderBy(events_df.churn, col(\"date_index\").cast(\"int\").asc())\n",
    "\n",
    "# get list of users ids\n",
    "# users_ids = last20days_usage_df1.select(\"userId\").distinct().rdd.map(lambda r: r[0]).collect()\n",
    "\n",
    "# TODO use one single query to get the data instead of joining the dataframes"
   ]
  },
  {
   "cell_type": "code",
   "execution_count": 63,
   "metadata": {},
   "outputs": [
    {
     "data": {
      "text/html": [
       "<div>\n",
       "<style scoped>\n",
       "    .dataframe tbody tr th:only-of-type {\n",
       "        vertical-align: middle;\n",
       "    }\n",
       "\n",
       "    .dataframe tbody tr th {\n",
       "        vertical-align: top;\n",
       "    }\n",
       "\n",
       "    .dataframe thead th {\n",
       "        text-align: right;\n",
       "    }\n",
       "</style>\n",
       "<table border=\"1\" class=\"dataframe\">\n",
       "  <thead>\n",
       "    <tr style=\"text-align: right;\">\n",
       "      <th></th>\n",
       "      <th>churn</th>\n",
       "      <th>date_index</th>\n",
       "      <th>avgSongsPerDay</th>\n",
       "    </tr>\n",
       "  </thead>\n",
       "  <tbody>\n",
       "    <tr>\n",
       "      <th>0</th>\n",
       "      <td>Churner</td>\n",
       "      <td>0</td>\n",
       "      <td>78.117647</td>\n",
       "    </tr>\n",
       "    <tr>\n",
       "      <th>1</th>\n",
       "      <td>Churner</td>\n",
       "      <td>1</td>\n",
       "      <td>104.156250</td>\n",
       "    </tr>\n",
       "    <tr>\n",
       "      <th>2</th>\n",
       "      <td>Churner</td>\n",
       "      <td>2</td>\n",
       "      <td>118.105263</td>\n",
       "    </tr>\n",
       "    <tr>\n",
       "      <th>3</th>\n",
       "      <td>Churner</td>\n",
       "      <td>3</td>\n",
       "      <td>117.115385</td>\n",
       "    </tr>\n",
       "    <tr>\n",
       "      <th>4</th>\n",
       "      <td>Churner</td>\n",
       "      <td>4</td>\n",
       "      <td>105.500000</td>\n",
       "    </tr>\n",
       "    <tr>\n",
       "      <th>5</th>\n",
       "      <td>Churner</td>\n",
       "      <td>5</td>\n",
       "      <td>107.760000</td>\n",
       "    </tr>\n",
       "    <tr>\n",
       "      <th>6</th>\n",
       "      <td>Churner</td>\n",
       "      <td>6</td>\n",
       "      <td>70.606061</td>\n",
       "    </tr>\n",
       "    <tr>\n",
       "      <th>7</th>\n",
       "      <td>Churner</td>\n",
       "      <td>7</td>\n",
       "      <td>100.777778</td>\n",
       "    </tr>\n",
       "    <tr>\n",
       "      <th>8</th>\n",
       "      <td>Churner</td>\n",
       "      <td>8</td>\n",
       "      <td>68.259259</td>\n",
       "    </tr>\n",
       "    <tr>\n",
       "      <th>9</th>\n",
       "      <td>Churner</td>\n",
       "      <td>9</td>\n",
       "      <td>92.571429</td>\n",
       "    </tr>\n",
       "    <tr>\n",
       "      <th>10</th>\n",
       "      <td>Churner</td>\n",
       "      <td>10</td>\n",
       "      <td>103.739130</td>\n",
       "    </tr>\n",
       "    <tr>\n",
       "      <th>11</th>\n",
       "      <td>Churner</td>\n",
       "      <td>11</td>\n",
       "      <td>75.423077</td>\n",
       "    </tr>\n",
       "    <tr>\n",
       "      <th>12</th>\n",
       "      <td>Churner</td>\n",
       "      <td>12</td>\n",
       "      <td>84.650000</td>\n",
       "    </tr>\n",
       "    <tr>\n",
       "      <th>13</th>\n",
       "      <td>Churner</td>\n",
       "      <td>13</td>\n",
       "      <td>120.000000</td>\n",
       "    </tr>\n",
       "    <tr>\n",
       "      <th>14</th>\n",
       "      <td>Churner</td>\n",
       "      <td>14</td>\n",
       "      <td>81.583333</td>\n",
       "    </tr>\n",
       "    <tr>\n",
       "      <th>15</th>\n",
       "      <td>Churner</td>\n",
       "      <td>15</td>\n",
       "      <td>111.083333</td>\n",
       "    </tr>\n",
       "    <tr>\n",
       "      <th>16</th>\n",
       "      <td>Churner</td>\n",
       "      <td>16</td>\n",
       "      <td>90.222222</td>\n",
       "    </tr>\n",
       "    <tr>\n",
       "      <th>17</th>\n",
       "      <td>Churner</td>\n",
       "      <td>17</td>\n",
       "      <td>103.045455</td>\n",
       "    </tr>\n",
       "    <tr>\n",
       "      <th>18</th>\n",
       "      <td>Churner</td>\n",
       "      <td>18</td>\n",
       "      <td>69.115385</td>\n",
       "    </tr>\n",
       "    <tr>\n",
       "      <th>19</th>\n",
       "      <td>Churner</td>\n",
       "      <td>19</td>\n",
       "      <td>79.166667</td>\n",
       "    </tr>\n",
       "  </tbody>\n",
       "</table>\n",
       "</div>"
      ],
      "text/plain": [
       "      churn date_index  avgSongsPerDay\n",
       "0   Churner          0       78.117647\n",
       "1   Churner          1      104.156250\n",
       "2   Churner          2      118.105263\n",
       "3   Churner          3      117.115385\n",
       "4   Churner          4      105.500000\n",
       "5   Churner          5      107.760000\n",
       "6   Churner          6       70.606061\n",
       "7   Churner          7      100.777778\n",
       "8   Churner          8       68.259259\n",
       "9   Churner          9       92.571429\n",
       "10  Churner         10      103.739130\n",
       "11  Churner         11       75.423077\n",
       "12  Churner         12       84.650000\n",
       "13  Churner         13      120.000000\n",
       "14  Churner         14       81.583333\n",
       "15  Churner         15      111.083333\n",
       "16  Churner         16       90.222222\n",
       "17  Churner         17      103.045455\n",
       "18  Churner         18       69.115385\n",
       "19  Churner         19       79.166667"
      ]
     },
     "execution_count": 63,
     "metadata": {},
     "output_type": "execute_result"
    }
   ],
   "source": [
    "# Number of songs per day per user in the last 20 days\n",
    "last20days_usage_df1.toPandas().head(20)"
   ]
  },
  {
   "cell_type": "code",
   "execution_count": 170,
   "metadata": {},
   "outputs": [
    {
     "data": {
      "image/png": "[encoded data removed]",
      "text/plain": [
       "<Figure size 432x288 with 1 Axes>"
      ]
     },
     "metadata": {
      "needs_background": "light"
     },
     "output_type": "display_data"
    }
   ],
   "source": [
    "usage_data = last20days_usage_df1.toPandas()\n",
    "usage_data['date_index'] = usage_data.date_index.apply(lambda x: int(x))\n",
    "\n",
    "# grp = sns.FacetGrid(usage_data, col=\"churn\", sharey=True)\n",
    "# grp.fig.subplots_adjust(wspace=.05, hspace=.05)\n",
    "plt.plot(usage_data[usage_data.churn == \"Churner\"][\"date_index\"].values,\n",
    "        usage_data[usage_data.churn == \"Churner\"][\"avgSongsPerDay\"].values,\n",
    "        label=\"Churner\");\n",
    "plt.plot(usage_data[usage_data.churn == \"Engaged\"][\"date_index\"].values,\n",
    "        usage_data[usage_data.churn == \"Engaged\"][\"avgSongsPerDay\"].values,\n",
    "        label=\"Engaged\");\n",
    "plt.legend()\n",
    "plt.ylabel(\"Avg songs per day\", fontsize=10)\n",
    "plt.xlabel(\"day index\", fontsize=10)\n",
    "plt.xticks = range(0, 20, 2)\n",
    "plt.show()"
   ]
  },
  {
   "cell_type": "markdown",
   "metadata": {},
   "source": [
    "The number of songs for `churning` users is decreasing over the last 20 days of logged events in the service."
   ]
  },
  {
   "cell_type": "markdown",
   "metadata": {},
   "source": [
    "<!-- ### Average Number of played songs per month for each user -->"
   ]
  },
  {
   "cell_type": "code",
   "execution_count": 65,
   "metadata": {},
   "outputs": [],
   "source": [
    "# user_avg_songs_per_month = events_df.withColumn(\"date\", ts_date_day(col(\"ts\"))) \\\n",
    "#     .where(events_df.page == \"NextSong\") \\\n",
    "#     .select([\"userId\", \"month\", \"year\"]) \\\n",
    "#     .groupby([\"userId\", \"month\", \"year\"]).count() \\\n",
    "#     .withColumnRenamed(\"count\", \"numSongsPerMonth\") \\\n",
    "#     .groupby([\"month\", \"year\", \"userId\" ]).mean(\"numSongsPerMonth\") \\\n",
    "#     .withColumnRenamed(\"avg(numSongsPerMonth)\", \"avgSongsPerMonth\")\n",
    "# df = pd.DataFrame(user_avg_songs_per_month.collect(),\n",
    "#     columns=user_avg_songs_per_month.columns)\n",
    "# df"
   ]
  },
  {
   "cell_type": "markdown",
   "metadata": {},
   "source": [
    "<!-- ### Average Number of played songs per week for each user -->"
   ]
  },
  {
   "cell_type": "code",
   "execution_count": 66,
   "metadata": {},
   "outputs": [],
   "source": [
    "# user_avg_songs_per_week = events_df.withColumn(\"date\", ts_date_day(col(\"ts\"))) \\\n",
    "#     .where(events_df.page == \"NextSong\") \\\n",
    "#     .select([\"userId\", \"weekofyear\"]) \\\n",
    "#     .groupby([\"userId\", \"weekofyear\"]).count() \\\n",
    "#     .withColumnRenamed(\"count\", \"numSongsPerWeek\") \\\n",
    "#     .groupby([\"weekofyear\", \"userId\" ]).mean(\"numSongsPerWeek\") \\\n",
    "#     .withColumnRenamed(\"avg(numSongsPerWeek)\", \"avgSongsPerWeek\")\n",
    "# df = pd.DataFrame(user_avg_songs_per_week.collect(),\n",
    "#     columns=user_avg_songs_per_week.columns)\n",
    "# df"
   ]
  },
  {
   "cell_type": "markdown",
   "metadata": {},
   "source": [
    "### Average Number of songs per session per account type"
   ]
  },
  {
   "cell_type": "code",
   "execution_count": 67,
   "metadata": {},
   "outputs": [
    {
     "data": {
      "text/html": [
       "<div>\n",
       "<style scoped>\n",
       "    .dataframe tbody tr th:only-of-type {\n",
       "        vertical-align: middle;\n",
       "    }\n",
       "\n",
       "    .dataframe tbody tr th {\n",
       "        vertical-align: top;\n",
       "    }\n",
       "\n",
       "    .dataframe thead th {\n",
       "        text-align: right;\n",
       "    }\n",
       "</style>\n",
       "<table border=\"1\" class=\"dataframe\">\n",
       "  <thead>\n",
       "    <tr style=\"text-align: right;\">\n",
       "      <th></th>\n",
       "      <th>level</th>\n",
       "      <th>avgSongsPerSession</th>\n",
       "    </tr>\n",
       "  </thead>\n",
       "  <tbody>\n",
       "    <tr>\n",
       "      <th>0</th>\n",
       "      <td>free</td>\n",
       "      <td>31.289821</td>\n",
       "    </tr>\n",
       "    <tr>\n",
       "      <th>1</th>\n",
       "      <td>paid</td>\n",
       "      <td>102.625258</td>\n",
       "    </tr>\n",
       "  </tbody>\n",
       "</table>\n",
       "</div>"
      ],
      "text/plain": [
       "  level  avgSongsPerSession\n",
       "0  free           31.289821\n",
       "1  paid          102.625258"
      ]
     },
     "execution_count": 67,
     "metadata": {},
     "output_type": "execute_result"
    }
   ],
   "source": [
    "# 1. Compute average number of songs per session for each user\n",
    "# 2. Average across users for each account type\n",
    "user_avg_songs_per_session = events_df.where(events_df.page == \"NextSong\") \\\n",
    "    .select([\"userId\", \"level\", \"sessionId\"]) \\\n",
    "    .groupby([\"level\", \"userId\", \"sessionId\"]).count() \\\n",
    "    .withColumnRenamed(\"count\", \"nb_songs_sessions\") \\\n",
    "    .groupby([\"level\", \"userId\"]).mean(\"nb_songs_sessions\") \\\n",
    "    .withColumnRenamed(\"avg(nb_songs_sessions)\", \"SongsPerSession\")\\\n",
    "    .groupby(\"level\").mean()\\\n",
    "    .withColumnRenamed(\"avg(SongsPerSession)\", \"avgSongsPerSession\")\n",
    "pd.DataFrame(user_avg_songs_per_session.collect(),\n",
    "    columns=user_avg_songs_per_session.columns)"
   ]
  },
  {
   "cell_type": "markdown",
   "metadata": {},
   "source": [
    "We observe that users with Premium account (paid) listen to more songs than the users using Free Tier account.\n",
    "The reason for that might be the non showed ads to them compared to the users with the Free account. \n",
    "\n",
    "But it might be possible that users with decreasing number of songs per session would churn as they are less engaged to the service over the time."
   ]
  },
  {
   "cell_type": "markdown",
   "metadata": {},
   "source": [
    "### Average Number of songs per session per user type"
   ]
  },
  {
   "cell_type": "code",
   "execution_count": 171,
   "metadata": {},
   "outputs": [
    {
     "data": {
      "text/html": [
       "<div>\n",
       "<style scoped>\n",
       "    .dataframe tbody tr th:only-of-type {\n",
       "        vertical-align: middle;\n",
       "    }\n",
       "\n",
       "    .dataframe tbody tr th {\n",
       "        vertical-align: top;\n",
       "    }\n",
       "\n",
       "    .dataframe thead th {\n",
       "        text-align: right;\n",
       "    }\n",
       "</style>\n",
       "<table border=\"1\" class=\"dataframe\">\n",
       "  <thead>\n",
       "    <tr style=\"text-align: right;\">\n",
       "      <th></th>\n",
       "      <th>churn</th>\n",
       "      <th>avgSongsPerSession</th>\n",
       "    </tr>\n",
       "  </thead>\n",
       "  <tbody>\n",
       "    <tr>\n",
       "      <th>0</th>\n",
       "      <td>Engaged</td>\n",
       "      <td>72.858996</td>\n",
       "    </tr>\n",
       "    <tr>\n",
       "      <th>1</th>\n",
       "      <td>Churner</td>\n",
       "      <td>72.041926</td>\n",
       "    </tr>\n",
       "  </tbody>\n",
       "</table>\n",
       "</div>"
      ],
      "text/plain": [
       "     churn  avgSongsPerSession\n",
       "0  Engaged           72.858996\n",
       "1  Churner           72.041926"
      ]
     },
     "execution_count": 171,
     "metadata": {},
     "output_type": "execute_result"
    }
   ],
   "source": [
    "from pyspark.sql.functions import desc\n",
    "user_avg_songs = events_df.where(events_df.page == \"NextSong\") \\\n",
    "    .select([\"userId\", \"churn\", \"sessionId\"]) \\\n",
    "    .groupby([\"churn\", \"userId\", \"sessionId\"]).count() \\\n",
    "    .withColumnRenamed(\"count\", \"nb_songs_sessions\") \\\n",
    "    .groupby([\"churn\", \"userId\"]).mean(\"nb_songs_sessions\") \\\n",
    "    .withColumnRenamed(\"avg(nb_songs_sessions)\", \"SongsPerSession\")\\\n",
    "    .groupby(\"churn\").mean() \\\n",
    "    .withColumnRenamed(\"avg(SongsPerSession)\", \"avgSongsPerSession\")\n",
    "\n",
    "pd.DataFrame(user_avg_songs.collect(),\n",
    "    columns=user_avg_songs.columns)"
   ]
  },
  {
   "cell_type": "markdown",
   "metadata": {},
   "source": [
    "The number of songs per session seem to be quite similar for both churning and engaged users"
   ]
  },
  {
   "cell_type": "markdown",
   "metadata": {},
   "source": [
    "### Number of items distribution per session"
   ]
  },
  {
   "cell_type": "code",
   "execution_count": 69,
   "metadata": {},
   "outputs": [],
   "source": [
    "def plot_facet_grid(data, avg_column, xlabel, ylabel,\n",
    "                    grp_col1=\"churn\", grp_col2=\"userId\"):\n",
    "    \"\"\"\n",
    "    Plot field distribution for each churning and loyal users\n",
    "    Args:\n",
    "        data: Spark dataframe\n",
    "    \"\"\"\n",
    "    item_df = data.groupBy([grp_col2, grp_col1]).avg(avg_column).toPandas()\n",
    "    grps = sns.FacetGrid(item_df, col=grp_col1, sharey=True, palette=\"Blues_d\",\n",
    "                        size=4, aspect=1)\n",
    "    grps.map(plt.hist, \"avg({})\".format(avg_column), alpha=.7, edgecolor='w');\n",
    "    for ax in grps.axes.flat:\n",
    "        ax.set_title(ax.get_title().replace(\"churn = \", \"\"), fontsize=10)\n",
    "        # This only works for the left ylabels\n",
    "        ax.set_ylabel(ylabel, fontsize=10)\n",
    "        ax.set_xlabel(xlabel, fontsize=10)"
   ]
  },
  {
   "cell_type": "code",
   "execution_count": 70,
   "metadata": {},
   "outputs": [
    {
     "data": {
      "image/png": "[encoded data removed]",
      "text/plain": [
       "<Figure size 576x288 with 2 Axes>"
      ]
     },
     "metadata": {
      "needs_background": "light"
     },
     "output_type": "display_data"
    }
   ],
   "source": [
    "plot_facet_grid(events_df, \"itemInSession\", \"itemInSession\", \"users #\")"
   ]
  },
  {
   "cell_type": "markdown",
   "metadata": {},
   "source": [
    "Number of items per session is higher for engaged users. This might be because the engaged users can find more songs they like to listen to in the service platform."
   ]
  },
  {
   "cell_type": "markdown",
   "metadata": {},
   "source": [
    "### User sessions number distribution"
   ]
  },
  {
   "cell_type": "code",
   "execution_count": 71,
   "metadata": {},
   "outputs": [
    {
     "data": {
      "image/png": "[encoded data removed]",
      "text/plain": [
       "<Figure size 576x288 with 2 Axes>"
      ]
     },
     "metadata": {
      "needs_background": "light"
     },
     "output_type": "display_data"
    }
   ],
   "source": [
    "plot_facet_grid(events_df, \"sessionId\", \"Nb sessions\", \"users #\");"
   ]
  },
  {
   "cell_type": "markdown",
   "metadata": {},
   "source": [
    "Number of sessions per user are less for churning users"
   ]
  },
  {
   "cell_type": "markdown",
   "metadata": {},
   "source": [
    "### User Thumbs Up events number distribution"
   ]
  },
  {
   "cell_type": "code",
   "execution_count": 72,
   "metadata": {},
   "outputs": [],
   "source": [
    "def clean_subplots_title(grp_ax, xlabel, ylabel):\n",
    "    \"\"\"Clen out subplots titles\n",
    "    Args:\n",
    "        grp_ax: Axes list\n",
    "    \"\"\"\n",
    "    for ax in grps.axes.flat:\n",
    "        ax.set_title(ax.get_title().replace(\"churn = \", \"\"), fontsize=10)\n",
    "        # This only works for the left ylabels\n",
    "        ax.set_ylabel(ylabel, fontsize=10)\n",
    "        ax.set_xlabel(xlabel, fontsize=10)"
   ]
  },
  {
   "cell_type": "code",
   "execution_count": 73,
   "metadata": {},
   "outputs": [
    {
     "data": {
      "image/png": "[encoded data removed]",
      "text/plain": [
       "<Figure size 576x288 with 2 Axes>"
      ]
     },
     "metadata": {
      "needs_background": "light"
     },
     "output_type": "display_data"
    }
   ],
   "source": [
    "item_df = events_df.filter(events_df.page==\"Thumbs Up\").groupBy([\"userId\", \"churn\"]).count().toPandas()\n",
    "grps = sns.FacetGrid(item_df, col=\"churn\", sharey=True,\n",
    "                    size=4, aspect=1)\n",
    "grps.fig.suptitle(\"Thumbs Up count\", size=10)\n",
    "grps.fig.subplots_adjust(top=.8)\n",
    "grps.map(plt.hist, \"count\", alpha=.7, edgecolor=\"w\")\n",
    "clean_subplots_title(grps, \"Thumbs Up visits #\", \"users #\")"
   ]
  },
  {
   "cell_type": "markdown",
   "metadata": {},
   "source": [
    "### User Thumbs Down events number distribution"
   ]
  },
  {
   "cell_type": "code",
   "execution_count": 74,
   "metadata": {},
   "outputs": [
    {
     "data": {
      "image/png": "[encoded data removed]",
      "text/plain": [
       "<Figure size 576x288 with 2 Axes>"
      ]
     },
     "metadata": {
      "needs_background": "light"
     },
     "output_type": "display_data"
    }
   ],
   "source": [
    "item_df = events_df.filter(events_df.page==\"Thumbs Down\").groupBy([\"userId\", \"churn\"]).count().toPandas()\n",
    "grps = sns.FacetGrid(item_df, col=\"churn\", sharey=True,\n",
    "                    size=4, aspect=1)\n",
    "grps.fig.suptitle(\"Thumbs Down count\", size=10)\n",
    "grps.fig.subplots_adjust(top=.9)\n",
    "grps.map(plt.hist, \"count\", alpha=.7, edgecolor=\"w\");\n",
    "clean_subplots_title(grps, \"Thumbs Down visits #\", \"users #\")"
   ]
  },
  {
   "cell_type": "markdown",
   "metadata": {},
   "source": [
    "### Observation\n",
    "It appears that churning users have less interactions in regard of giving a Thumbs up or down to a song."
   ]
  },
  {
   "cell_type": "markdown",
   "metadata": {},
   "source": [
    "## Number of errors distribution"
   ]
  },
  {
   "cell_type": "code",
   "execution_count": 75,
   "metadata": {
    "scrolled": true
   },
   "outputs": [
    {
     "data": {
      "image/png": "[encoded data removed]",
      "text/plain": [
       "<Figure size 576x288 with 2 Axes>"
      ]
     },
     "metadata": {
      "needs_background": "light"
     },
     "output_type": "display_data"
    }
   ],
   "source": [
    "item_df = events_df.filter(events_df.page==\"Error\") \\\n",
    "            .groupBy([\"userId\", \"churn\"]).count().toPandas()\n",
    "grps = sns.FacetGrid(item_df, col=\"churn\", sharey=True,\n",
    "                     palette=\"Blues_d\", size=4, aspect=1)\n",
    "grps.fig.suptitle(\"Number of occuring errors\", size=10)\n",
    "grps.fig.subplots_adjust(top=.9)\n",
    "# grps.set_titles('{col_name}')\n",
    "grps = grps.map(plt.hist, \"count\", alpha=.7, edgecolor=\"w\");\n",
    "clean_subplots_title(grps, \"Error page visits #\", \"users #\")"
   ]
  },
  {
   "cell_type": "markdown",
   "metadata": {},
   "source": [
    "We observe that on average each of the users (churning or engaged) got the same number of error pages"
   ]
  },
  {
   "cell_type": "markdown",
   "metadata": {},
   "source": [
    "#  <center> 4. Feature Engineering<a id='feature_eng'></a> </center>\n",
    "Used features for the model:\n",
    "```\n",
    "    - Number of songs per day over the last 20 days (array of 20 values)\n",
    "    - registration_days (label encoded)\n",
    "    - Average daily session duration\n",
    "    - Average monthly session duration\n",
    "    - Number of errors events\n",
    "    - Number of songs per session\n",
    "    - Number of thumbs up\n",
    "    - Number of thumbs down\n",
    "    - Last level of the user (Paid or Free)\n",
    "    - Number of unique artists the user listened to\n",
    "    - Daily number of items per session over the last 20 days (array of 20 values)\n",
    "    - User Account age in days: uage duration since first log event day\n",
    "````"
   ]
  },
  {
   "cell_type": "markdown",
   "metadata": {},
   "source": [
    "## Service usage over the last 20 days"
   ]
  },
  {
   "cell_type": "code",
   "execution_count": 76,
   "metadata": {},
   "outputs": [],
   "source": [
    "account_age_in_days = udf(lambda max_date, current_date:\n",
    "                          (max_date - current_date).days)\n",
    "\n",
    "usage_days_df = events_df \\\n",
    "    .select('userId', 'date', 'churn') \\\n",
    "    .groupBy('userId') \\\n",
    "    .agg(F.max(events_df.date), F.min(events_df.date)) \\\n",
    "    .withColumnRenamed('max(date)', 'last_day') \\\n",
    "    .withColumnRenamed('min(date)', 'first_day') \\\n",
    "    .withColumn(\"20_days_before\", F.date_add(col(\"last_day\"), - 20 + 1))\\\n",
    "    .filter(account_age_in_days(col(\"last_day\"), col(\"first_day\")) >= 20)\n",
    "\n",
    "usage_last20days_df = usage_days_df \\\n",
    "    .join(events_df, events_df.userId == usage_days_df.userId) \\\n",
    "    .where(col('date').between(col('20_days_before'), col('last_day'))) \\\n",
    "    .groupby([events_df.userId, events_df.date, col('last_day')]).count() \\\n",
    "    .orderBy(\"userId\", col(\"date\").asc()) \\\n",
    "    .withColumn(\"date_index\", account_age_in_days(col(\"last_day\"), col(\"date\"))) \\\n",
    "    .withColumn(\"date_index\", col(\"date_index\").cast('int'))"
   ]
  },
  {
   "cell_type": "code",
   "execution_count": 77,
   "metadata": {},
   "outputs": [
    {
     "data": {
      "text/plain": [
       "188"
      ]
     },
     "execution_count": 77,
     "metadata": {},
     "output_type": "execute_result"
    }
   ],
   "source": [
    "# get list of users ids\n",
    "users_ids = usage_last20days_df.select(\"userId\").distinct().rdd.map(lambda r: r[0]).collect()\n",
    "len(users_ids)"
   ]
  },
  {
   "cell_type": "code",
   "execution_count": 78,
   "metadata": {},
   "outputs": [
    {
     "data": {
      "text/html": [
       "<div>\n",
       "<style scoped>\n",
       "    .dataframe tbody tr th:only-of-type {\n",
       "        vertical-align: middle;\n",
       "    }\n",
       "\n",
       "    .dataframe tbody tr th {\n",
       "        vertical-align: top;\n",
       "    }\n",
       "\n",
       "    .dataframe thead th {\n",
       "        text-align: right;\n",
       "    }\n",
       "</style>\n",
       "<table border=\"1\" class=\"dataframe\">\n",
       "  <thead>\n",
       "    <tr style=\"text-align: right;\">\n",
       "      <th></th>\n",
       "      <th>userId</th>\n",
       "      <th>date</th>\n",
       "      <th>last_day</th>\n",
       "      <th>count</th>\n",
       "      <th>date_index</th>\n",
       "    </tr>\n",
       "  </thead>\n",
       "  <tbody>\n",
       "    <tr>\n",
       "      <th>0</th>\n",
       "      <td>10</td>\n",
       "      <td>2018-11-03</td>\n",
       "      <td>2018-11-19</td>\n",
       "      <td>78</td>\n",
       "      <td>16</td>\n",
       "    </tr>\n",
       "    <tr>\n",
       "      <th>1</th>\n",
       "      <td>10</td>\n",
       "      <td>2018-11-15</td>\n",
       "      <td>2018-11-19</td>\n",
       "      <td>57</td>\n",
       "      <td>4</td>\n",
       "    </tr>\n",
       "    <tr>\n",
       "      <th>2</th>\n",
       "      <td>10</td>\n",
       "      <td>2018-11-16</td>\n",
       "      <td>2018-11-19</td>\n",
       "      <td>21</td>\n",
       "      <td>3</td>\n",
       "    </tr>\n",
       "    <tr>\n",
       "      <th>3</th>\n",
       "      <td>10</td>\n",
       "      <td>2018-11-19</td>\n",
       "      <td>2018-11-19</td>\n",
       "      <td>95</td>\n",
       "      <td>0</td>\n",
       "    </tr>\n",
       "    <tr>\n",
       "      <th>4</th>\n",
       "      <td>100</td>\n",
       "      <td>2018-11-13</td>\n",
       "      <td>2018-11-30</td>\n",
       "      <td>7</td>\n",
       "      <td>17</td>\n",
       "    </tr>\n",
       "  </tbody>\n",
       "</table>\n",
       "</div>"
      ],
      "text/plain": [
       "  userId        date    last_day  count  date_index\n",
       "0     10  2018-11-03  2018-11-19     78          16\n",
       "1     10  2018-11-15  2018-11-19     57           4\n",
       "2     10  2018-11-16  2018-11-19     21           3\n",
       "3     10  2018-11-19  2018-11-19     95           0\n",
       "4    100  2018-11-13  2018-11-30      7          17"
      ]
     },
     "execution_count": 78,
     "metadata": {},
     "output_type": "execute_result"
    }
   ],
   "source": [
    "usage_last20days_df.toPandas().head()"
   ]
  },
  {
   "cell_type": "code",
   "execution_count": 79,
   "metadata": {},
   "outputs": [],
   "source": [
    "def vector_builder(grp):\n",
    "    \"\"\"Build feature vector from aggregated count\n",
    "    data for each user\n",
    "    Args:\n",
    "        grp: ndarray of columns values\n",
    "    \"\"\"\n",
    "    vector = np.zeros(20)\n",
    "    for count, index in grp[['count', 'date_index']].values:\n",
    "        vector[index] = count\n",
    "    return pd.Series(vector)\n",
    "        \n",
    "usage_last20days_features = usage_last20days_df.toPandas().groupby('userId').apply(vector_builder).reset_index()"
   ]
  },
  {
   "cell_type": "code",
   "execution_count": 80,
   "metadata": {},
   "outputs": [
    {
     "data": {
      "text/html": [
       "<div>\n",
       "<style scoped>\n",
       "    .dataframe tbody tr th:only-of-type {\n",
       "        vertical-align: middle;\n",
       "    }\n",
       "\n",
       "    .dataframe tbody tr th {\n",
       "        vertical-align: top;\n",
       "    }\n",
       "\n",
       "    .dataframe thead th {\n",
       "        text-align: right;\n",
       "    }\n",
       "</style>\n",
       "<table border=\"1\" class=\"dataframe\">\n",
       "  <thead>\n",
       "    <tr style=\"text-align: right;\">\n",
       "      <th></th>\n",
       "      <th>userId</th>\n",
       "      <th>0</th>\n",
       "      <th>1</th>\n",
       "      <th>2</th>\n",
       "      <th>3</th>\n",
       "      <th>4</th>\n",
       "      <th>5</th>\n",
       "      <th>6</th>\n",
       "      <th>7</th>\n",
       "      <th>8</th>\n",
       "      <th>...</th>\n",
       "      <th>10</th>\n",
       "      <th>11</th>\n",
       "      <th>12</th>\n",
       "      <th>13</th>\n",
       "      <th>14</th>\n",
       "      <th>15</th>\n",
       "      <th>16</th>\n",
       "      <th>17</th>\n",
       "      <th>18</th>\n",
       "      <th>19</th>\n",
       "    </tr>\n",
       "  </thead>\n",
       "  <tbody>\n",
       "    <tr>\n",
       "      <th>0</th>\n",
       "      <td>10</td>\n",
       "      <td>95.0</td>\n",
       "      <td>0.0</td>\n",
       "      <td>0.0</td>\n",
       "      <td>21.0</td>\n",
       "      <td>57.0</td>\n",
       "      <td>0.0</td>\n",
       "      <td>0.0</td>\n",
       "      <td>0.0</td>\n",
       "      <td>0.0</td>\n",
       "      <td>...</td>\n",
       "      <td>0.0</td>\n",
       "      <td>0.0</td>\n",
       "      <td>0.0</td>\n",
       "      <td>0.0</td>\n",
       "      <td>0.0</td>\n",
       "      <td>0.0</td>\n",
       "      <td>78.0</td>\n",
       "      <td>0.0</td>\n",
       "      <td>0.0</td>\n",
       "      <td>0.0</td>\n",
       "    </tr>\n",
       "    <tr>\n",
       "      <th>1</th>\n",
       "      <td>100</td>\n",
       "      <td>91.0</td>\n",
       "      <td>196.0</td>\n",
       "      <td>0.0</td>\n",
       "      <td>0.0</td>\n",
       "      <td>23.0</td>\n",
       "      <td>0.0</td>\n",
       "      <td>0.0</td>\n",
       "      <td>30.0</td>\n",
       "      <td>0.0</td>\n",
       "      <td>...</td>\n",
       "      <td>169.0</td>\n",
       "      <td>109.0</td>\n",
       "      <td>0.0</td>\n",
       "      <td>0.0</td>\n",
       "      <td>36.0</td>\n",
       "      <td>250.0</td>\n",
       "      <td>86.0</td>\n",
       "      <td>7.0</td>\n",
       "      <td>0.0</td>\n",
       "      <td>0.0</td>\n",
       "    </tr>\n",
       "    <tr>\n",
       "      <th>2</th>\n",
       "      <td>100002</td>\n",
       "      <td>1.0</td>\n",
       "      <td>0.0</td>\n",
       "      <td>0.0</td>\n",
       "      <td>0.0</td>\n",
       "      <td>0.0</td>\n",
       "      <td>0.0</td>\n",
       "      <td>0.0</td>\n",
       "      <td>0.0</td>\n",
       "      <td>0.0</td>\n",
       "      <td>...</td>\n",
       "      <td>0.0</td>\n",
       "      <td>0.0</td>\n",
       "      <td>0.0</td>\n",
       "      <td>0.0</td>\n",
       "      <td>0.0</td>\n",
       "      <td>0.0</td>\n",
       "      <td>0.0</td>\n",
       "      <td>0.0</td>\n",
       "      <td>75.0</td>\n",
       "      <td>115.0</td>\n",
       "    </tr>\n",
       "    <tr>\n",
       "      <th>3</th>\n",
       "      <td>100004</td>\n",
       "      <td>59.0</td>\n",
       "      <td>95.0</td>\n",
       "      <td>244.0</td>\n",
       "      <td>0.0</td>\n",
       "      <td>9.0</td>\n",
       "      <td>0.0</td>\n",
       "      <td>0.0</td>\n",
       "      <td>0.0</td>\n",
       "      <td>17.0</td>\n",
       "      <td>...</td>\n",
       "      <td>0.0</td>\n",
       "      <td>0.0</td>\n",
       "      <td>0.0</td>\n",
       "      <td>0.0</td>\n",
       "      <td>70.0</td>\n",
       "      <td>0.0</td>\n",
       "      <td>168.0</td>\n",
       "      <td>0.0</td>\n",
       "      <td>0.0</td>\n",
       "      <td>0.0</td>\n",
       "    </tr>\n",
       "    <tr>\n",
       "      <th>4</th>\n",
       "      <td>100007</td>\n",
       "      <td>200.0</td>\n",
       "      <td>0.0</td>\n",
       "      <td>0.0</td>\n",
       "      <td>0.0</td>\n",
       "      <td>0.0</td>\n",
       "      <td>0.0</td>\n",
       "      <td>16.0</td>\n",
       "      <td>0.0</td>\n",
       "      <td>0.0</td>\n",
       "      <td>...</td>\n",
       "      <td>0.0</td>\n",
       "      <td>0.0</td>\n",
       "      <td>0.0</td>\n",
       "      <td>0.0</td>\n",
       "      <td>0.0</td>\n",
       "      <td>0.0</td>\n",
       "      <td>0.0</td>\n",
       "      <td>6.0</td>\n",
       "      <td>0.0</td>\n",
       "      <td>0.0</td>\n",
       "    </tr>\n",
       "    <tr>\n",
       "      <th>...</th>\n",
       "      <td>...</td>\n",
       "      <td>...</td>\n",
       "      <td>...</td>\n",
       "      <td>...</td>\n",
       "      <td>...</td>\n",
       "      <td>...</td>\n",
       "      <td>...</td>\n",
       "      <td>...</td>\n",
       "      <td>...</td>\n",
       "      <td>...</td>\n",
       "      <td>...</td>\n",
       "      <td>...</td>\n",
       "      <td>...</td>\n",
       "      <td>...</td>\n",
       "      <td>...</td>\n",
       "      <td>...</td>\n",
       "      <td>...</td>\n",
       "      <td>...</td>\n",
       "      <td>...</td>\n",
       "      <td>...</td>\n",
       "      <td>...</td>\n",
       "    </tr>\n",
       "    <tr>\n",
       "      <th>183</th>\n",
       "      <td>95</td>\n",
       "      <td>22.0</td>\n",
       "      <td>27.0</td>\n",
       "      <td>0.0</td>\n",
       "      <td>62.0</td>\n",
       "      <td>0.0</td>\n",
       "      <td>0.0</td>\n",
       "      <td>0.0</td>\n",
       "      <td>129.0</td>\n",
       "      <td>9.0</td>\n",
       "      <td>...</td>\n",
       "      <td>0.0</td>\n",
       "      <td>31.0</td>\n",
       "      <td>37.0</td>\n",
       "      <td>0.0</td>\n",
       "      <td>0.0</td>\n",
       "      <td>0.0</td>\n",
       "      <td>22.0</td>\n",
       "      <td>0.0</td>\n",
       "      <td>59.0</td>\n",
       "      <td>0.0</td>\n",
       "    </tr>\n",
       "    <tr>\n",
       "      <th>184</th>\n",
       "      <td>96</td>\n",
       "      <td>10.0</td>\n",
       "      <td>81.0</td>\n",
       "      <td>0.0</td>\n",
       "      <td>311.0</td>\n",
       "      <td>310.0</td>\n",
       "      <td>34.0</td>\n",
       "      <td>0.0</td>\n",
       "      <td>36.0</td>\n",
       "      <td>0.0</td>\n",
       "      <td>...</td>\n",
       "      <td>79.0</td>\n",
       "      <td>0.0</td>\n",
       "      <td>0.0</td>\n",
       "      <td>0.0</td>\n",
       "      <td>0.0</td>\n",
       "      <td>0.0</td>\n",
       "      <td>13.0</td>\n",
       "      <td>0.0</td>\n",
       "      <td>0.0</td>\n",
       "      <td>0.0</td>\n",
       "    </tr>\n",
       "    <tr>\n",
       "      <th>185</th>\n",
       "      <td>97</td>\n",
       "      <td>27.0</td>\n",
       "      <td>0.0</td>\n",
       "      <td>0.0</td>\n",
       "      <td>0.0</td>\n",
       "      <td>333.0</td>\n",
       "      <td>0.0</td>\n",
       "      <td>0.0</td>\n",
       "      <td>73.0</td>\n",
       "      <td>23.0</td>\n",
       "      <td>...</td>\n",
       "      <td>216.0</td>\n",
       "      <td>88.0</td>\n",
       "      <td>84.0</td>\n",
       "      <td>0.0</td>\n",
       "      <td>3.0</td>\n",
       "      <td>228.0</td>\n",
       "      <td>133.0</td>\n",
       "      <td>0.0</td>\n",
       "      <td>0.0</td>\n",
       "      <td>0.0</td>\n",
       "    </tr>\n",
       "    <tr>\n",
       "      <th>186</th>\n",
       "      <td>98</td>\n",
       "      <td>61.0</td>\n",
       "      <td>0.0</td>\n",
       "      <td>63.0</td>\n",
       "      <td>0.0</td>\n",
       "      <td>0.0</td>\n",
       "      <td>0.0</td>\n",
       "      <td>87.0</td>\n",
       "      <td>65.0</td>\n",
       "      <td>228.0</td>\n",
       "      <td>...</td>\n",
       "      <td>187.0</td>\n",
       "      <td>274.0</td>\n",
       "      <td>0.0</td>\n",
       "      <td>0.0</td>\n",
       "      <td>229.0</td>\n",
       "      <td>137.0</td>\n",
       "      <td>0.0</td>\n",
       "      <td>0.0</td>\n",
       "      <td>0.0</td>\n",
       "      <td>35.0</td>\n",
       "    </tr>\n",
       "    <tr>\n",
       "      <th>187</th>\n",
       "      <td>99</td>\n",
       "      <td>133.0</td>\n",
       "      <td>0.0</td>\n",
       "      <td>0.0</td>\n",
       "      <td>141.0</td>\n",
       "      <td>0.0</td>\n",
       "      <td>88.0</td>\n",
       "      <td>0.0</td>\n",
       "      <td>0.0</td>\n",
       "      <td>24.0</td>\n",
       "      <td>...</td>\n",
       "      <td>0.0</td>\n",
       "      <td>54.0</td>\n",
       "      <td>0.0</td>\n",
       "      <td>0.0</td>\n",
       "      <td>0.0</td>\n",
       "      <td>0.0</td>\n",
       "      <td>0.0</td>\n",
       "      <td>0.0</td>\n",
       "      <td>0.0</td>\n",
       "      <td>0.0</td>\n",
       "    </tr>\n",
       "  </tbody>\n",
       "</table>\n",
       "<p>188 rows × 21 columns</p>\n",
       "</div>"
      ],
      "text/plain": [
       "     userId      0      1      2      3      4     5     6      7      8  ...  \\\n",
       "0        10   95.0    0.0    0.0   21.0   57.0   0.0   0.0    0.0    0.0  ...   \n",
       "1       100   91.0  196.0    0.0    0.0   23.0   0.0   0.0   30.0    0.0  ...   \n",
       "2    100002    1.0    0.0    0.0    0.0    0.0   0.0   0.0    0.0    0.0  ...   \n",
       "3    100004   59.0   95.0  244.0    0.0    9.0   0.0   0.0    0.0   17.0  ...   \n",
       "4    100007  200.0    0.0    0.0    0.0    0.0   0.0  16.0    0.0    0.0  ...   \n",
       "..      ...    ...    ...    ...    ...    ...   ...   ...    ...    ...  ...   \n",
       "183      95   22.0   27.0    0.0   62.0    0.0   0.0   0.0  129.0    9.0  ...   \n",
       "184      96   10.0   81.0    0.0  311.0  310.0  34.0   0.0   36.0    0.0  ...   \n",
       "185      97   27.0    0.0    0.0    0.0  333.0   0.0   0.0   73.0   23.0  ...   \n",
       "186      98   61.0    0.0   63.0    0.0    0.0   0.0  87.0   65.0  228.0  ...   \n",
       "187      99  133.0    0.0    0.0  141.0    0.0  88.0   0.0    0.0   24.0  ...   \n",
       "\n",
       "        10     11    12   13     14     15     16   17    18     19  \n",
       "0      0.0    0.0   0.0  0.0    0.0    0.0   78.0  0.0   0.0    0.0  \n",
       "1    169.0  109.0   0.0  0.0   36.0  250.0   86.0  7.0   0.0    0.0  \n",
       "2      0.0    0.0   0.0  0.0    0.0    0.0    0.0  0.0  75.0  115.0  \n",
       "3      0.0    0.0   0.0  0.0   70.0    0.0  168.0  0.0   0.0    0.0  \n",
       "4      0.0    0.0   0.0  0.0    0.0    0.0    0.0  6.0   0.0    0.0  \n",
       "..     ...    ...   ...  ...    ...    ...    ...  ...   ...    ...  \n",
       "183    0.0   31.0  37.0  0.0    0.0    0.0   22.0  0.0  59.0    0.0  \n",
       "184   79.0    0.0   0.0  0.0    0.0    0.0   13.0  0.0   0.0    0.0  \n",
       "185  216.0   88.0  84.0  0.0    3.0  228.0  133.0  0.0   0.0    0.0  \n",
       "186  187.0  274.0   0.0  0.0  229.0  137.0    0.0  0.0   0.0   35.0  \n",
       "187    0.0   54.0   0.0  0.0    0.0    0.0    0.0  0.0   0.0    0.0  \n",
       "\n",
       "[188 rows x 21 columns]"
      ]
     },
     "execution_count": 80,
     "metadata": {},
     "output_type": "execute_result"
    }
   ],
   "source": [
    "usage_last20days_features"
   ]
  },
  {
   "cell_type": "code",
   "execution_count": 81,
   "metadata": {},
   "outputs": [
    {
     "name": "stdout",
     "output_type": "stream",
     "text": [
      "Number of unique users 188\n"
     ]
    }
   ],
   "source": [
    "print(\"Number of unique users\", len(usage_last20days_features.userId.unique()))"
   ]
  },
  {
   "cell_type": "markdown",
   "metadata": {},
   "source": [
    "### keep only users with account age older than 20 days"
   ]
  },
  {
   "cell_type": "code",
   "execution_count": 84,
   "metadata": {},
   "outputs": [
    {
     "data": {
      "text/plain": [
       "188"
      ]
     },
     "execution_count": 84,
     "metadata": {},
     "output_type": "execute_result"
    }
   ],
   "source": [
    "events_df = events_df[events_df.userId.isin(users_ids)]\n",
    "nb_users = events_df.select('userId').distinct().count()\n",
    "nb_users"
   ]
  },
  {
   "cell_type": "markdown",
   "metadata": {},
   "source": [
    "### Number of days since user registration: `registration_days`"
   ]
  },
  {
   "cell_type": "code",
   "execution_count": 85,
   "metadata": {},
   "outputs": [],
   "source": [
    "def registration_days(df):\n",
    "    \"\"\"\n",
    "    Calculates number of days between registration to last user associated event\n",
    "    Args:\n",
    "        df: spark DataFrame\n",
    "    Return:\n",
    "        df Dataframe with calculated column\n",
    "    \"\"\"\n",
    "    last_event_df = df.groupBy(\"userId\").max(\"ts\").withColumnRenamed(\"max(ts)\", \"last_event\")\n",
    "    df = last_event_df.join(df, on=\"userId\") \\\n",
    "        .withColumn(\"registration_days\",\n",
    "                    ((col(\"last_event\") - col(\"registration\")) / (1000 * 60 * 60 * 24)) \\\n",
    "        .cast(IntegerType())).select(\"userId\", \"registration_days\")\n",
    "    return df\n",
    "registration_df = registration_days(events_df)\n",
    "assert registration_df.select('userId').distinct().count() == nb_users"
   ]
  },
  {
   "cell_type": "code",
   "execution_count": 86,
   "metadata": {},
   "outputs": [
    {
     "data": {
      "text/html": [
       "<div>\n",
       "<style scoped>\n",
       "    .dataframe tbody tr th:only-of-type {\n",
       "        vertical-align: middle;\n",
       "    }\n",
       "\n",
       "    .dataframe tbody tr th {\n",
       "        vertical-align: top;\n",
       "    }\n",
       "\n",
       "    .dataframe thead th {\n",
       "        text-align: right;\n",
       "    }\n",
       "</style>\n",
       "<table border=\"1\" class=\"dataframe\">\n",
       "  <thead>\n",
       "    <tr style=\"text-align: right;\">\n",
       "      <th></th>\n",
       "      <th>userId</th>\n",
       "      <th>registration_days</th>\n",
       "    </tr>\n",
       "  </thead>\n",
       "  <tbody>\n",
       "    <tr>\n",
       "      <th>0</th>\n",
       "      <td>100010</td>\n",
       "      <td>55</td>\n",
       "    </tr>\n",
       "    <tr>\n",
       "      <th>1</th>\n",
       "      <td>100010</td>\n",
       "      <td>55</td>\n",
       "    </tr>\n",
       "    <tr>\n",
       "      <th>2</th>\n",
       "      <td>100010</td>\n",
       "      <td>55</td>\n",
       "    </tr>\n",
       "    <tr>\n",
       "      <th>3</th>\n",
       "      <td>100010</td>\n",
       "      <td>55</td>\n",
       "    </tr>\n",
       "    <tr>\n",
       "      <th>4</th>\n",
       "      <td>100010</td>\n",
       "      <td>55</td>\n",
       "    </tr>\n",
       "  </tbody>\n",
       "</table>\n",
       "</div>"
      ],
      "text/plain": [
       "   userId  registration_days\n",
       "0  100010                 55\n",
       "1  100010                 55\n",
       "2  100010                 55\n",
       "3  100010                 55\n",
       "4  100010                 55"
      ]
     },
     "execution_count": 86,
     "metadata": {},
     "output_type": "execute_result"
    }
   ],
   "source": [
    "pd.DataFrame(registration_df.take(5), columns=registration_df.columns)"
   ]
  },
  {
   "cell_type": "markdown",
   "metadata": {},
   "source": [
    "### Average Daily and Monthly session duration per user\" `avg_daily_session_duration` and `avg_monthly_session_duration`"
   ]
  },
  {
   "cell_type": "code",
   "execution_count": 87,
   "metadata": {},
   "outputs": [
    {
     "data": {
      "text/html": [
       "<div>\n",
       "<style scoped>\n",
       "    .dataframe tbody tr th:only-of-type {\n",
       "        vertical-align: middle;\n",
       "    }\n",
       "\n",
       "    .dataframe tbody tr th {\n",
       "        vertical-align: top;\n",
       "    }\n",
       "\n",
       "    .dataframe thead th {\n",
       "        text-align: right;\n",
       "    }\n",
       "</style>\n",
       "<table border=\"1\" class=\"dataframe\">\n",
       "  <thead>\n",
       "    <tr style=\"text-align: right;\">\n",
       "      <th></th>\n",
       "      <th>userId</th>\n",
       "      <th>avg_daily_session_duration</th>\n",
       "      <th>avg_monthly_session_duration</th>\n",
       "    </tr>\n",
       "  </thead>\n",
       "  <tbody>\n",
       "    <tr>\n",
       "      <th>0</th>\n",
       "      <td>100010</td>\n",
       "      <td>9269.000000</td>\n",
       "      <td>9693.500000</td>\n",
       "    </tr>\n",
       "    <tr>\n",
       "      <th>1</th>\n",
       "      <td>200002</td>\n",
       "      <td>11924.250000</td>\n",
       "      <td>21529.200000</td>\n",
       "    </tr>\n",
       "    <tr>\n",
       "      <th>2</th>\n",
       "      <td>124</td>\n",
       "      <td>25218.162037</td>\n",
       "      <td>35410.519231</td>\n",
       "    </tr>\n",
       "    <tr>\n",
       "      <th>3</th>\n",
       "      <td>7</td>\n",
       "      <td>5258.428571</td>\n",
       "      <td>5003.583333</td>\n",
       "    </tr>\n",
       "    <tr>\n",
       "      <th>4</th>\n",
       "      <td>15</td>\n",
       "      <td>24441.500000</td>\n",
       "      <td>31866.222222</td>\n",
       "    </tr>\n",
       "  </tbody>\n",
       "</table>\n",
       "</div>"
      ],
      "text/plain": [
       "   userId  avg_daily_session_duration  avg_monthly_session_duration\n",
       "0  100010                 9269.000000                   9693.500000\n",
       "1  200002                11924.250000                  21529.200000\n",
       "2     124                25218.162037                  35410.519231\n",
       "3       7                 5258.428571                   5003.583333\n",
       "4      15                24441.500000                  31866.222222"
      ]
     },
     "execution_count": 87,
     "metadata": {},
     "output_type": "execute_result"
    }
   ],
   "source": [
    "def session_durations(df):\n",
    "    \"\"\"\n",
    "    Calculates average daily and monthly session duration per user\n",
    "    Args: \n",
    "        df: spark DataFrame\n",
    "    Return: \n",
    "        daily session duration dataframe\n",
    "    \"\"\"\n",
    "\n",
    "    daily_session_duration_df = df.groupby('userId','date','sessionId') \\\n",
    "            .agg(F.max('ts'), F.min('ts')) \\\n",
    "            .withColumn('session_duration_sec', (col('max(ts)') - col('min(ts)')) * 0.001) \\\n",
    "            .groupby('userId','date') \\\n",
    "            .avg('session_duration_sec') \\\n",
    "            .groupby('userId') \\\n",
    "            .agg(F.mean('avg(session_duration_sec)').alias('avg_daily_session_duration')) \\\n",
    "            .orderBy('userId', ascending=False)\n",
    "    \n",
    "    monthly_session_duration_df = df.groupby('userId','month','sessionId') \\\n",
    "            .agg(F.max('ts').alias('session_end'), F.min('ts').alias('session_start')) \\\n",
    "            .withColumn('session_duration_sec', (col('session_end') - col('session_start')) * 0.001) \\\n",
    "            .groupby('userId','month') \\\n",
    "            .avg('session_duration_sec') \\\n",
    "            .groupby('userId') \\\n",
    "            .agg(F.mean('avg(session_duration_sec)').alias('avg_monthly_session_duration')) \\\n",
    "            .orderBy('userId', ascending=False)\n",
    "\n",
    "    return daily_session_duration_df.join(monthly_session_duration_df, on='userId')\n",
    "\n",
    "sess_duration = session_durations(events_df)\n",
    "\n",
    "assert sess_duration.count() == nb_users\n",
    "\n",
    "get_dataframe(sess_duration)"
   ]
  },
  {
   "cell_type": "markdown",
   "metadata": {},
   "source": [
    "### Average Daily and Monthly number of items per session\" `avg_daily_items` and`avg_monthly_items`"
   ]
  },
  {
   "cell_type": "code",
   "execution_count": 88,
   "metadata": {},
   "outputs": [
    {
     "data": {
      "text/html": [
       "<div>\n",
       "<style scoped>\n",
       "    .dataframe tbody tr th:only-of-type {\n",
       "        vertical-align: middle;\n",
       "    }\n",
       "\n",
       "    .dataframe tbody tr th {\n",
       "        vertical-align: top;\n",
       "    }\n",
       "\n",
       "    .dataframe thead th {\n",
       "        text-align: right;\n",
       "    }\n",
       "</style>\n",
       "<table border=\"1\" class=\"dataframe\">\n",
       "  <thead>\n",
       "    <tr style=\"text-align: right;\">\n",
       "      <th></th>\n",
       "      <th>userId</th>\n",
       "      <th>avg_daily_items</th>\n",
       "      <th>avg_monthly_items</th>\n",
       "    </tr>\n",
       "  </thead>\n",
       "  <tbody>\n",
       "    <tr>\n",
       "      <th>0</th>\n",
       "      <td>100010</td>\n",
       "      <td>54.428571</td>\n",
       "      <td>85.0</td>\n",
       "    </tr>\n",
       "    <tr>\n",
       "      <th>1</th>\n",
       "      <td>200002</td>\n",
       "      <td>82.375000</td>\n",
       "      <td>150.0</td>\n",
       "    </tr>\n",
       "    <tr>\n",
       "      <th>2</th>\n",
       "      <td>124</td>\n",
       "      <td>196.444444</td>\n",
       "      <td>530.0</td>\n",
       "    </tr>\n",
       "    <tr>\n",
       "      <th>3</th>\n",
       "      <td>7</td>\n",
       "      <td>28.428571</td>\n",
       "      <td>60.0</td>\n",
       "    </tr>\n",
       "    <tr>\n",
       "      <th>4</th>\n",
       "      <td>15</td>\n",
       "      <td>154.611111</td>\n",
       "      <td>367.0</td>\n",
       "    </tr>\n",
       "  </tbody>\n",
       "</table>\n",
       "</div>"
      ],
      "text/plain": [
       "   userId  avg_daily_items  avg_monthly_items\n",
       "0  100010        54.428571               85.0\n",
       "1  200002        82.375000              150.0\n",
       "2     124       196.444444              530.0\n",
       "3       7        28.428571               60.0\n",
       "4      15       154.611111              367.0"
      ]
     },
     "execution_count": 88,
     "metadata": {},
     "output_type": "execute_result"
    }
   ],
   "source": [
    "def items_averages(df):\n",
    "    \"\"\"\n",
    "    Calculate average number of items per session for each user(daily and monthly)\n",
    "    Args:\n",
    "        df: Spark DataFrame\n",
    "    Return:\n",
    "        daily and monthly averages DataFrame\n",
    "    \"\"\"\n",
    "    daily_items_df = df.groupby('userId','date') \\\n",
    "        .max('itemInSession') \\\n",
    "        .groupBy('userId').avg('max(itemInSession)') \\\n",
    "        .withColumnRenamed('avg(max(itemInSession))', 'avg_daily_items')\n",
    "    \n",
    "    monthly_items_df = df.groupby('userId','month') \\\n",
    "        .max('itemInSession') \\\n",
    "        .groupBy('userId').avg('max(itemInSession)') \\\n",
    "        .withColumnRenamed('avg(max(itemInSession))', 'avg_monthly_items')\n",
    "    \n",
    "    return daily_items_df.join(monthly_items_df, on='userId')\n",
    "\n",
    "items_averages_df = items_averages(events_df)\n",
    "assert items_averages_df.count() == nb_users\n",
    "get_dataframe(items_averages_df)"
   ]
  },
  {
   "cell_type": "markdown",
   "metadata": {},
   "source": [
    "### Number of errors: `nb_errors`"
   ]
  },
  {
   "cell_type": "code",
   "execution_count": 89,
   "metadata": {},
   "outputs": [
    {
     "name": "stdout",
     "output_type": "stream",
     "text": [
      "110\n"
     ]
    },
    {
     "data": {
      "text/html": [
       "<div>\n",
       "<style scoped>\n",
       "    .dataframe tbody tr th:only-of-type {\n",
       "        vertical-align: middle;\n",
       "    }\n",
       "\n",
       "    .dataframe tbody tr th {\n",
       "        vertical-align: top;\n",
       "    }\n",
       "\n",
       "    .dataframe thead th {\n",
       "        text-align: right;\n",
       "    }\n",
       "</style>\n",
       "<table border=\"1\" class=\"dataframe\">\n",
       "  <thead>\n",
       "    <tr style=\"text-align: right;\">\n",
       "      <th></th>\n",
       "      <th>userId</th>\n",
       "      <th>nb_errors</th>\n",
       "    </tr>\n",
       "  </thead>\n",
       "  <tbody>\n",
       "    <tr>\n",
       "      <th>0</th>\n",
       "      <td>124</td>\n",
       "      <td>6</td>\n",
       "    </tr>\n",
       "    <tr>\n",
       "      <th>1</th>\n",
       "      <td>7</td>\n",
       "      <td>1</td>\n",
       "    </tr>\n",
       "    <tr>\n",
       "      <th>2</th>\n",
       "      <td>15</td>\n",
       "      <td>2</td>\n",
       "    </tr>\n",
       "    <tr>\n",
       "      <th>3</th>\n",
       "      <td>54</td>\n",
       "      <td>1</td>\n",
       "    </tr>\n",
       "    <tr>\n",
       "      <th>4</th>\n",
       "      <td>155</td>\n",
       "      <td>3</td>\n",
       "    </tr>\n",
       "  </tbody>\n",
       "</table>\n",
       "</div>"
      ],
      "text/plain": [
       "  userId  nb_errors\n",
       "0    124          6\n",
       "1      7          1\n",
       "2     15          2\n",
       "3     54          1\n",
       "4    155          3"
      ]
     },
     "execution_count": 89,
     "metadata": {},
     "output_type": "execute_result"
    }
   ],
   "source": [
    "errors_df = events_df.filter(events_df.page==\"Error\") \\\n",
    "            .groupBy([\"userId\"]).count() \\\n",
    "            .withColumnRenamed('count', 'nb_errors')\n",
    "print(errors_df.count())\n",
    "# errors_df.show(5)\n",
    "get_dataframe(errors_df)"
   ]
  },
  {
   "cell_type": "markdown",
   "metadata": {},
   "source": [
    "### Fill missing values with zeros"
   ]
  },
  {
   "cell_type": "code",
   "execution_count": 90,
   "metadata": {},
   "outputs": [
    {
     "data": {
      "text/html": [
       "<div>\n",
       "<style scoped>\n",
       "    .dataframe tbody tr th:only-of-type {\n",
       "        vertical-align: middle;\n",
       "    }\n",
       "\n",
       "    .dataframe tbody tr th {\n",
       "        vertical-align: top;\n",
       "    }\n",
       "\n",
       "    .dataframe thead th {\n",
       "        text-align: right;\n",
       "    }\n",
       "</style>\n",
       "<table border=\"1\" class=\"dataframe\">\n",
       "  <thead>\n",
       "    <tr style=\"text-align: right;\">\n",
       "      <th></th>\n",
       "      <th>userId</th>\n",
       "      <th>nb_errors</th>\n",
       "    </tr>\n",
       "  </thead>\n",
       "  <tbody>\n",
       "    <tr>\n",
       "      <th>0</th>\n",
       "      <td>124</td>\n",
       "      <td>6</td>\n",
       "    </tr>\n",
       "    <tr>\n",
       "      <th>1</th>\n",
       "      <td>7</td>\n",
       "      <td>1</td>\n",
       "    </tr>\n",
       "    <tr>\n",
       "      <th>2</th>\n",
       "      <td>15</td>\n",
       "      <td>2</td>\n",
       "    </tr>\n",
       "    <tr>\n",
       "      <th>3</th>\n",
       "      <td>54</td>\n",
       "      <td>1</td>\n",
       "    </tr>\n",
       "    <tr>\n",
       "      <th>4</th>\n",
       "      <td>155</td>\n",
       "      <td>3</td>\n",
       "    </tr>\n",
       "  </tbody>\n",
       "</table>\n",
       "</div>"
      ],
      "text/plain": [
       "  userId  nb_errors\n",
       "0    124          6\n",
       "1      7          1\n",
       "2     15          2\n",
       "3     54          1\n",
       "4    155          3"
      ]
     },
     "execution_count": 90,
     "metadata": {},
     "output_type": "execute_result"
    }
   ],
   "source": [
    "from pyspark.sql.window import Window as W\n",
    "\n",
    "def impute_missing_values(df, column_name, original_df):\n",
    "    \"\"\"Set the number of errors to zero for the users not having any error event\n",
    "    Args:\n",
    "        df: Spark dataFrame\n",
    "        original_df: spark dataframe with the rest of userIds\\\n",
    "            having missing values\n",
    "    Return:\n",
    "        df with missing values set to zero\n",
    "    \"\"\"\n",
    "    df_usersids = list(df.select('userId') \\\n",
    "                           .dropDuplicates().rdd.flatMap(lambda x : x) \\\n",
    "                           .collect())\n",
    "    missing_ids = original_df.filter(~original_df.userId.isin(df_usersids)).select('userId') \\\n",
    "                                    .dropDuplicates().rdd.flatMap(lambda x : x).collect()\n",
    "\n",
    "    other_users_df = spark.createDataFrame([(userId, 0) for userId in missing_ids], ['userId', column_name])\n",
    "    df = df.union(other_users_df)\n",
    "    \n",
    "    return df\n",
    "\n",
    "errors_df = impute_missing_values(errors_df, 'nb_errors', events_df)\n",
    "assert errors_df.count() == nb_users\n",
    "get_dataframe(errors_df)"
   ]
  },
  {
   "cell_type": "markdown",
   "metadata": {},
   "source": [
    "### Gender: `gender`"
   ]
  },
  {
   "cell_type": "code",
   "execution_count": 91,
   "metadata": {},
   "outputs": [
    {
     "data": {
      "text/html": [
       "<div>\n",
       "<style scoped>\n",
       "    .dataframe tbody tr th:only-of-type {\n",
       "        vertical-align: middle;\n",
       "    }\n",
       "\n",
       "    .dataframe tbody tr th {\n",
       "        vertical-align: top;\n",
       "    }\n",
       "\n",
       "    .dataframe thead th {\n",
       "        text-align: right;\n",
       "    }\n",
       "</style>\n",
       "<table border=\"1\" class=\"dataframe\">\n",
       "  <thead>\n",
       "    <tr style=\"text-align: right;\">\n",
       "      <th></th>\n",
       "      <th>userId</th>\n",
       "      <th>gender</th>\n",
       "    </tr>\n",
       "  </thead>\n",
       "  <tbody>\n",
       "    <tr>\n",
       "      <th>0</th>\n",
       "      <td>147</td>\n",
       "      <td>0</td>\n",
       "    </tr>\n",
       "    <tr>\n",
       "      <th>1</th>\n",
       "      <td>200005</td>\n",
       "      <td>0</td>\n",
       "    </tr>\n",
       "    <tr>\n",
       "      <th>2</th>\n",
       "      <td>200007</td>\n",
       "      <td>1</td>\n",
       "    </tr>\n",
       "    <tr>\n",
       "      <th>3</th>\n",
       "      <td>98</td>\n",
       "      <td>0</td>\n",
       "    </tr>\n",
       "    <tr>\n",
       "      <th>4</th>\n",
       "      <td>3</td>\n",
       "      <td>0</td>\n",
       "    </tr>\n",
       "  </tbody>\n",
       "</table>\n",
       "</div>"
      ],
      "text/plain": [
       "   userId  gender\n",
       "0     147       0\n",
       "1  200005       0\n",
       "2  200007       1\n",
       "3      98       0\n",
       "4       3       0"
      ]
     },
     "execution_count": 91,
     "metadata": {},
     "output_type": "execute_result"
    }
   ],
   "source": [
    "gender_df = events_df \\\n",
    "    .select(\"userId\", \"gender\") \\\n",
    "    .dropDuplicates() \\\n",
    "    .replace(['Male', 'Female'], ['0', '1'], 'gender') \\\n",
    "    .select('userId', col('gender').cast('int'))\n",
    "assert gender_df.count() == nb_users\n",
    "get_dataframe(gender_df)"
   ]
  },
  {
   "cell_type": "markdown",
   "metadata": {},
   "source": [
    "### Account level\" `last_level`"
   ]
  },
  {
   "cell_type": "code",
   "execution_count": 92,
   "metadata": {},
   "outputs": [],
   "source": [
    "# level_df = events_df \\\n",
    "#     .select(\"userId\", \"level\") \\\n",
    "#     .dropDuplicates() \\\n",
    "#     .replace(['paid', 'free'], ['0', '1'], 'level') \\\n",
    "#     .select('userId', col('level').cast('int')).distinct()\n",
    "# print(level_df.count())\n",
    "# get_dataframe(level_df)"
   ]
  },
  {
   "cell_type": "markdown",
   "metadata": {},
   "source": [
    "As the user level can change over the time, we need to keep only the last level for the feature value"
   ]
  },
  {
   "cell_type": "code",
   "execution_count": 93,
   "metadata": {},
   "outputs": [
    {
     "data": {
      "text/html": [
       "<div>\n",
       "<style scoped>\n",
       "    .dataframe tbody tr th:only-of-type {\n",
       "        vertical-align: middle;\n",
       "    }\n",
       "\n",
       "    .dataframe tbody tr th {\n",
       "        vertical-align: top;\n",
       "    }\n",
       "\n",
       "    .dataframe thead th {\n",
       "        text-align: right;\n",
       "    }\n",
       "</style>\n",
       "<table border=\"1\" class=\"dataframe\">\n",
       "  <thead>\n",
       "    <tr style=\"text-align: right;\">\n",
       "      <th></th>\n",
       "      <th>userId</th>\n",
       "      <th>last_level</th>\n",
       "    </tr>\n",
       "  </thead>\n",
       "  <tbody>\n",
       "    <tr>\n",
       "      <th>0</th>\n",
       "      <td>100010</td>\n",
       "      <td>0</td>\n",
       "    </tr>\n",
       "    <tr>\n",
       "      <th>1</th>\n",
       "      <td>200002</td>\n",
       "      <td>1</td>\n",
       "    </tr>\n",
       "    <tr>\n",
       "      <th>2</th>\n",
       "      <td>124</td>\n",
       "      <td>1</td>\n",
       "    </tr>\n",
       "    <tr>\n",
       "      <th>3</th>\n",
       "      <td>7</td>\n",
       "      <td>0</td>\n",
       "    </tr>\n",
       "    <tr>\n",
       "      <th>4</th>\n",
       "      <td>15</td>\n",
       "      <td>1</td>\n",
       "    </tr>\n",
       "  </tbody>\n",
       "</table>\n",
       "</div>"
      ],
      "text/plain": [
       "   userId  last_level\n",
       "0  100010           0\n",
       "1  200002           1\n",
       "2     124           1\n",
       "3       7           0\n",
       "4      15           1"
      ]
     },
     "execution_count": 93,
     "metadata": {},
     "output_type": "execute_result"
    }
   ],
   "source": [
    "level_df = events_df.orderBy('ts', ascending=False).groupBy('userId') \\\n",
    "                .agg(F.first('level').alias('last_level')) \\\n",
    "                .replace(['free', 'paid'], ['0', '1'], 'last_level') \\\n",
    "                .select('userId', col('last_level').cast('int'))\n",
    "\n",
    "assert level_df.count() == nb_users\n",
    "get_dataframe(level_df)"
   ]
  },
  {
   "cell_type": "markdown",
   "metadata": {},
   "source": [
    "### Churn label: `churn`"
   ]
  },
  {
   "cell_type": "code",
   "execution_count": 94,
   "metadata": {},
   "outputs": [
    {
     "data": {
      "text/html": [
       "<div>\n",
       "<style scoped>\n",
       "    .dataframe tbody tr th:only-of-type {\n",
       "        vertical-align: middle;\n",
       "    }\n",
       "\n",
       "    .dataframe tbody tr th {\n",
       "        vertical-align: top;\n",
       "    }\n",
       "\n",
       "    .dataframe thead th {\n",
       "        text-align: right;\n",
       "    }\n",
       "</style>\n",
       "<table border=\"1\" class=\"dataframe\">\n",
       "  <thead>\n",
       "    <tr style=\"text-align: right;\">\n",
       "      <th></th>\n",
       "      <th>userId</th>\n",
       "      <th>churn</th>\n",
       "    </tr>\n",
       "  </thead>\n",
       "  <tbody>\n",
       "    <tr>\n",
       "      <th>0</th>\n",
       "      <td>73</td>\n",
       "      <td>1</td>\n",
       "    </tr>\n",
       "    <tr>\n",
       "      <th>1</th>\n",
       "      <td>100004</td>\n",
       "      <td>1</td>\n",
       "    </tr>\n",
       "    <tr>\n",
       "      <th>2</th>\n",
       "      <td>36</td>\n",
       "      <td>0</td>\n",
       "    </tr>\n",
       "    <tr>\n",
       "      <th>3</th>\n",
       "      <td>94</td>\n",
       "      <td>0</td>\n",
       "    </tr>\n",
       "    <tr>\n",
       "      <th>4</th>\n",
       "      <td>114</td>\n",
       "      <td>0</td>\n",
       "    </tr>\n",
       "  </tbody>\n",
       "</table>\n",
       "</div>"
      ],
      "text/plain": [
       "   userId  churn\n",
       "0      73      1\n",
       "1  100004      1\n",
       "2      36      0\n",
       "3      94      0\n",
       "4     114      0"
      ]
     },
     "execution_count": 94,
     "metadata": {},
     "output_type": "execute_result"
    }
   ],
   "source": [
    "label_df = events_df \\\n",
    "    .select(\"userId\", \"churn\") \\\n",
    "    .dropDuplicates() \\\n",
    "    .replace(['Churner', 'Engaged'], ['1', '0'], 'churn') \\\n",
    "    .select('userId', col('churn').cast('int'))\n",
    "\n",
    "assert label_df.count() == nb_users\n",
    "\n",
    "get_dataframe(label_df)"
   ]
  },
  {
   "cell_type": "markdown",
   "metadata": {},
   "source": [
    "### Number of songs per session: `avg_songs_played`"
   ]
  },
  {
   "cell_type": "code",
   "execution_count": 95,
   "metadata": {},
   "outputs": [
    {
     "data": {
      "text/html": [
       "<div>\n",
       "<style scoped>\n",
       "    .dataframe tbody tr th:only-of-type {\n",
       "        vertical-align: middle;\n",
       "    }\n",
       "\n",
       "    .dataframe tbody tr th {\n",
       "        vertical-align: top;\n",
       "    }\n",
       "\n",
       "    .dataframe thead th {\n",
       "        text-align: right;\n",
       "    }\n",
       "</style>\n",
       "<table border=\"1\" class=\"dataframe\">\n",
       "  <thead>\n",
       "    <tr style=\"text-align: right;\">\n",
       "      <th></th>\n",
       "      <th>userId</th>\n",
       "      <th>avg_songs_played</th>\n",
       "    </tr>\n",
       "  </thead>\n",
       "  <tbody>\n",
       "    <tr>\n",
       "      <th>0</th>\n",
       "      <td>100010</td>\n",
       "      <td>39.285714</td>\n",
       "    </tr>\n",
       "    <tr>\n",
       "      <th>1</th>\n",
       "      <td>200002</td>\n",
       "      <td>64.500000</td>\n",
       "    </tr>\n",
       "    <tr>\n",
       "      <th>2</th>\n",
       "      <td>124</td>\n",
       "      <td>145.678571</td>\n",
       "    </tr>\n",
       "    <tr>\n",
       "      <th>3</th>\n",
       "      <td>7</td>\n",
       "      <td>21.428571</td>\n",
       "    </tr>\n",
       "    <tr>\n",
       "      <th>4</th>\n",
       "      <td>54</td>\n",
       "      <td>81.171429</td>\n",
       "    </tr>\n",
       "  </tbody>\n",
       "</table>\n",
       "</div>"
      ],
      "text/plain": [
       "   userId  avg_songs_played\n",
       "0  100010         39.285714\n",
       "1  200002         64.500000\n",
       "2     124        145.678571\n",
       "3       7         21.428571\n",
       "4      54         81.171429"
      ]
     },
     "execution_count": 95,
     "metadata": {},
     "output_type": "execute_result"
    }
   ],
   "source": [
    "songs_df = events_df.where('page == \"NextSong\"') \\\n",
    "    .groupby(['userId', 'sessionId']) \\\n",
    "    .count() \\\n",
    "    .groupby(['userId']) \\\n",
    "    .avg('count') \\\n",
    "    .withColumnRenamed('avg(count)', 'avg_songs_played')\n",
    "assert songs_df.count() == nb_users\n",
    "get_dataframe(songs_df)"
   ]
  },
  {
   "cell_type": "markdown",
   "metadata": {},
   "source": [
    "### Number of artists each user listens to: `nb_artists`"
   ]
  },
  {
   "cell_type": "code",
   "execution_count": 96,
   "metadata": {},
   "outputs": [
    {
     "data": {
      "text/html": [
       "<div>\n",
       "<style scoped>\n",
       "    .dataframe tbody tr th:only-of-type {\n",
       "        vertical-align: middle;\n",
       "    }\n",
       "\n",
       "    .dataframe tbody tr th {\n",
       "        vertical-align: top;\n",
       "    }\n",
       "\n",
       "    .dataframe thead th {\n",
       "        text-align: right;\n",
       "    }\n",
       "</style>\n",
       "<table border=\"1\" class=\"dataframe\">\n",
       "  <thead>\n",
       "    <tr style=\"text-align: right;\">\n",
       "      <th></th>\n",
       "      <th>userId</th>\n",
       "      <th>nb_artists</th>\n",
       "    </tr>\n",
       "  </thead>\n",
       "  <tbody>\n",
       "    <tr>\n",
       "      <th>0</th>\n",
       "      <td>100010</td>\n",
       "      <td>252</td>\n",
       "    </tr>\n",
       "    <tr>\n",
       "      <th>1</th>\n",
       "      <td>200002</td>\n",
       "      <td>339</td>\n",
       "    </tr>\n",
       "    <tr>\n",
       "      <th>2</th>\n",
       "      <td>124</td>\n",
       "      <td>2232</td>\n",
       "    </tr>\n",
       "    <tr>\n",
       "      <th>3</th>\n",
       "      <td>7</td>\n",
       "      <td>142</td>\n",
       "    </tr>\n",
       "    <tr>\n",
       "      <th>4</th>\n",
       "      <td>15</td>\n",
       "      <td>1302</td>\n",
       "    </tr>\n",
       "  </tbody>\n",
       "</table>\n",
       "</div>"
      ],
      "text/plain": [
       "   userId  nb_artists\n",
       "0  100010         252\n",
       "1  200002         339\n",
       "2     124        2232\n",
       "3       7         142\n",
       "4      15        1302"
      ]
     },
     "execution_count": 96,
     "metadata": {},
     "output_type": "execute_result"
    }
   ],
   "source": [
    "nb_artists_df = events_df \\\n",
    "    .filter(events_df.page==\"NextSong\") \\\n",
    "    .select(\"userId\", \"artist\") \\\n",
    "    .dropDuplicates() \\\n",
    "    .groupby(\"userId\") \\\n",
    "    .count() \\\n",
    "    .withColumnRenamed(\"count\", \"nb_artists\")\n",
    "assert nb_artists_df.count() == nb_users\n",
    "get_dataframe(nb_artists_df)"
   ]
  },
  {
   "cell_type": "markdown",
   "metadata": {},
   "source": [
    "### Number of Thumbs up and Thumbs down events `num_thumbs_up` and `num_thumbs_down`"
   ]
  },
  {
   "cell_type": "code",
   "execution_count": 97,
   "metadata": {},
   "outputs": [
    {
     "name": "stdout",
     "output_type": "stream",
     "text": [
      "ThumbsUp 187\n",
      "ThumbsDown 177\n"
     ]
    },
    {
     "data": {
      "text/html": [
       "<div>\n",
       "<style scoped>\n",
       "    .dataframe tbody tr th:only-of-type {\n",
       "        vertical-align: middle;\n",
       "    }\n",
       "\n",
       "    .dataframe tbody tr th {\n",
       "        vertical-align: top;\n",
       "    }\n",
       "\n",
       "    .dataframe thead th {\n",
       "        text-align: right;\n",
       "    }\n",
       "</style>\n",
       "<table border=\"1\" class=\"dataframe\">\n",
       "  <thead>\n",
       "    <tr style=\"text-align: right;\">\n",
       "      <th></th>\n",
       "      <th>userId</th>\n",
       "      <th>num_thumbs_down</th>\n",
       "    </tr>\n",
       "  </thead>\n",
       "  <tbody>\n",
       "    <tr>\n",
       "      <th>0</th>\n",
       "      <td>100010</td>\n",
       "      <td>5</td>\n",
       "    </tr>\n",
       "    <tr>\n",
       "      <th>1</th>\n",
       "      <td>200002</td>\n",
       "      <td>6</td>\n",
       "    </tr>\n",
       "    <tr>\n",
       "      <th>2</th>\n",
       "      <td>124</td>\n",
       "      <td>41</td>\n",
       "    </tr>\n",
       "    <tr>\n",
       "      <th>3</th>\n",
       "      <td>7</td>\n",
       "      <td>1</td>\n",
       "    </tr>\n",
       "    <tr>\n",
       "      <th>4</th>\n",
       "      <td>15</td>\n",
       "      <td>14</td>\n",
       "    </tr>\n",
       "  </tbody>\n",
       "</table>\n",
       "</div>"
      ],
      "text/plain": [
       "   userId  num_thumbs_down\n",
       "0  100010                5\n",
       "1  200002                6\n",
       "2     124               41\n",
       "3       7                1\n",
       "4      15               14"
      ]
     },
     "execution_count": 97,
     "metadata": {},
     "output_type": "execute_result"
    }
   ],
   "source": [
    "thumbs_up_df = events_df.select('userId','page').filter(events_df.page==\"Thumbs Up\") \\\n",
    "    .groupBy([\"userId\"]).count()\\\n",
    "    .withColumnRenamed('count', 'num_thumbs_up') \n",
    "thumbs_down_df = events_df.filter(events_df.page==\"Thumbs Down\") \\\n",
    "    .groupBy([\"userId\"]).count() \\\n",
    "    .withColumnRenamed('count', 'num_thumbs_down')\n",
    "print(\"ThumbsUp\", thumbs_up_df.count())\n",
    "print(\"ThumbsDown\", thumbs_down_df.count())\n",
    "get_dataframe(thumbs_down_df)"
   ]
  },
  {
   "cell_type": "code",
   "execution_count": 98,
   "metadata": {},
   "outputs": [
    {
     "data": {
      "text/html": [
       "<div>\n",
       "<style scoped>\n",
       "    .dataframe tbody tr th:only-of-type {\n",
       "        vertical-align: middle;\n",
       "    }\n",
       "\n",
       "    .dataframe tbody tr th {\n",
       "        vertical-align: top;\n",
       "    }\n",
       "\n",
       "    .dataframe thead th {\n",
       "        text-align: right;\n",
       "    }\n",
       "</style>\n",
       "<table border=\"1\" class=\"dataframe\">\n",
       "  <thead>\n",
       "    <tr style=\"text-align: right;\">\n",
       "      <th></th>\n",
       "      <th>userId</th>\n",
       "      <th>num_thumbs_down</th>\n",
       "    </tr>\n",
       "  </thead>\n",
       "  <tbody>\n",
       "    <tr>\n",
       "      <th>0</th>\n",
       "      <td>100010</td>\n",
       "      <td>5</td>\n",
       "    </tr>\n",
       "    <tr>\n",
       "      <th>1</th>\n",
       "      <td>200002</td>\n",
       "      <td>6</td>\n",
       "    </tr>\n",
       "    <tr>\n",
       "      <th>2</th>\n",
       "      <td>124</td>\n",
       "      <td>41</td>\n",
       "    </tr>\n",
       "    <tr>\n",
       "      <th>3</th>\n",
       "      <td>7</td>\n",
       "      <td>1</td>\n",
       "    </tr>\n",
       "    <tr>\n",
       "      <th>4</th>\n",
       "      <td>15</td>\n",
       "      <td>14</td>\n",
       "    </tr>\n",
       "  </tbody>\n",
       "</table>\n",
       "</div>"
      ],
      "text/plain": [
       "   userId  num_thumbs_down\n",
       "0  100010                5\n",
       "1  200002                6\n",
       "2     124               41\n",
       "3       7                1\n",
       "4      15               14"
      ]
     },
     "execution_count": 98,
     "metadata": {},
     "output_type": "execute_result"
    }
   ],
   "source": [
    "get_dataframe(thumbs_down_df)"
   ]
  },
  {
   "cell_type": "code",
   "execution_count": 99,
   "metadata": {},
   "outputs": [],
   "source": [
    "thumbs_down_df = impute_missing_values(thumbs_down_df, 'num_thumbs_down', events_df)\n",
    "thumbs_up_df = impute_missing_values(thumbs_up_df, 'num_thumbs_up', events_df)\n",
    "assert thumbs_up_df.count() == nb_users\n",
    "assert thumbs_down_df.count() == nb_users"
   ]
  },
  {
   "cell_type": "markdown",
   "metadata": {},
   "source": [
    "## Create features vectors by joining all extracted features"
   ]
  },
  {
   "cell_type": "code",
   "execution_count": 100,
   "metadata": {},
   "outputs": [
    {
     "data": {
      "text/html": [
       "<div>\n",
       "<style scoped>\n",
       "    .dataframe tbody tr th:only-of-type {\n",
       "        vertical-align: middle;\n",
       "    }\n",
       "\n",
       "    .dataframe tbody tr th {\n",
       "        vertical-align: top;\n",
       "    }\n",
       "\n",
       "    .dataframe thead th {\n",
       "        text-align: right;\n",
       "    }\n",
       "</style>\n",
       "<table border=\"1\" class=\"dataframe\">\n",
       "  <thead>\n",
       "    <tr style=\"text-align: right;\">\n",
       "      <th></th>\n",
       "      <th>userId</th>\n",
       "      <th>num_thumbs_up</th>\n",
       "      <th>num_thumbs_down</th>\n",
       "      <th>avg_songs_played</th>\n",
       "      <th>last_level</th>\n",
       "      <th>nb_errors</th>\n",
       "      <th>avg_daily_session_duration</th>\n",
       "      <th>avg_monthly_session_duration</th>\n",
       "      <th>avg_daily_items</th>\n",
       "      <th>avg_monthly_items</th>\n",
       "      <th>...</th>\n",
       "      <th>10</th>\n",
       "      <th>11</th>\n",
       "      <th>12</th>\n",
       "      <th>13</th>\n",
       "      <th>14</th>\n",
       "      <th>15</th>\n",
       "      <th>16</th>\n",
       "      <th>17</th>\n",
       "      <th>18</th>\n",
       "      <th>19</th>\n",
       "    </tr>\n",
       "  </thead>\n",
       "  <tbody>\n",
       "    <tr>\n",
       "      <th>0</th>\n",
       "      <td>100010</td>\n",
       "      <td>17</td>\n",
       "      <td>5</td>\n",
       "      <td>39.285714</td>\n",
       "      <td>0</td>\n",
       "      <td>0</td>\n",
       "      <td>9269.000000</td>\n",
       "      <td>9693.500000</td>\n",
       "      <td>54.428571</td>\n",
       "      <td>85.0</td>\n",
       "      <td>...</td>\n",
       "      <td>0.0</td>\n",
       "      <td>0.0</td>\n",
       "      <td>112.0</td>\n",
       "      <td>0.0</td>\n",
       "      <td>0.0</td>\n",
       "      <td>0.0</td>\n",
       "      <td>72.0</td>\n",
       "      <td>0.0</td>\n",
       "      <td>0.0</td>\n",
       "      <td>0.0</td>\n",
       "    </tr>\n",
       "    <tr>\n",
       "      <th>1</th>\n",
       "      <td>200002</td>\n",
       "      <td>21</td>\n",
       "      <td>6</td>\n",
       "      <td>64.500000</td>\n",
       "      <td>1</td>\n",
       "      <td>0</td>\n",
       "      <td>11924.250000</td>\n",
       "      <td>21529.200000</td>\n",
       "      <td>82.375000</td>\n",
       "      <td>150.0</td>\n",
       "      <td>...</td>\n",
       "      <td>0.0</td>\n",
       "      <td>0.0</td>\n",
       "      <td>0.0</td>\n",
       "      <td>0.0</td>\n",
       "      <td>0.0</td>\n",
       "      <td>0.0</td>\n",
       "      <td>0.0</td>\n",
       "      <td>0.0</td>\n",
       "      <td>0.0</td>\n",
       "      <td>0.0</td>\n",
       "    </tr>\n",
       "    <tr>\n",
       "      <th>2</th>\n",
       "      <td>124</td>\n",
       "      <td>171</td>\n",
       "      <td>41</td>\n",
       "      <td>145.678571</td>\n",
       "      <td>1</td>\n",
       "      <td>6</td>\n",
       "      <td>25218.162037</td>\n",
       "      <td>35410.519231</td>\n",
       "      <td>196.444444</td>\n",
       "      <td>530.0</td>\n",
       "      <td>...</td>\n",
       "      <td>56.0</td>\n",
       "      <td>152.0</td>\n",
       "      <td>0.0</td>\n",
       "      <td>0.0</td>\n",
       "      <td>13.0</td>\n",
       "      <td>162.0</td>\n",
       "      <td>0.0</td>\n",
       "      <td>117.0</td>\n",
       "      <td>89.0</td>\n",
       "      <td>387.0</td>\n",
       "    </tr>\n",
       "    <tr>\n",
       "      <th>3</th>\n",
       "      <td>7</td>\n",
       "      <td>7</td>\n",
       "      <td>1</td>\n",
       "      <td>21.428571</td>\n",
       "      <td>0</td>\n",
       "      <td>1</td>\n",
       "      <td>5258.428571</td>\n",
       "      <td>5003.583333</td>\n",
       "      <td>28.428571</td>\n",
       "      <td>60.0</td>\n",
       "      <td>...</td>\n",
       "      <td>0.0</td>\n",
       "      <td>0.0</td>\n",
       "      <td>0.0</td>\n",
       "      <td>0.0</td>\n",
       "      <td>29.0</td>\n",
       "      <td>0.0</td>\n",
       "      <td>0.0</td>\n",
       "      <td>0.0</td>\n",
       "      <td>0.0</td>\n",
       "      <td>0.0</td>\n",
       "    </tr>\n",
       "    <tr>\n",
       "      <th>4</th>\n",
       "      <td>15</td>\n",
       "      <td>81</td>\n",
       "      <td>14</td>\n",
       "      <td>136.714286</td>\n",
       "      <td>1</td>\n",
       "      <td>2</td>\n",
       "      <td>24441.500000</td>\n",
       "      <td>31866.222222</td>\n",
       "      <td>154.611111</td>\n",
       "      <td>367.0</td>\n",
       "      <td>...</td>\n",
       "      <td>171.0</td>\n",
       "      <td>38.0</td>\n",
       "      <td>18.0</td>\n",
       "      <td>0.0</td>\n",
       "      <td>0.0</td>\n",
       "      <td>0.0</td>\n",
       "      <td>0.0</td>\n",
       "      <td>0.0</td>\n",
       "      <td>0.0</td>\n",
       "      <td>0.0</td>\n",
       "    </tr>\n",
       "  </tbody>\n",
       "</table>\n",
       "<p>5 rows × 33 columns</p>\n",
       "</div>"
      ],
      "text/plain": [
       "   userId  num_thumbs_up  num_thumbs_down  avg_songs_played  last_level  \\\n",
       "0  100010             17                5         39.285714           0   \n",
       "1  200002             21                6         64.500000           1   \n",
       "2     124            171               41        145.678571           1   \n",
       "3       7              7                1         21.428571           0   \n",
       "4      15             81               14        136.714286           1   \n",
       "\n",
       "   nb_errors  avg_daily_session_duration  avg_monthly_session_duration  \\\n",
       "0          0                 9269.000000                   9693.500000   \n",
       "1          0                11924.250000                  21529.200000   \n",
       "2          6                25218.162037                  35410.519231   \n",
       "3          1                 5258.428571                   5003.583333   \n",
       "4          2                24441.500000                  31866.222222   \n",
       "\n",
       "   avg_daily_items  avg_monthly_items  ...     10     11     12   13    14  \\\n",
       "0        54.428571               85.0  ...    0.0    0.0  112.0  0.0   0.0   \n",
       "1        82.375000              150.0  ...    0.0    0.0    0.0  0.0   0.0   \n",
       "2       196.444444              530.0  ...   56.0  152.0    0.0  0.0  13.0   \n",
       "3        28.428571               60.0  ...    0.0    0.0    0.0  0.0  29.0   \n",
       "4       154.611111              367.0  ...  171.0   38.0   18.0  0.0   0.0   \n",
       "\n",
       "      15    16     17    18     19  \n",
       "0    0.0  72.0    0.0   0.0    0.0  \n",
       "1    0.0   0.0    0.0   0.0    0.0  \n",
       "2  162.0   0.0  117.0  89.0  387.0  \n",
       "3    0.0   0.0    0.0   0.0    0.0  \n",
       "4    0.0   0.0    0.0   0.0    0.0  \n",
       "\n",
       "[5 rows x 33 columns]"
      ]
     },
     "execution_count": 100,
     "metadata": {},
     "output_type": "execute_result"
    }
   ],
   "source": [
    "from pyspark.sql import SQLContext\n",
    "from pyspark import SparkContext\n",
    "\n",
    "sc = SparkContext.getOrCreate()\n",
    "sqlContext = SQLContext(sc)\n",
    "\n",
    "usage_last20days_features = sqlContext.createDataFrame(usage_last20days_features)\n",
    "\n",
    "all_aggs_df = thumbs_up_df \\\n",
    "    .join(thumbs_down_df, on='userId')\\\n",
    "    .join(songs_df, on='userId') \\\n",
    "    .join(level_df, on='userId') \\\n",
    "    .join(errors_df, on='userId') \\\n",
    "    .join(sess_duration, on='userId') \\\n",
    "    .join(items_averages_df, on='userId') \\\n",
    "    .join(registration_df, on='userId') \\\n",
    "    .join(nb_artists_df, on='userId') \\\n",
    "    .join(label_df, on='userId') \\\n",
    "    .join(usage_last20days_features, on='userId')\n",
    "\n",
    "    Number of thumbs up\n",
    "    Number of thumbs down\n",
    "    Last level of the user (Paid or Free)\n",
    "    Number of unique artists the user listened to\n",
    "    Daily number of items per session over the last 20 days (array of 20 values)\n",
    "    User Account age in days: uage duration since first log event day\n",
    "        \n",
    "features_df = all_aggs_df.drop_duplicates()\n",
    "pd.DataFrame(features_df.take(5), columns=features_df.columns).head()"
   ]
  },
  {
   "cell_type": "code",
   "execution_count": 197,
   "metadata": {},
   "outputs": [
    {
     "data": {
      "text/html": [
       "<table border='1'>\n",
       "<tr><th>userId</th><th>num_thumbs_up</th><th>num_thumbs_down</th><th>avg_songs_played</th><th>last_level</th><th>nb_errors</th><th>avg_daily_session_duration</th><th>avg_monthly_session_duration</th><th>avg_daily_items</th><th>avg_monthly_items</th><th>registration_days</th><th>nb_artists</th><th>churn</th><th>0</th><th>1</th><th>2</th><th>3</th><th>4</th><th>5</th><th>6</th><th>7</th><th>8</th><th>9</th><th>10</th><th>11</th><th>12</th><th>13</th><th>14</th><th>15</th><th>16</th><th>17</th><th>18</th><th>19</th></tr>\n",
       "<tr><td>100010</td><td>17</td><td>5</td><td>39.285714285714285</td><td>0</td><td>0</td><td>9269.0</td><td>9693.5</td><td>54.42857142857143</td><td>85.0</td><td>55</td><td>252</td><td>0</td><td>33.0</td><td>0.0</td><td>0.0</td><td>0.0</td><td>0.0</td><td>0.0</td><td>0.0</td><td>0.0</td><td>0.0</td><td>0.0</td><td>0.0</td><td>0.0</td><td>112.0</td><td>0.0</td><td>0.0</td><td>0.0</td><td>72.0</td><td>0.0</td><td>0.0</td><td>0.0</td></tr>\n",
       "<tr><td>200002</td><td>21</td><td>6</td><td>64.5</td><td>1</td><td>0</td><td>11924.25</td><td>21529.2</td><td>82.375</td><td>150.0</td><td>70</td><td>339</td><td>0</td><td>9.0</td><td>131.0</td><td>0.0</td><td>0.0</td><td>0.0</td><td>0.0</td><td>0.0</td><td>0.0</td><td>0.0</td><td>0.0</td><td>0.0</td><td>0.0</td><td>0.0</td><td>0.0</td><td>0.0</td><td>0.0</td><td>0.0</td><td>0.0</td><td>0.0</td><td>0.0</td></tr>\n",
       "<tr><td>124</td><td>171</td><td>41</td><td>145.67857142857142</td><td>1</td><td>6</td><td>25218.162037037036</td><td>35410.519230769234</td><td>196.44444444444446</td><td>530.0</td><td>131</td><td>2232</td><td>0</td><td>1.0</td><td>129.0</td><td>72.0</td><td>52.0</td><td>0.0</td><td>0.0</td><td>0.0</td><td>47.0</td><td>0.0</td><td>0.0</td><td>56.0</td><td>152.0</td><td>0.0</td><td>0.0</td><td>13.0</td><td>162.0</td><td>0.0</td><td>117.0</td><td>89.0</td><td>387.0</td></tr>\n",
       "<tr><td>7</td><td>7</td><td>1</td><td>21.428571428571427</td><td>0</td><td>1</td><td>5258.428571428572</td><td>5003.583333333333</td><td>28.428571428571427</td><td>60.0</td><td>72</td><td>142</td><td>0</td><td>4.0</td><td>0.0</td><td>0.0</td><td>24.0</td><td>0.0</td><td>0.0</td><td>0.0</td><td>0.0</td><td>0.0</td><td>0.0</td><td>0.0</td><td>0.0</td><td>0.0</td><td>0.0</td><td>29.0</td><td>0.0</td><td>0.0</td><td>0.0</td><td>0.0</td><td>0.0</td></tr>\n",
       "<tr><td>15</td><td>81</td><td>14</td><td>136.71428571428572</td><td>1</td><td>2</td><td>24441.5</td><td>31866.22222222222</td><td>154.61111111111111</td><td>367.0</td><td>56</td><td>1302</td><td>0</td><td>104.0</td><td>136.0</td><td>177.0</td><td>0.0</td><td>0.0</td><td>0.0</td><td>0.0</td><td>0.0</td><td>0.0</td><td>0.0</td><td>171.0</td><td>38.0</td><td>18.0</td><td>0.0</td><td>0.0</td><td>0.0</td><td>0.0</td><td>0.0</td><td>0.0</td><td>0.0</td></tr>\n",
       "<tr><td>54</td><td>163</td><td>29</td><td>81.17142857142858</td><td>1</td><td>1</td><td>16807.47311827957</td><td>18386.166666666664</td><td>142.61290322580646</td><td>443.0</td><td>110</td><td>1744</td><td>1</td><td>41.0</td><td>81.0</td><td>80.0</td><td>146.0</td><td>0.0</td><td>213.0</td><td>116.0</td><td>1.0</td><td>0.0</td><td>117.0</td><td>66.0</td><td>117.0</td><td>196.0</td><td>0.0</td><td>49.0</td><td>0.0</td><td>0.0</td><td>32.0</td><td>46.0</td><td>127.0</td></tr>\n",
       "<tr><td>155</td><td>58</td><td>3</td><td>136.66666666666666</td><td>1</td><td>3</td><td>23720.75</td><td>32914.333333333336</td><td>144.375</td><td>334.0</td><td>23</td><td>643</td><td>0</td><td>236.0</td><td>90.0</td><td>0.0</td><td>0.0</td><td>0.0</td><td>0.0</td><td>0.0</td><td>0.0</td><td>0.0</td><td>0.0</td><td>0.0</td><td>0.0</td><td>217.0</td><td>66.0</td><td>30.0</td><td>33.0</td><td>0.0</td><td>0.0</td><td>0.0</td><td>230.0</td></tr>\n",
       "<tr><td>100014</td><td>17</td><td>3</td><td>42.833333333333336</td><td>1</td><td>0</td><td>11088.833333333334</td><td>10144.375</td><td>51.833333333333336</td><td>83.5</td><td>85</td><td>233</td><td>1</td><td>74.0</td><td>0.0</td><td>0.0</td><td>0.0</td><td>0.0</td><td>0.0</td><td>0.0</td><td>0.0</td><td>0.0</td><td>0.0</td><td>0.0</td><td>2.0</td><td>0.0</td><td>0.0</td><td>0.0</td><td>0.0</td><td>0.0</td><td>0.0</td><td>0.0</td><td>0.0</td></tr>\n",
       "<tr><td>132</td><td>96</td><td>17</td><td>120.5</td><td>1</td><td>3</td><td>20333.81818181818</td><td>27680.016666666663</td><td>148.77272727272728</td><td>393.0</td><td>66</td><td>1299</td><td>0</td><td>224.0</td><td>0.0</td><td>83.0</td><td>34.0</td><td>0.0</td><td>24.0</td><td>100.0</td><td>249.0</td><td>206.0</td><td>98.0</td><td>0.0</td><td>0.0</td><td>32.0</td><td>13.0</td><td>0.0</td><td>50.0</td><td>128.0</td><td>0.0</td><td>46.0</td><td>381.0</td></tr>\n",
       "<tr><td>154</td><td>11</td><td>0</td><td>28.0</td><td>0</td><td>0</td><td>6641.0</td><td>6641.0</td><td>41.333333333333336</td><td>69.0</td><td>23</td><td>78</td><td>0</td><td>30.0</td><td>0.0</td><td>0.0</td><td>0.0</td><td>0.0</td><td>0.0</td><td>0.0</td><td>0.0</td><td>0.0</td><td>0.0</td><td>0.0</td><td>0.0</td><td>0.0</td><td>0.0</td><td>0.0</td><td>0.0</td><td>0.0</td><td>64.0</td><td>0.0</td><td>0.0</td></tr>\n",
       "<tr><td>11</td><td>40</td><td>9</td><td>40.4375</td><td>1</td><td>1</td><td>9030.71875</td><td>10128.4126984127</td><td>54.3125</td><td>156.5</td><td>124</td><td>534</td><td>1</td><td>36.0</td><td>0.0</td><td>0.0</td><td>0.0</td><td>0.0</td><td>0.0</td><td>0.0</td><td>0.0</td><td>88.0</td><td>0.0</td><td>0.0</td><td>195.0</td><td>0.0</td><td>0.0</td><td>0.0</td><td>0.0</td><td>46.0</td><td>0.0</td><td>0.0</td><td>0.0</td></tr>\n",
       "<tr><td>138</td><td>95</td><td>24</td><td>138.0</td><td>1</td><td>1</td><td>23497.473684210527</td><td>27289.795454545456</td><td>208.6315789473684</td><td>618.6666666666666</td><td>66</td><td>1332</td><td>0</td><td>19.0</td><td>428.0</td><td>252.0</td><td>0.0</td><td>0.0</td><td>118.0</td><td>36.0</td><td>0.0</td><td>0.0</td><td>0.0</td><td>0.0</td><td>0.0</td><td>0.0</td><td>0.0</td><td>0.0</td><td>0.0</td><td>0.0</td><td>0.0</td><td>0.0</td><td>116.0</td></tr>\n",
       "<tr><td>300017</td><td>303</td><td>28</td><td>59.540983606557376</td><td>1</td><td>5</td><td>13069.656462585033</td><td>13980.816430020284</td><td>84.6734693877551</td><td>294.5</td><td>74</td><td>2070</td><td>0</td><td>41.0</td><td>0.0</td><td>305.0</td><td>4.0</td><td>0.0</td><td>0.0</td><td>24.0</td><td>42.0</td><td>0.0</td><td>121.0</td><td>15.0</td><td>112.0</td><td>21.0</td><td>0.0</td><td>87.0</td><td>97.0</td><td>53.0</td><td>1.0</td><td>0.0</td><td>21.0</td></tr>\n",
       "<tr><td>100021</td><td>11</td><td>5</td><td>46.0</td><td>0</td><td>2</td><td>12913.6</td><td>14502.75</td><td>66.4</td><td>129.0</td><td>64</td><td>207</td><td>1</td><td>182.0</td><td>0.0</td><td>0.0</td><td>0.0</td><td>0.0</td><td>0.0</td><td>0.0</td><td>0.0</td><td>0.0</td><td>0.0</td><td>0.0</td><td>0.0</td><td>0.0</td><td>0.0</td><td>0.0</td><td>0.0</td><td>0.0</td><td>0.0</td><td>0.0</td><td>0.0</td></tr>\n",
       "<tr><td>29</td><td>154</td><td>22</td><td>89.05882352941177</td><td>1</td><td>0</td><td>20374.201149425284</td><td>21370.84490740741</td><td>170.3448275862069</td><td>575.5</td><td>60</td><td>1804</td><td>1</td><td>50.0</td><td>0.0</td><td>138.0</td><td>69.0</td><td>0.0</td><td>0.0</td><td>15.0</td><td>0.0</td><td>95.0</td><td>31.0</td><td>0.0</td><td>0.0</td><td>50.0</td><td>402.0</td><td>231.0</td><td>74.0</td><td>276.0</td><td>0.0</td><td>0.0</td><td>123.0</td></tr>\n",
       "<tr><td>69</td><td>72</td><td>9</td><td>125.0</td><td>1</td><td>4</td><td>23611.166666666668</td><td>32122.5</td><td>127.0</td><td>359.0</td><td>71</td><td>865</td><td>0</td><td>6.0</td><td>0.0</td><td>0.0</td><td>299.0</td><td>45.0</td><td>0.0</td><td>0.0</td><td>0.0</td><td>0.0</td><td>0.0</td><td>0.0</td><td>0.0</td><td>0.0</td><td>0.0</td><td>0.0</td><td>0.0</td><td>0.0</td><td>0.0</td><td>0.0</td><td>0.0</td></tr>\n",
       "<tr><td>112</td><td>9</td><td>3</td><td>23.88888888888889</td><td>0</td><td>0</td><td>5663.75</td><td>5067.1</td><td>33.125</td><td>76.0</td><td>87</td><td>195</td><td>0</td><td>33.0</td><td>0.0</td><td>0.0</td><td>0.0</td><td>0.0</td><td>0.0</td><td>0.0</td><td>0.0</td><td>0.0</td><td>0.0</td><td>0.0</td><td>0.0</td><td>0.0</td><td>0.0</td><td>0.0</td><td>0.0</td><td>0.0</td><td>0.0</td><td>108.0</td><td>0.0</td></tr>\n",
       "<tr><td>42</td><td>166</td><td>25</td><td>87.14634146341463</td><td>1</td><td>7</td><td>16546.496296296296</td><td>19486.444347826087</td><td>103.31111111111112</td><td>283.5</td><td>67</td><td>2073</td><td>0</td><td>79.0</td><td>0.0</td><td>26.0</td><td>52.0</td><td>3.0</td><td>66.0</td><td>1.0</td><td>172.0</td><td>217.0</td><td>74.0</td><td>62.0</td><td>41.0</td><td>112.0</td><td>66.0</td><td>0.0</td><td>0.0</td><td>39.0</td><td>159.0</td><td>0.0</td><td>0.0</td></tr>\n",
       "<tr><td>73</td><td>14</td><td>7</td><td>62.833333333333336</td><td>1</td><td>1</td><td>12243.3</td><td>15545.5</td><td>75.8</td><td>167.0</td><td>49</td><td>334</td><td>1</td><td>10.0</td><td>0.0</td><td>0.0</td><td>0.0</td><td>0.0</td><td>197.0</td><td>5.0</td><td>0.0</td><td>0.0</td><td>0.0</td><td>0.0</td><td>0.0</td><td>0.0</td><td>122.0</td><td>0.0</td><td>0.0</td><td>0.0</td><td>0.0</td><td>0.0</td><td>0.0</td></tr>\n",
       "<tr><td>200010</td><td>14</td><td>7</td><td>39.5</td><td>0</td><td>1</td><td>9364.4</td><td>5874.3</td><td>56.0</td><td>45.0</td><td>38</td><td>214</td><td>0</td><td>2.0</td><td>0.0</td><td>0.0</td><td>0.0</td><td>0.0</td><td>0.0</td><td>0.0</td><td>0.0</td><td>0.0</td><td>0.0</td><td>0.0</td><td>0.0</td><td>0.0</td><td>0.0</td><td>0.0</td><td>46.0</td><td>0.0</td><td>0.0</td><td>0.0</td><td>0.0</td></tr>\n",
       "</table>\n",
       "only showing top 20 rows\n"
      ],
      "text/plain": [
       "+------+-------------+---------------+------------------+----------+---------+--------------------------+----------------------------+------------------+-----------------+-----------------+----------+-----+-----+-----+-----+-----+----+-----+-----+-----+-----+-----+-----+-----+-----+-----+-----+-----+-----+-----+-----+-----+\n",
       "|userId|num_thumbs_up|num_thumbs_down|  avg_songs_played|last_level|nb_errors|avg_daily_session_duration|avg_monthly_session_duration|   avg_daily_items|avg_monthly_items|registration_days|nb_artists|churn|    0|    1|    2|    3|   4|    5|    6|    7|    8|    9|   10|   11|   12|   13|   14|   15|   16|   17|   18|   19|\n",
       "+------+-------------+---------------+------------------+----------+---------+--------------------------+----------------------------+------------------+-----------------+-----------------+----------+-----+-----+-----+-----+-----+----+-----+-----+-----+-----+-----+-----+-----+-----+-----+-----+-----+-----+-----+-----+-----+\n",
       "|100010|           17|              5|39.285714285714285|         0|        0|                    9269.0|                      9693.5| 54.42857142857143|             85.0|               55|       252|    0| 33.0|  0.0|  0.0|  0.0| 0.0|  0.0|  0.0|  0.0|  0.0|  0.0|  0.0|  0.0|112.0|  0.0|  0.0|  0.0| 72.0|  0.0|  0.0|  0.0|\n",
       "|200002|           21|              6|              64.5|         1|        0|                  11924.25|                     21529.2|            82.375|            150.0|               70|       339|    0|  9.0|131.0|  0.0|  0.0| 0.0|  0.0|  0.0|  0.0|  0.0|  0.0|  0.0|  0.0|  0.0|  0.0|  0.0|  0.0|  0.0|  0.0|  0.0|  0.0|\n",
       "|   124|          171|             41|145.67857142857142|         1|        6|        25218.162037037036|          35410.519230769234|196.44444444444446|            530.0|              131|      2232|    0|  1.0|129.0| 72.0| 52.0| 0.0|  0.0|  0.0| 47.0|  0.0|  0.0| 56.0|152.0|  0.0|  0.0| 13.0|162.0|  0.0|117.0| 89.0|387.0|\n",
       "|     7|            7|              1|21.428571428571427|         0|        1|         5258.428571428572|           5003.583333333333|28.428571428571427|             60.0|               72|       142|    0|  4.0|  0.0|  0.0| 24.0| 0.0|  0.0|  0.0|  0.0|  0.0|  0.0|  0.0|  0.0|  0.0|  0.0| 29.0|  0.0|  0.0|  0.0|  0.0|  0.0|\n",
       "|    15|           81|             14|136.71428571428572|         1|        2|                   24441.5|           31866.22222222222|154.61111111111111|            367.0|               56|      1302|    0|104.0|136.0|177.0|  0.0| 0.0|  0.0|  0.0|  0.0|  0.0|  0.0|171.0| 38.0| 18.0|  0.0|  0.0|  0.0|  0.0|  0.0|  0.0|  0.0|\n",
       "|    54|          163|             29| 81.17142857142858|         1|        1|         16807.47311827957|          18386.166666666664|142.61290322580646|            443.0|              110|      1744|    1| 41.0| 81.0| 80.0|146.0| 0.0|213.0|116.0|  1.0|  0.0|117.0| 66.0|117.0|196.0|  0.0| 49.0|  0.0|  0.0| 32.0| 46.0|127.0|\n",
       "|   155|           58|              3|136.66666666666666|         1|        3|                  23720.75|          32914.333333333336|           144.375|            334.0|               23|       643|    0|236.0| 90.0|  0.0|  0.0| 0.0|  0.0|  0.0|  0.0|  0.0|  0.0|  0.0|  0.0|217.0| 66.0| 30.0| 33.0|  0.0|  0.0|  0.0|230.0|\n",
       "|100014|           17|              3|42.833333333333336|         1|        0|        11088.833333333334|                   10144.375|51.833333333333336|             83.5|               85|       233|    1| 74.0|  0.0|  0.0|  0.0| 0.0|  0.0|  0.0|  0.0|  0.0|  0.0|  0.0|  2.0|  0.0|  0.0|  0.0|  0.0|  0.0|  0.0|  0.0|  0.0|\n",
       "|   132|           96|             17|             120.5|         1|        3|         20333.81818181818|          27680.016666666663|148.77272727272728|            393.0|               66|      1299|    0|224.0|  0.0| 83.0| 34.0| 0.0| 24.0|100.0|249.0|206.0| 98.0|  0.0|  0.0| 32.0| 13.0|  0.0| 50.0|128.0|  0.0| 46.0|381.0|\n",
       "|   154|           11|              0|              28.0|         0|        0|                    6641.0|                      6641.0|41.333333333333336|             69.0|               23|        78|    0| 30.0|  0.0|  0.0|  0.0| 0.0|  0.0|  0.0|  0.0|  0.0|  0.0|  0.0|  0.0|  0.0|  0.0|  0.0|  0.0|  0.0| 64.0|  0.0|  0.0|\n",
       "|    11|           40|              9|           40.4375|         1|        1|                9030.71875|            10128.4126984127|           54.3125|            156.5|              124|       534|    1| 36.0|  0.0|  0.0|  0.0| 0.0|  0.0|  0.0|  0.0| 88.0|  0.0|  0.0|195.0|  0.0|  0.0|  0.0|  0.0| 46.0|  0.0|  0.0|  0.0|\n",
       "|   138|           95|             24|             138.0|         1|        1|        23497.473684210527|          27289.795454545456| 208.6315789473684|618.6666666666666|               66|      1332|    0| 19.0|428.0|252.0|  0.0| 0.0|118.0| 36.0|  0.0|  0.0|  0.0|  0.0|  0.0|  0.0|  0.0|  0.0|  0.0|  0.0|  0.0|  0.0|116.0|\n",
       "|300017|          303|             28|59.540983606557376|         1|        5|        13069.656462585033|          13980.816430020284|  84.6734693877551|            294.5|               74|      2070|    0| 41.0|  0.0|305.0|  4.0| 0.0|  0.0| 24.0| 42.0|  0.0|121.0| 15.0|112.0| 21.0|  0.0| 87.0| 97.0| 53.0|  1.0|  0.0| 21.0|\n",
       "|100021|           11|              5|              46.0|         0|        2|                   12913.6|                    14502.75|              66.4|            129.0|               64|       207|    1|182.0|  0.0|  0.0|  0.0| 0.0|  0.0|  0.0|  0.0|  0.0|  0.0|  0.0|  0.0|  0.0|  0.0|  0.0|  0.0|  0.0|  0.0|  0.0|  0.0|\n",
       "|    29|          154|             22| 89.05882352941177|         1|        0|        20374.201149425284|           21370.84490740741| 170.3448275862069|            575.5|               60|      1804|    1| 50.0|  0.0|138.0| 69.0| 0.0|  0.0| 15.0|  0.0| 95.0| 31.0|  0.0|  0.0| 50.0|402.0|231.0| 74.0|276.0|  0.0|  0.0|123.0|\n",
       "|    69|           72|              9|             125.0|         1|        4|        23611.166666666668|                     32122.5|             127.0|            359.0|               71|       865|    0|  6.0|  0.0|  0.0|299.0|45.0|  0.0|  0.0|  0.0|  0.0|  0.0|  0.0|  0.0|  0.0|  0.0|  0.0|  0.0|  0.0|  0.0|  0.0|  0.0|\n",
       "|   112|            9|              3| 23.88888888888889|         0|        0|                   5663.75|                      5067.1|            33.125|             76.0|               87|       195|    0| 33.0|  0.0|  0.0|  0.0| 0.0|  0.0|  0.0|  0.0|  0.0|  0.0|  0.0|  0.0|  0.0|  0.0|  0.0|  0.0|  0.0|  0.0|108.0|  0.0|\n",
       "|    42|          166|             25| 87.14634146341463|         1|        7|        16546.496296296296|          19486.444347826087|103.31111111111112|            283.5|               67|      2073|    0| 79.0|  0.0| 26.0| 52.0| 3.0| 66.0|  1.0|172.0|217.0| 74.0| 62.0| 41.0|112.0| 66.0|  0.0|  0.0| 39.0|159.0|  0.0|  0.0|\n",
       "|    73|           14|              7|62.833333333333336|         1|        1|                   12243.3|                     15545.5|              75.8|            167.0|               49|       334|    1| 10.0|  0.0|  0.0|  0.0| 0.0|197.0|  5.0|  0.0|  0.0|  0.0|  0.0|  0.0|  0.0|122.0|  0.0|  0.0|  0.0|  0.0|  0.0|  0.0|\n",
       "|200010|           14|              7|              39.5|         0|        1|                    9364.4|                      5874.3|              56.0|             45.0|               38|       214|    0|  2.0|  0.0|  0.0|  0.0| 0.0|  0.0|  0.0|  0.0|  0.0|  0.0|  0.0|  0.0|  0.0|  0.0|  0.0| 46.0|  0.0|  0.0|  0.0|  0.0|\n",
       "+------+-------------+---------------+------------------+----------+---------+--------------------------+----------------------------+------------------+-----------------+-----------------+----------+-----+-----+-----+-----+-----+----+-----+-----+-----+-----+-----+-----+-----+-----+-----+-----+-----+-----+-----+-----+-----+\n",
       "only showing top 20 rows"
      ]
     },
     "execution_count": 197,
     "metadata": {},
     "output_type": "execute_result"
    }
   ],
   "source": [
    "cols = ['count', 'date_index', 'last_day', 'date']\n",
    "features_df.drop(*cols)"
   ]
  },
  {
   "cell_type": "code",
   "execution_count": 102,
   "metadata": {},
   "outputs": [],
   "source": [
    "assert len(features_df.columns) == 33"
   ]
  },
  {
   "cell_type": "code",
   "execution_count": 103,
   "metadata": {},
   "outputs": [
    {
     "data": {
      "text/plain": [
       "188"
      ]
     },
     "execution_count": 103,
     "metadata": {},
     "output_type": "execute_result"
    }
   ],
   "source": [
    "features_df.count()"
   ]
  },
  {
   "cell_type": "code",
   "execution_count": 104,
   "metadata": {},
   "outputs": [
    {
     "name": "stdout",
     "output_type": "stream",
     "text": [
      "root\n",
      " |-- userId: string (nullable = true)\n",
      " |-- num_thumbs_up: long (nullable = true)\n",
      " |-- num_thumbs_down: long (nullable = true)\n",
      " |-- avg_songs_played: double (nullable = true)\n",
      " |-- last_level: integer (nullable = true)\n",
      " |-- nb_errors: long (nullable = true)\n",
      " |-- avg_daily_session_duration: double (nullable = true)\n",
      " |-- avg_monthly_session_duration: double (nullable = true)\n",
      " |-- avg_daily_items: double (nullable = true)\n",
      " |-- avg_monthly_items: double (nullable = true)\n",
      " |-- registration_days: integer (nullable = true)\n",
      " |-- nb_artists: long (nullable = false)\n",
      " |-- churn: integer (nullable = true)\n",
      " |-- 0: double (nullable = true)\n",
      " |-- 1: double (nullable = true)\n",
      " |-- 2: double (nullable = true)\n",
      " |-- 3: double (nullable = true)\n",
      " |-- 4: double (nullable = true)\n",
      " |-- 5: double (nullable = true)\n",
      " |-- 6: double (nullable = true)\n",
      " |-- 7: double (nullable = true)\n",
      " |-- 8: double (nullable = true)\n",
      " |-- 9: double (nullable = true)\n",
      " |-- 10: double (nullable = true)\n",
      " |-- 11: double (nullable = true)\n",
      " |-- 12: double (nullable = true)\n",
      " |-- 13: double (nullable = true)\n",
      " |-- 14: double (nullable = true)\n",
      " |-- 15: double (nullable = true)\n",
      " |-- 16: double (nullable = true)\n",
      " |-- 17: double (nullable = true)\n",
      " |-- 18: double (nullable = true)\n",
      " |-- 19: double (nullable = true)\n",
      "\n"
     ]
    }
   ],
   "source": [
    "features_df.printSchema()"
   ]
  },
  {
   "cell_type": "markdown",
   "metadata": {},
   "source": [
    "## Vectorizing the features"
   ]
  },
  {
   "cell_type": "code",
   "execution_count": 110,
   "metadata": {},
   "outputs": [],
   "source": [
    "from pyspark.ml.feature import VectorAssembler\n",
    "\n",
    "features = [col for col in features_df.columns if col not in ('userId','churn')]\n",
    "\n",
    "# Vectorizing the features\n",
    "assembler = VectorAssembler(inputCols=features, outputCol='features')\n",
    "modelvec_df = assembler.transform(features_df)\n",
    "\n",
    "modelvec_df = modelvec_df.select(col('features'), col('churn').alias('label'))"
   ]
  },
  {
   "cell_type": "markdown",
   "metadata": {},
   "source": [
    "#  <center> 5. Modeling<a id='modeling'></a> </center>"
   ]
  },
  {
   "cell_type": "markdown",
   "metadata": {},
   "source": [
    "Tree-based algorithms are not sensitive to the scale of the features. While Logistic Regression perform poorly when features differ widely in scale. As we are going to try Random Forest asn Gradient Based Trees algorithms we would not need to scale the data."
   ]
  },
  {
   "cell_type": "code",
   "execution_count": 111,
   "metadata": {},
   "outputs": [],
   "source": [
    "from pyspark.ml.feature import StandardScaler\n",
    "\n",
    "# Scaling to mean 0 and unit std dev\n",
    "scaler = StandardScaler(inputCol='features', outputCol='scaled_features', withMean=True, withStd=True)\n",
    "model_scaler = scaler.fit(modelvec_df)\n",
    "\n",
    "modelvec_scaled = model_scaler.transform(modelvec_df)\n",
    "\n",
    "model_data = modelvec_scaled.select(col('scaled_features').alias('features'), col('label'))"
   ]
  },
  {
   "cell_type": "code",
   "execution_count": 112,
   "metadata": {},
   "outputs": [
    {
     "data": {
      "text/plain": [
       "['features', 'label']"
      ]
     },
     "execution_count": 112,
     "metadata": {},
     "output_type": "execute_result"
    }
   ],
   "source": [
    "model_data.columns"
   ]
  },
  {
   "cell_type": "code",
   "execution_count": 113,
   "metadata": {},
   "outputs": [
    {
     "data": {
      "text/plain": [
       "188"
      ]
     },
     "execution_count": 113,
     "metadata": {},
     "output_type": "execute_result"
    }
   ],
   "source": [
    "model_data.count()"
   ]
  },
  {
   "cell_type": "markdown",
   "metadata": {},
   "source": [
    "### Split the dataset into train and test sets"
   ]
  },
  {
   "cell_type": "code",
   "execution_count": 114,
   "metadata": {},
   "outputs": [
    {
     "name": "stdout",
     "output_type": "stream",
     "text": [
      "Training set size:  157\n",
      "Validation set size:  31\n"
     ]
    }
   ],
   "source": [
    "# Usually the data should be splitted in train, test and validation datasets \n",
    "#   but due to small amount of data here\n",
    "#   we will be using only train and validation data\n",
    "# 80% train and 20% validation set\n",
    "train_df, validation_df = model_data.randomSplit([0.8, 0.2], seed=42)\n",
    "print(\"Training set size: \", train_df.count())\n",
    "print(\"Validation set size: \", validation_df.count())"
   ]
  },
  {
   "cell_type": "markdown",
   "metadata": {},
   "source": [
    "## Models training and evaluation\n",
    "We try out various models to see how they compare and perform. Then select the winning model based on the F1 score.\n",
    "\n",
    "We also perform hyperparameters tuning using `ParamGridBuilder`"
   ]
  },
  {
   "cell_type": "markdown",
   "metadata": {},
   "source": [
    "Given churned users are a fairly small subset, we decided to use F1 Score and accuracy metric to evalute the model performance.\n",
    "\n",
    "> `F1 score`: balances the tradeoff between precision and recall.\n",
    "\\begin{equation*}\n",
    "2 * \\frac{precision . recall}{precision + recall}\n",
    "\\end{equation*}\n",
    "    `Accuracy`: describes the proportion of correct classifications\n",
    "\\begin{equation*}\n",
    "\\frac{TP + TN}{TP + FP + TN + FN}\n",
    "\\end{equation*}\n",
    "where: TP = True positive; FP = False positive; TN = True negative; FN = False negative "
   ]
  },
  {
   "cell_type": "markdown",
   "metadata": {},
   "source": [
    "## Logistic Regression"
   ]
  },
  {
   "cell_type": "code",
   "execution_count": 168,
   "metadata": {},
   "outputs": [
    {
     "name": "stdout",
     "output_type": "stream",
     "text": [
      "The training process took 2275.3742883205414 seconds\n",
      "CPU times: user 50.8 s, sys: 31.3 s, total: 1min 22s\n",
      "Wall time: 37min 55s\n"
     ]
    }
   ],
   "source": [
    "%%time\n",
    "results = {}\n",
    "lr_model = LogisticRegression(\n",
    "    featuresCol = \"features\",\n",
    "    labelCol = \"label\")\n",
    "\n",
    "paramGrid = ParamGridBuilder() \\\n",
    "            .addGrid(lr_model.elasticNetParam,[0.0, 0.5, 1.0]) \\\n",
    "            .addGrid(lr_model.maxIter,[20, 70]) \\\n",
    "            .build()\n",
    "f1_evaluator = MulticlassClassificationEvaluator(metricName=\"f1\")\n",
    "crossval_lr = CrossValidator(estimator=lr_model,\n",
    "                          estimatorParamMaps=paramGrid,\n",
    "                          evaluator=f1_evaluator,\n",
    "                          numFolds=5)\n",
    "\n",
    "start = time()\n",
    "cv_model_lr = crossval_lr.fit(train_df)\n",
    "end = time()\n",
    "print(\"The training process took {} seconds\".format(end - start))"
   ]
  },
  {
   "cell_type": "code",
   "execution_count": 196,
   "metadata": {},
   "outputs": [],
   "source": [
    "bestModel = cv_model_lr.bestModel\n",
    "# Save the best model\n",
    "cv_model_lr.bestModel.save(\"models/logistic_regression_model\")"
   ]
  },
  {
   "cell_type": "code",
   "execution_count": 172,
   "metadata": {},
   "outputs": [
    {
     "name": "stdout",
     "output_type": "stream",
     "text": [
      "Logistic Regression Evaluation:\n",
      "Accuracy: 0.6129\n",
      "F-1 Score: 0.5825\n"
     ]
    }
   ],
   "source": [
    "results_lr = cv_model_lr.transform(validation_df)\n",
    "evaluator = MulticlassClassificationEvaluator(predictionCol=\"prediction\")\n",
    "results = {}\n",
    "results[\"Logistic Regression\"] = {\n",
    "    \"F1 Score\": round(evaluator.evaluate(results_lr, {evaluator.metricName: \"f1\"}), 4),\n",
    "    \"Accuracy\": round(evaluator.evaluate(results_lr, {evaluator.metricName: \"accuracy\"}), 4),\n",
    "    \"Training Time\": end - start\n",
    "}\n",
    "print('Logistic Regression Evaluation:')\n",
    "print('Accuracy: {}'.format(results[\"Logistic Regression\"][\"Accuracy\"]))\n",
    "print('F-1 Score: {}'.format((results[\"Logistic Regression\"][\"F1 Score\"])))\n",
    "# bestModel.extractParamMap()"
   ]
  },
  {
   "cell_type": "code",
   "execution_count": 128,
   "metadata": {},
   "outputs": [
    {
     "name": "stdout",
     "output_type": "stream",
     "text": [
      "Logistic Regression Evaluation:\n",
      "Accuracy: 0.6452\n",
      "F-1 Score: 0.6246\n"
     ]
    }
   ],
   "source": [
    "results_lr = cv_model_lr.transform(validation_df)\n",
    "evaluator = MulticlassClassificationEvaluator(predictionCol=\"prediction\")\n",
    "results = {}\n",
    "results[\"Logistic Regression\"] = {\n",
    "    \"F1 Score\": round(evaluator.evaluate(results_lr, {evaluator.metricName: \"f1\"}), 4),\n",
    "    \"Accuracy\": round(evaluator.evaluate(results_lr, {evaluator.metricName: \"accuracy\"}), 4),\n",
    "    \"Training Time\": end - start\n",
    "}\n",
    "print('Logistic Regression Evaluation:')\n",
    "print('Accuracy: {}'.format(results[\"Logistic Regression\"][\"Accuracy\"]))\n",
    "print('F-1 Score: {}'.format((results[\"Logistic Regression\"][\"F1 Score\"])))"
   ]
  },
  {
   "cell_type": "code",
   "execution_count": 194,
   "metadata": {
    "collapsed": true,
    "jupyter": {
     "outputs_hidden": true,
     "source_hidden": true
    }
   },
   "outputs": [
    {
     "name": "stdout",
     "output_type": "stream",
     "text": [
      "{   'estimator': LogisticRegression_56cb79a891cd,\n",
      "    'estimatorParamMaps': [   {   Param(parent='LogisticRegression_56cb79a891cd', name='maxIter', doc='max number of iterations (>= 0).'): 20,\n",
      "                                  Param(parent='LogisticRegression_56cb79a891cd', name='elasticNetParam', doc='the ElasticNet mixing parameter, in range [0, 1]. For alpha = 0, the penalty is an L2 penalty. For alpha = 1, it is an L1 penalty.'): 0.0},\n",
      "                              {   Param(parent='LogisticRegression_56cb79a891cd', name='maxIter', doc='max number of iterations (>= 0).'): 70,\n",
      "                                  Param(parent='LogisticRegression_56cb79a891cd', name='elasticNetParam', doc='the ElasticNet mixing parameter, in range [0, 1]. For alpha = 0, the penalty is an L2 penalty. For alpha = 1, it is an L1 penalty.'): 0.0},\n",
      "                              {   Param(parent='LogisticRegression_56cb79a891cd', name='maxIter', doc='max number of iterations (>= 0).'): 20,\n",
      "                                  Param(parent='LogisticRegression_56cb79a891cd', name='elasticNetParam', doc='the ElasticNet mixing parameter, in range [0, 1]. For alpha = 0, the penalty is an L2 penalty. For alpha = 1, it is an L1 penalty.'): 0.5},\n",
      "                              {   Param(parent='LogisticRegression_56cb79a891cd', name='maxIter', doc='max number of iterations (>= 0).'): 70,\n",
      "                                  Param(parent='LogisticRegression_56cb79a891cd', name='elasticNetParam', doc='the ElasticNet mixing parameter, in range [0, 1]. For alpha = 0, the penalty is an L2 penalty. For alpha = 1, it is an L1 penalty.'): 0.5},\n",
      "                              {   Param(parent='LogisticRegression_56cb79a891cd', name='maxIter', doc='max number of iterations (>= 0).'): 20,\n",
      "                                  Param(parent='LogisticRegression_56cb79a891cd', name='elasticNetParam', doc='the ElasticNet mixing parameter, in range [0, 1]. For alpha = 0, the penalty is an L2 penalty. For alpha = 1, it is an L1 penalty.'): 1.0},\n",
      "                              {   Param(parent='LogisticRegression_56cb79a891cd', name='maxIter', doc='max number of iterations (>= 0).'): 70,\n",
      "                                  Param(parent='LogisticRegression_56cb79a891cd', name='elasticNetParam', doc='the ElasticNet mixing parameter, in range [0, 1]. For alpha = 0, the penalty is an L2 penalty. For alpha = 1, it is an L1 penalty.'): 1.0}],\n",
      "    'evaluator': MulticlassClassificationEvaluator_3fbd8e26228b,\n",
      "    'numFolds': 5,\n",
      "    'seed': 8883566767802165941}\n"
     ]
    }
   ],
   "source": [
    "pp.pprint({param[0].name: param[1] for param in cv_model_lr.extractParamMap().items()})"
   ]
  },
  {
   "cell_type": "markdown",
   "metadata": {},
   "source": [
    "## Random Forest"
   ]
  },
  {
   "cell_type": "code",
   "execution_count": 181,
   "metadata": {},
   "outputs": [
    {
     "name": "stdout",
     "output_type": "stream",
     "text": [
      "The training process took 3830.5083994865417 seconds\n",
      "CPU times: user 1min 10s, sys: 35.3 s, total: 1min 46s\n",
      "Wall time: 1h 3min 54s\n"
     ]
    }
   ],
   "source": [
    "%%time\n",
    "\n",
    "rf_model = RandomForestClassifier(\n",
    "        featuresCol = \"features\",\n",
    "        labelCol = \"label\",\n",
    "        maxMemoryInMB = 1000,\n",
    "        seed = 42\n",
    "    )\n",
    "# Create a parameter grid for tuning the model\n",
    "paramGrid = ParamGridBuilder() \\\n",
    "        .addGrid(rf_model.maxDepth, [3, 5, 10]) \\\n",
    "        .addGrid(rf_model.maxBins, [5, 10, 20]) \\\n",
    "        .addGrid(rf_model.numTrees, [20, 50, 100]) \\\n",
    "        .build()\n",
    "f1_evaluator = MulticlassClassificationEvaluator(metricName=\"f1\")\n",
    "crossval_rf = CrossValidator(estimator=rf_model,\n",
    "                          estimatorParamMaps=paramGrid,\n",
    "                          evaluator=f1_evaluator,\n",
    "                          numFolds=5)\n",
    "\n",
    "start = time()\n",
    "cv_model_rf = crossval_rf.fit(train_df)\n",
    "end = time()\n",
    "print(\"The training process took {} seconds\".format(end - start))\n",
    "# Save the best model\n",
    "cv_model_rf.bestModel.save(\"models/random_forest_model\");"
   ]
  },
  {
   "cell_type": "code",
   "execution_count": 182,
   "metadata": {},
   "outputs": [
    {
     "name": "stdout",
     "output_type": "stream",
     "text": [
      "Random Forest Evaluation:\n",
      "Accuracy: 0.5806\n",
      "F-1 Score: 0.5116\n"
     ]
    }
   ],
   "source": [
    "results_rf = cv_model_rf.transform(validation_df)\n",
    "evaluator_rf = MulticlassClassificationEvaluator(predictionCol=\"prediction\")\n",
    "results[\"Random Forest\"] = {\n",
    "    \"F1 Score\": round(evaluator_rf.evaluate(results_rf,\n",
    "                                            {evaluator_rf.metricName: \"f1\"}), 4),\n",
    "    \"Accuracy\": round(evaluator_rf.evaluate(results_rf,\n",
    "                                            {evaluator_rf.metricName: \"accuracy\"}), 4),\n",
    "    \"Training Time\": end - start\n",
    "}\n",
    "print('Random Forest Evaluation:')\n",
    "print('Accuracy: {}'.format(results[\"Random Forest\"][\"Accuracy\"]))\n",
    "print('F-1 Score: {}'.format(results[\"Random Forest\"][\"F1 Score\"]))"
   ]
  },
  {
   "cell_type": "code",
   "execution_count": 193,
   "metadata": {},
   "outputs": [
    {
     "name": "stdout",
     "output_type": "stream",
     "text": [
      "[   ('num_thumbs_up', 0.07733204940513239),\n",
      "    ('num_thumbs_down', 0.07143424675508053),\n",
      "    ('nb_artists', 0.06605925989153968),\n",
      "    ('avg_songs_played', 0.05230490797697774),\n",
      "    ('registration_days', 0.04927495433027354),\n",
      "    ('5', 0.04916401459911983),\n",
      "    ('avg_monthly_items', 0.048845276266205086),\n",
      "    ('0', 0.04539925971831853),\n",
      "    ('avg_monthly_session_duration', 0.044307436280779725),\n",
      "    ('18', 0.041971947533355966),\n",
      "    ('avg_daily_items', 0.03936867031319887),\n",
      "    ('6', 0.036939474918434564),\n",
      "    ('last_level', 0.03678065821589783),\n",
      "    ('9', 0.034693650135198595),\n",
      "    ('avg_daily_session_duration', 0.0332323607337267),\n",
      "    ('3', 0.030918909511350106),\n",
      "    ('11', 0.029475528585283243),\n",
      "    ('4', 0.02284324504304154),\n",
      "    ('8', 0.02161648639475434),\n",
      "    ('nb_errors', 0.02132950664911798),\n",
      "    ('7', 0.019876262840731927),\n",
      "    ('17', 0.01825141855148835),\n",
      "    ('15', 0.016480385148639823),\n",
      "    ('1', 0.014358326787778675),\n",
      "    ('13', 0.014104972623001985),\n",
      "    ('14', 0.01383782472723337),\n",
      "    ('19', 0.010874240219851686),\n",
      "    ('2', 0.01012456687137128),\n",
      "    ('16', 0.009849241178570039),\n",
      "    ('10', 0.009688394056742976),\n",
      "    ('12', 0.009262523737802971)]\n"
     ]
    }
   ],
   "source": [
    "tree_cv = cv_model_rf.bestModel\n",
    "# print(treeCV.toDebugString) #print the nodes of the decision tree model\n",
    "feature_importances = list(zip(features, tree_cv.featureImportances))\n",
    "feature_importances.sort(key = lambda x: x[1], reverse=True)\n",
    "pp.pprint(feature_importances)"
   ]
  },
  {
   "cell_type": "markdown",
   "metadata": {},
   "source": [
    "## Gradient Boosted Trees"
   ]
  },
  {
   "cell_type": "code",
   "execution_count": 184,
   "metadata": {},
   "outputs": [
    {
     "name": "stdout",
     "output_type": "stream",
     "text": [
      "The training process took 24720.599574804306 seconds\n",
      "CPU times: user 8min 5s, sys: 4min 25s, total: 12min 30s\n",
      "Wall time: 6h 52min\n"
     ]
    }
   ],
   "source": [
    "%%time\n",
    "gbt = GBTClassifier(seed=42,\n",
    "                    featuresCol = \"features\",\n",
    "                    labelCol = 'label')\n",
    "paramGrid = ParamGridBuilder() \\\n",
    "        .addGrid(gbt.maxDepth, [5, 10]) \\\n",
    "        .addGrid(gbt.maxBins, [40]) \\\n",
    "        .addGrid(gbt.maxIter, [70, 90]) \\\n",
    "        .build()\n",
    "\n",
    "f1_evaluator = MulticlassClassificationEvaluator(metricName='f1')\n",
    "crossval_gbt = CrossValidator(estimator=gbt,\n",
    "                          estimatorParamMaps=paramGrid,\n",
    "                          evaluator=f1_evaluator,\n",
    "                          numFolds=5)\n",
    "\n",
    "start = time()\n",
    "cv_model_gbt = crossval_gbt.fit(train_df)\n",
    "end = time()\n",
    "print('The training process took {} seconds'.format(end - start))"
   ]
  },
  {
   "cell_type": "code",
   "execution_count": 185,
   "metadata": {},
   "outputs": [
    {
     "name": "stdout",
     "output_type": "stream",
     "text": [
      "Gradient Boosted Trees Evaluation:\n",
      "Accuracy: 0.7097\n",
      "F-1 Score: 0.7019\n"
     ]
    }
   ],
   "source": [
    "results_gbt = cv_model_gbt.transform(validation_df)\n",
    "evaluator = MulticlassClassificationEvaluator(predictionCol=\"prediction\")\n",
    "results[\"Gradient Boosted Trees\"] = {\n",
    "    \"F1 Score\": round(evaluator.evaluate(results_gbt, {evaluator.metricName: \"f1\"}), 4),\n",
    "    \"Accuracy\": round(evaluator.evaluate(results_gbt, {evaluator.metricName: \"accuracy\"}), 4),\n",
    "    \"Training Time\": end - start\n",
    "}\n",
    "print('Gradient Boosted Trees Evaluation:')\n",
    "print('Accuracy: {}'.format(results[\"Gradient Boosted Trees\"][\"Accuracy\"]))\n",
    "print('F-1 Score: {}'.format((results[\"Gradient Boosted Trees\"][\"F1 Score\"])))"
   ]
  },
  {
   "cell_type": "markdown",
   "metadata": {},
   "source": [
    "### Features importance"
   ]
  },
  {
   "cell_type": "code",
   "execution_count": 199,
   "metadata": {},
   "outputs": [
    {
     "name": "stdout",
     "output_type": "stream",
     "text": [
      "[   ('num_thumbs_up', 0.09039255558006098),\n",
      "    ('avg_songs_played', 0.08587967824751257),\n",
      "    ('avg_monthly_session_duration', 0.07531071791682915),\n",
      "    ('num_thumbs_down', 0.07510757009333836),\n",
      "    ('6', 0.07241951145389233),\n",
      "    ('registration_days', 0.06241045274946306),\n",
      "    ('1', 0.049244877438463605),\n",
      "    ('avg_daily_items', 0.04254458886445517),\n",
      "    ('17', 0.042244132664897904),\n",
      "    ('last_level', 0.03986450146137531),\n",
      "    ('14', 0.03692377418119716),\n",
      "    ('7', 0.03449202650367153),\n",
      "    ('13', 0.03177730230268989),\n",
      "    ('0', 0.03164088455605157),\n",
      "    ('avg_monthly_items', 0.024603766556070716),\n",
      "    ('18', 0.023540569774974),\n",
      "    ('8', 0.02030410452674828),\n",
      "    ('5', 0.019207457326703238),\n",
      "    ('3', 0.01798116986549911),\n",
      "    ('nb_errors', 0.017109141123131503),\n",
      "    ('2', 0.015728576198860228),\n",
      "    ('15', 0.01199401085993992),\n",
      "    ('avg_daily_session_duration', 0.011781905984688422),\n",
      "    ('11', 0.011640021957057534),\n",
      "    ('19', 0.011497043923415247),\n",
      "    ('9', 0.01059136966084263),\n",
      "    ('16', 0.008589614777145206),\n",
      "    ('12', 0.008380779286641412),\n",
      "    ('nb_artists', 0.006188841118829223),\n",
      "    ('4', 0.005316046858974683),\n",
      "    ('10', 0.005293006186579906)]\n"
     ]
    }
   ],
   "source": [
    "gbt_bestmodel = cv_model_gbt.bestModel\n",
    "# gbt_bestmodel.save(\"models/sgd_model\")\n",
    "print(gbt_cv.toDebugString) #print the nodes of the decision tree model\n",
    "feature_importances = list(zip(features, gbt_bestmodel.featureImportances))\n",
    "feature_importances.sort(key = lambda x: x[1], reverse=True)\n",
    "pp.pprint(feature_importances)"
   ]
  },
  {
   "cell_type": "code",
   "execution_count": 188,
   "metadata": {
    "collapsed": true,
    "jupyter": {
     "outputs_hidden": true,
     "source_hidden": true
    }
   },
   "outputs": [
    {
     "name": "stdout",
     "output_type": "stream",
     "text": [
      "==================================\n",
      "Classifier <class 'pyspark.ml.classification.GBTClassificationModel'>\n",
      "==================================\n",
      "{'seed': 8883566767802165941, 'numFolds': 5, 'estimator': GBTClassifier_37836745d9dd, 'estimatorParamMaps': [{Param(parent='GBTClassifier_37836745d9dd', name='maxDepth', doc='Maximum depth of the tree. (>= 0) E.g., depth 0 means 1 leaf node; depth 1 means 1 internal node + 2 leaf nodes.'): 5, Param(parent='GBTClassifier_37836745d9dd', name='maxBins', doc='Max number of bins for discretizing continuous features.  Must be >=2 and >= number of categories for any categorical feature.'): 40, Param(parent='GBTClassifier_37836745d9dd', name='maxIter', doc='max number of iterations (>= 0).'): 70}, {Param(parent='GBTClassifier_37836745d9dd', name='maxDepth', doc='Maximum depth of the tree. (>= 0) E.g., depth 0 means 1 leaf node; depth 1 means 1 internal node + 2 leaf nodes.'): 5, Param(parent='GBTClassifier_37836745d9dd', name='maxBins', doc='Max number of bins for discretizing continuous features.  Must be >=2 and >= number of categories for any categorical feature.'): 40, Param(parent='GBTClassifier_37836745d9dd', name='maxIter', doc='max number of iterations (>= 0).'): 90}, {Param(parent='GBTClassifier_37836745d9dd', name='maxDepth', doc='Maximum depth of the tree. (>= 0) E.g., depth 0 means 1 leaf node; depth 1 means 1 internal node + 2 leaf nodes.'): 10, Param(parent='GBTClassifier_37836745d9dd', name='maxBins', doc='Max number of bins for discretizing continuous features.  Must be >=2 and >= number of categories for any categorical feature.'): 40, Param(parent='GBTClassifier_37836745d9dd', name='maxIter', doc='max number of iterations (>= 0).'): 70}, {Param(parent='GBTClassifier_37836745d9dd', name='maxDepth', doc='Maximum depth of the tree. (>= 0) E.g., depth 0 means 1 leaf node; depth 1 means 1 internal node + 2 leaf nodes.'): 10, Param(parent='GBTClassifier_37836745d9dd', name='maxBins', doc='Max number of bins for discretizing continuous features.  Must be >=2 and >= number of categories for any categorical feature.'): 40, Param(parent='GBTClassifier_37836745d9dd', name='maxIter', doc='max number of iterations (>= 0).'): 90}], 'evaluator': MulticlassClassificationEvaluator_ca441ae8a61d}\n",
      "==================================\n",
      "Classifier <class 'pyspark.ml.classification.RandomForestClassificationModel'>\n",
      "==================================\n",
      "{'seed': 8883566767802165941, 'numFolds': 5, 'estimator': RandomForestClassifier_5638c55b7c97, 'estimatorParamMaps': [{Param(parent='RandomForestClassifier_5638c55b7c97', name='maxDepth', doc='Maximum depth of the tree. (>= 0) E.g., depth 0 means 1 leaf node; depth 1 means 1 internal node + 2 leaf nodes.'): 3, Param(parent='RandomForestClassifier_5638c55b7c97', name='maxBins', doc='Max number of bins for discretizing continuous features.  Must be >=2 and >= number of categories for any categorical feature.'): 5, Param(parent='RandomForestClassifier_5638c55b7c97', name='numTrees', doc='Number of trees to train (>= 1).'): 20}, {Param(parent='RandomForestClassifier_5638c55b7c97', name='maxDepth', doc='Maximum depth of the tree. (>= 0) E.g., depth 0 means 1 leaf node; depth 1 means 1 internal node + 2 leaf nodes.'): 3, Param(parent='RandomForestClassifier_5638c55b7c97', name='maxBins', doc='Max number of bins for discretizing continuous features.  Must be >=2 and >= number of categories for any categorical feature.'): 5, Param(parent='RandomForestClassifier_5638c55b7c97', name='numTrees', doc='Number of trees to train (>= 1).'): 50}, {Param(parent='RandomForestClassifier_5638c55b7c97', name='maxDepth', doc='Maximum depth of the tree. (>= 0) E.g., depth 0 means 1 leaf node; depth 1 means 1 internal node + 2 leaf nodes.'): 3, Param(parent='RandomForestClassifier_5638c55b7c97', name='maxBins', doc='Max number of bins for discretizing continuous features.  Must be >=2 and >= number of categories for any categorical feature.'): 5, Param(parent='RandomForestClassifier_5638c55b7c97', name='numTrees', doc='Number of trees to train (>= 1).'): 100}, {Param(parent='RandomForestClassifier_5638c55b7c97', name='maxDepth', doc='Maximum depth of the tree. (>= 0) E.g., depth 0 means 1 leaf node; depth 1 means 1 internal node + 2 leaf nodes.'): 3, Param(parent='RandomForestClassifier_5638c55b7c97', name='maxBins', doc='Max number of bins for discretizing continuous features.  Must be >=2 and >= number of categories for any categorical feature.'): 10, Param(parent='RandomForestClassifier_5638c55b7c97', name='numTrees', doc='Number of trees to train (>= 1).'): 20}, {Param(parent='RandomForestClassifier_5638c55b7c97', name='maxDepth', doc='Maximum depth of the tree. (>= 0) E.g., depth 0 means 1 leaf node; depth 1 means 1 internal node + 2 leaf nodes.'): 3, Param(parent='RandomForestClassifier_5638c55b7c97', name='maxBins', doc='Max number of bins for discretizing continuous features.  Must be >=2 and >= number of categories for any categorical feature.'): 10, Param(parent='RandomForestClassifier_5638c55b7c97', name='numTrees', doc='Number of trees to train (>= 1).'): 50}, {Param(parent='RandomForestClassifier_5638c55b7c97', name='maxDepth', doc='Maximum depth of the tree. (>= 0) E.g., depth 0 means 1 leaf node; depth 1 means 1 internal node + 2 leaf nodes.'): 3, Param(parent='RandomForestClassifier_5638c55b7c97', name='maxBins', doc='Max number of bins for discretizing continuous features.  Must be >=2 and >= number of categories for any categorical feature.'): 10, Param(parent='RandomForestClassifier_5638c55b7c97', name='numTrees', doc='Number of trees to train (>= 1).'): 100}, {Param(parent='RandomForestClassifier_5638c55b7c97', name='maxDepth', doc='Maximum depth of the tree. (>= 0) E.g., depth 0 means 1 leaf node; depth 1 means 1 internal node + 2 leaf nodes.'): 3, Param(parent='RandomForestClassifier_5638c55b7c97', name='maxBins', doc='Max number of bins for discretizing continuous features.  Must be >=2 and >= number of categories for any categorical feature.'): 20, Param(parent='RandomForestClassifier_5638c55b7c97', name='numTrees', doc='Number of trees to train (>= 1).'): 20}, {Param(parent='RandomForestClassifier_5638c55b7c97', name='maxDepth', doc='Maximum depth of the tree. (>= 0) E.g., depth 0 means 1 leaf node; depth 1 means 1 internal node + 2 leaf nodes.'): 3, Param(parent='RandomForestClassifier_5638c55b7c97', name='maxBins', doc='Max number of bins for discretizing continuous features.  Must be >=2 and >= number of categories for any categorical feature.'): 20, Param(parent='RandomForestClassifier_5638c55b7c97', name='numTrees', doc='Number of trees to train (>= 1).'): 50}, {Param(parent='RandomForestClassifier_5638c55b7c97', name='maxDepth', doc='Maximum depth of the tree. (>= 0) E.g., depth 0 means 1 leaf node; depth 1 means 1 internal node + 2 leaf nodes.'): 3, Param(parent='RandomForestClassifier_5638c55b7c97', name='maxBins', doc='Max number of bins for discretizing continuous features.  Must be >=2 and >= number of categories for any categorical feature.'): 20, Param(parent='RandomForestClassifier_5638c55b7c97', name='numTrees', doc='Number of trees to train (>= 1).'): 100}, {Param(parent='RandomForestClassifier_5638c55b7c97', name='maxDepth', doc='Maximum depth of the tree. (>= 0) E.g., depth 0 means 1 leaf node; depth 1 means 1 internal node + 2 leaf nodes.'): 5, Param(parent='RandomForestClassifier_5638c55b7c97', name='maxBins', doc='Max number of bins for discretizing continuous features.  Must be >=2 and >= number of categories for any categorical feature.'): 5, Param(parent='RandomForestClassifier_5638c55b7c97', name='numTrees', doc='Number of trees to train (>= 1).'): 20}, {Param(parent='RandomForestClassifier_5638c55b7c97', name='maxDepth', doc='Maximum depth of the tree. (>= 0) E.g., depth 0 means 1 leaf node; depth 1 means 1 internal node + 2 leaf nodes.'): 5, Param(parent='RandomForestClassifier_5638c55b7c97', name='maxBins', doc='Max number of bins for discretizing continuous features.  Must be >=2 and >= number of categories for any categorical feature.'): 5, Param(parent='RandomForestClassifier_5638c55b7c97', name='numTrees', doc='Number of trees to train (>= 1).'): 50}, {Param(parent='RandomForestClassifier_5638c55b7c97', name='maxDepth', doc='Maximum depth of the tree. (>= 0) E.g., depth 0 means 1 leaf node; depth 1 means 1 internal node + 2 leaf nodes.'): 5, Param(parent='RandomForestClassifier_5638c55b7c97', name='maxBins', doc='Max number of bins for discretizing continuous features.  Must be >=2 and >= number of categories for any categorical feature.'): 5, Param(parent='RandomForestClassifier_5638c55b7c97', name='numTrees', doc='Number of trees to train (>= 1).'): 100}, {Param(parent='RandomForestClassifier_5638c55b7c97', name='maxDepth', doc='Maximum depth of the tree. (>= 0) E.g., depth 0 means 1 leaf node; depth 1 means 1 internal node + 2 leaf nodes.'): 5, Param(parent='RandomForestClassifier_5638c55b7c97', name='maxBins', doc='Max number of bins for discretizing continuous features.  Must be >=2 and >= number of categories for any categorical feature.'): 10, Param(parent='RandomForestClassifier_5638c55b7c97', name='numTrees', doc='Number of trees to train (>= 1).'): 20}, {Param(parent='RandomForestClassifier_5638c55b7c97', name='maxDepth', doc='Maximum depth of the tree. (>= 0) E.g., depth 0 means 1 leaf node; depth 1 means 1 internal node + 2 leaf nodes.'): 5, Param(parent='RandomForestClassifier_5638c55b7c97', name='maxBins', doc='Max number of bins for discretizing continuous features.  Must be >=2 and >= number of categories for any categorical feature.'): 10, Param(parent='RandomForestClassifier_5638c55b7c97', name='numTrees', doc='Number of trees to train (>= 1).'): 50}, {Param(parent='RandomForestClassifier_5638c55b7c97', name='maxDepth', doc='Maximum depth of the tree. (>= 0) E.g., depth 0 means 1 leaf node; depth 1 means 1 internal node + 2 leaf nodes.'): 5, Param(parent='RandomForestClassifier_5638c55b7c97', name='maxBins', doc='Max number of bins for discretizing continuous features.  Must be >=2 and >= number of categories for any categorical feature.'): 10, Param(parent='RandomForestClassifier_5638c55b7c97', name='numTrees', doc='Number of trees to train (>= 1).'): 100}, {Param(parent='RandomForestClassifier_5638c55b7c97', name='maxDepth', doc='Maximum depth of the tree. (>= 0) E.g., depth 0 means 1 leaf node; depth 1 means 1 internal node + 2 leaf nodes.'): 5, Param(parent='RandomForestClassifier_5638c55b7c97', name='maxBins', doc='Max number of bins for discretizing continuous features.  Must be >=2 and >= number of categories for any categorical feature.'): 20, Param(parent='RandomForestClassifier_5638c55b7c97', name='numTrees', doc='Number of trees to train (>= 1).'): 20}, {Param(parent='RandomForestClassifier_5638c55b7c97', name='maxDepth', doc='Maximum depth of the tree. (>= 0) E.g., depth 0 means 1 leaf node; depth 1 means 1 internal node + 2 leaf nodes.'): 5, Param(parent='RandomForestClassifier_5638c55b7c97', name='maxBins', doc='Max number of bins for discretizing continuous features.  Must be >=2 and >= number of categories for any categorical feature.'): 20, Param(parent='RandomForestClassifier_5638c55b7c97', name='numTrees', doc='Number of trees to train (>= 1).'): 50}, {Param(parent='RandomForestClassifier_5638c55b7c97', name='maxDepth', doc='Maximum depth of the tree. (>= 0) E.g., depth 0 means 1 leaf node; depth 1 means 1 internal node + 2 leaf nodes.'): 5, Param(parent='RandomForestClassifier_5638c55b7c97', name='maxBins', doc='Max number of bins for discretizing continuous features.  Must be >=2 and >= number of categories for any categorical feature.'): 20, Param(parent='RandomForestClassifier_5638c55b7c97', name='numTrees', doc='Number of trees to train (>= 1).'): 100}, {Param(parent='RandomForestClassifier_5638c55b7c97', name='maxDepth', doc='Maximum depth of the tree. (>= 0) E.g., depth 0 means 1 leaf node; depth 1 means 1 internal node + 2 leaf nodes.'): 10, Param(parent='RandomForestClassifier_5638c55b7c97', name='maxBins', doc='Max number of bins for discretizing continuous features.  Must be >=2 and >= number of categories for any categorical feature.'): 5, Param(parent='RandomForestClassifier_5638c55b7c97', name='numTrees', doc='Number of trees to train (>= 1).'): 20}, {Param(parent='RandomForestClassifier_5638c55b7c97', name='maxDepth', doc='Maximum depth of the tree. (>= 0) E.g., depth 0 means 1 leaf node; depth 1 means 1 internal node + 2 leaf nodes.'): 10, Param(parent='RandomForestClassifier_5638c55b7c97', name='maxBins', doc='Max number of bins for discretizing continuous features.  Must be >=2 and >= number of categories for any categorical feature.'): 5, Param(parent='RandomForestClassifier_5638c55b7c97', name='numTrees', doc='Number of trees to train (>= 1).'): 50}, {Param(parent='RandomForestClassifier_5638c55b7c97', name='maxDepth', doc='Maximum depth of the tree. (>= 0) E.g., depth 0 means 1 leaf node; depth 1 means 1 internal node + 2 leaf nodes.'): 10, Param(parent='RandomForestClassifier_5638c55b7c97', name='maxBins', doc='Max number of bins for discretizing continuous features.  Must be >=2 and >= number of categories for any categorical feature.'): 5, Param(parent='RandomForestClassifier_5638c55b7c97', name='numTrees', doc='Number of trees to train (>= 1).'): 100}, {Param(parent='RandomForestClassifier_5638c55b7c97', name='maxDepth', doc='Maximum depth of the tree. (>= 0) E.g., depth 0 means 1 leaf node; depth 1 means 1 internal node + 2 leaf nodes.'): 10, Param(parent='RandomForestClassifier_5638c55b7c97', name='maxBins', doc='Max number of bins for discretizing continuous features.  Must be >=2 and >= number of categories for any categorical feature.'): 10, Param(parent='RandomForestClassifier_5638c55b7c97', name='numTrees', doc='Number of trees to train (>= 1).'): 20}, {Param(parent='RandomForestClassifier_5638c55b7c97', name='maxDepth', doc='Maximum depth of the tree. (>= 0) E.g., depth 0 means 1 leaf node; depth 1 means 1 internal node + 2 leaf nodes.'): 10, Param(parent='RandomForestClassifier_5638c55b7c97', name='maxBins', doc='Max number of bins for discretizing continuous features.  Must be >=2 and >= number of categories for any categorical feature.'): 10, Param(parent='RandomForestClassifier_5638c55b7c97', name='numTrees', doc='Number of trees to train (>= 1).'): 50}, {Param(parent='RandomForestClassifier_5638c55b7c97', name='maxDepth', doc='Maximum depth of the tree. (>= 0) E.g., depth 0 means 1 leaf node; depth 1 means 1 internal node + 2 leaf nodes.'): 10, Param(parent='RandomForestClassifier_5638c55b7c97', name='maxBins', doc='Max number of bins for discretizing continuous features.  Must be >=2 and >= number of categories for any categorical feature.'): 10, Param(parent='RandomForestClassifier_5638c55b7c97', name='numTrees', doc='Number of trees to train (>= 1).'): 100}, {Param(parent='RandomForestClassifier_5638c55b7c97', name='maxDepth', doc='Maximum depth of the tree. (>= 0) E.g., depth 0 means 1 leaf node; depth 1 means 1 internal node + 2 leaf nodes.'): 10, Param(parent='RandomForestClassifier_5638c55b7c97', name='maxBins', doc='Max number of bins for discretizing continuous features.  Must be >=2 and >= number of categories for any categorical feature.'): 20, Param(parent='RandomForestClassifier_5638c55b7c97', name='numTrees', doc='Number of trees to train (>= 1).'): 20}, {Param(parent='RandomForestClassifier_5638c55b7c97', name='maxDepth', doc='Maximum depth of the tree. (>= 0) E.g., depth 0 means 1 leaf node; depth 1 means 1 internal node + 2 leaf nodes.'): 10, Param(parent='RandomForestClassifier_5638c55b7c97', name='maxBins', doc='Max number of bins for discretizing continuous features.  Must be >=2 and >= number of categories for any categorical feature.'): 20, Param(parent='RandomForestClassifier_5638c55b7c97', name='numTrees', doc='Number of trees to train (>= 1).'): 50}, {Param(parent='RandomForestClassifier_5638c55b7c97', name='maxDepth', doc='Maximum depth of the tree. (>= 0) E.g., depth 0 means 1 leaf node; depth 1 means 1 internal node + 2 leaf nodes.'): 10, Param(parent='RandomForestClassifier_5638c55b7c97', name='maxBins', doc='Max number of bins for discretizing continuous features.  Must be >=2 and >= number of categories for any categorical feature.'): 20, Param(parent='RandomForestClassifier_5638c55b7c97', name='numTrees', doc='Number of trees to train (>= 1).'): 100}], 'evaluator': MulticlassClassificationEvaluator_5cb5187e488f}\n"
     ]
    }
   ],
   "source": [
    "# Get all params for each of the estimators\n",
    "for est in [cv_model_gbt, cv_model_rf]:\n",
    "    print(\"==================================\")\n",
    "    print(\"Classifier {}\".format(est.bestModel.__class__))\n",
    "    print(\"==================================\")\n",
    "    print({param[0].name: param[1] for param in est.extractParamMap().items()})\n"
   ]
  },
  {
   "cell_type": "code",
   "execution_count": 124,
   "metadata": {
    "jupyter": {
     "source_hidden": true
    }
   },
   "outputs": [],
   "source": [
    "# # unzip the list of tuples\n",
    "# importances = list(zip(*feature_importances)) \n",
    "# x_values = list(range(len(feature_importances)))\n",
    "# plt.bar(x_values, importances[1], orientation = 'vertical')\n",
    "# # plt.xticks(importances[0], rotation=40)\n",
    "# plt.ylabel('Importance')\n",
    "# plt.xlabel('Features')\n",
    "# plt.title('Features Importances');"
   ]
  },
  {
   "cell_type": "markdown",
   "metadata": {},
   "source": [
    "## Models evaluation results"
   ]
  },
  {
   "cell_type": "code",
   "execution_count": 195,
   "metadata": {},
   "outputs": [
    {
     "data": {
      "text/html": [
       "<div>\n",
       "<style scoped>\n",
       "    .dataframe tbody tr th:only-of-type {\n",
       "        vertical-align: middle;\n",
       "    }\n",
       "\n",
       "    .dataframe tbody tr th {\n",
       "        vertical-align: top;\n",
       "    }\n",
       "\n",
       "    .dataframe thead th {\n",
       "        text-align: right;\n",
       "    }\n",
       "</style>\n",
       "<table border=\"1\" class=\"dataframe\">\n",
       "  <thead>\n",
       "    <tr style=\"text-align: right;\">\n",
       "      <th></th>\n",
       "      <th>Logistic Regression</th>\n",
       "      <th>Random Forest</th>\n",
       "      <th>Gradient Boosted Trees</th>\n",
       "    </tr>\n",
       "  </thead>\n",
       "  <tbody>\n",
       "    <tr>\n",
       "      <th>F1 Score</th>\n",
       "      <td>0.582500</td>\n",
       "      <td>0.511600</td>\n",
       "      <td>0.701900</td>\n",
       "    </tr>\n",
       "    <tr>\n",
       "      <th>Accuracy</th>\n",
       "      <td>0.612900</td>\n",
       "      <td>0.580600</td>\n",
       "      <td>0.709700</td>\n",
       "    </tr>\n",
       "    <tr>\n",
       "      <th>Training Time</th>\n",
       "      <td>2275.374288</td>\n",
       "      <td>3830.508399</td>\n",
       "      <td>24720.599575</td>\n",
       "    </tr>\n",
       "  </tbody>\n",
       "</table>\n",
       "</div>"
      ],
      "text/plain": [
       "               Logistic Regression  Random Forest  Gradient Boosted Trees\n",
       "F1 Score                  0.582500       0.511600                0.701900\n",
       "Accuracy                  0.612900       0.580600                0.709700\n",
       "Training Time          2275.374288    3830.508399            24720.599575"
      ]
     },
     "execution_count": 195,
     "metadata": {},
     "output_type": "execute_result"
    }
   ],
   "source": [
    "results_df = pd.DataFrame(results)\n",
    "results_df"
   ]
  },
  {
   "cell_type": "markdown",
   "metadata": {},
   "source": [
    "## Conclusion  <a id='conclusion'></a>\n",
    "\n",
    "We implemented a model to predict the  customer propensity to churn. For that we performed `data cleaning`. We then performed multiple `data explorations` to see how various indicators can help in distinguishing between `Churned` and `Engaged` users. Then, we defined the customer churn indicator. Some categorical and numerical features were then extracted from the dataset. And we performed `feature engineering` to define the list of features that could be fed into the Machine Learning model.\n",
    "We split the data into training and validation data sets. And as a final step of the whole ML process we did model training by trying out the following models: Gradient Boosted Tree, Logistic Regression, and Random Forest. We used cross validation and grid search to fine tune the different models. Their `performance` got compared using the `F1 score`. Gradient Boosted Trees turned to be the winning model in predicting how likely is a user to churn. We achieved about `70%` accuracy, and `0.7` F1 score."
   ]
  },
  {
   "cell_type": "markdown",
   "metadata": {},
   "source": [
    "# Next Steps\n",
    "\n",
    "Next step would be the following:\n",
    "\n",
    "   > Load a more substantial dataset to a clustered Spark environment\n",
    "\n",
    "TODO: Split the notebook in different notebooks one for each of the steps:\n",
    "\n",
    "    - Data Cleaning\n",
    "    - Data Exploration\n",
    "    - Feature Engineering\n",
    "    - Modeling"
   ]
  },
  {
   "cell_type": "code",
   "execution_count": null,
   "metadata": {},
   "outputs": [],
   "source": []
  }
 ],
 "metadata": {
  "kernelspec": {
   "display_name": "Python 3",
   "language": "python",
   "name": "python3"
  },
  "language_info": {
   "codemirror_mode": {
    "name": "ipython",
    "version": 3
   },
   "file_extension": ".py",
   "mimetype": "text/x-python",
   "name": "python",
   "nbconvert_exporter": "python",
   "pygments_lexer": "ipython3",
   "version": "3.7.7"
  }
 },
 "nbformat": 4,
 "nbformat_minor": 4
}
